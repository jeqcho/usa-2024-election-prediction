{
 "cells": [
  {
   "cell_type": "code",
   "execution_count": 8,
   "id": "435ca800-c758-4855-a7a8-22d88dd43aef",
   "metadata": {},
   "outputs": [
    {
     "name": "stdout",
     "output_type": "stream",
     "text": [
      "https://www.presidency.ucsb.edu/statistics/data/joseph-r-biden-public-approval\n",
      "https://www.presidency.ucsb.edu/statistics/data/george-bush-public-approval\n",
      "https://www.presidency.ucsb.edu/statistics/data/dwight-d-eisenhower-public-approval\n",
      "https://www.presidency.ucsb.edu/statistics/data/richard-m-nixon-public-approval\n",
      "https://www.presidency.ucsb.edu/statistics/data/barack-obama-public-approval\n",
      "https://www.presidency.ucsb.edu/statistics/data/lyndon-b-johnson-public-approval\n",
      "https://www.presidency.ucsb.edu/statistics/data/john-f-kennedy-public-approval\n",
      "https://www.presidency.ucsb.edu/statistics/data/jimmy-carter-public-approval\n",
      "https://www.presidency.ucsb.edu/statistics/data/gerald-r-ford-public-approval\n",
      "https://www.presidency.ucsb.edu/statistics/data/ronald-reagan-public-approval\n",
      "https://www.presidency.ucsb.edu/statistics/data/harry-s-truman-public-approval\n",
      "https://www.presidency.ucsb.edu/statistics/data/william-j-clinton-public-approval\n",
      "https://www.presidency.ucsb.edu/statistics/data/donald-j-trump-public-approval\n",
      "https://www.presidency.ucsb.edu/statistics/data/franklin-d-roosevelt-public-approval\n",
      "https://www.presidency.ucsb.edu/statistics/data/george-w-bush-public-approval\n"
     ]
    }
   ],
   "source": [
    "import requests\n",
    "from bs4 import BeautifulSoup\n",
    "\n",
    "url = 'https://www.presidency.ucsb.edu/statistics/data/presidential-job-approval-all-data'\n",
    "response = requests.get(url)\n",
    "soup = BeautifulSoup(response.text, 'html.parser')\n",
    "\n",
    "# Use a set to ensure uniqueness of links\n",
    "approval_links = set()\n",
    "\n",
    "# Find all links and filter for those ending with 'public-approval'\n",
    "for link in soup.find_all('a', href=True):\n",
    "    if link['href'].endswith('public-approval'):\n",
    "        approval_links.add(link['href'])  # Uniqueness based on link\n",
    "\n",
    "# Print the unique filtered links\n",
    "for link in approval_links:\n",
    "    print(f'{link}')"
   ]
  },
  {
   "cell_type": "code",
   "execution_count": 9,
   "id": "c4d79ba0-20f3-4fb8-b36b-c3980aa3aced",
   "metadata": {},
   "outputs": [
    {
     "name": "stdout",
     "output_type": "stream",
     "text": [
      "    Start Date    End Date Approving Disapproving Unsure/NoData\n",
      "0     9/3/2024   9/15/2024        39           58             3\n",
      "1     8/1/2024   8/20/2024        43           53             4\n",
      "2     7/1/2024   7/21/2024        36           58             6\n",
      "3     6/3/2024   6/23/2024        38           58             4\n",
      "4     5/1/2024   5/23/2024        39           56             5\n",
      "5     4/1/2024   4/22/2024        38           58             4\n",
      "6     3/1/2024   3/20/2024        40           55             5\n",
      "7     2/1/2024   2/20/2024        38           59             3\n",
      "8     1/2/2024   1/22/2024        41           54             5\n",
      "9    12/1/2023  12/20/2023        39           59             2\n",
      "10   11/1/2023  11/20/2023        37           59             4\n",
      "11   10/2/2023  10/23/2023        37           59             4\n",
      "12    9/1/2023   9/23/2023        41           58             1\n",
      "13    8/1/2023   8/23/2023        42           53             5\n",
      "14    7/3/2023   7/27/2023        40           55             4\n",
      "15    6/1/2023   6/22/2023        43           54             3\n",
      "16    5/1/2023   5/24/2023        39           57             5\n",
      "17    4/3/2023   4/25/2023        37           59             4\n",
      "18    3/1/2023   3/23/2023        40           56             4\n",
      "19    2/1/2023   2/23/2023        42           54             5\n",
      "20    1/2/2023   1/22/2023        41           54             4\n",
      "21   11/9/2022   12/2/2022        40           55             5\n",
      "22   10/3/2022  10/20/2022        40           56             4\n",
      "23    9/1/2022   9/16/2022        42           56             2\n",
      "24    8/1/2022   8/23/2022        44           53             3\n",
      "25    7/5/2022   7/26/2022        38           59             3\n",
      "26    6/1/2022   6/20/2022        41           57             3\n",
      "27    5/2/2022   5/22/2022        41           54             5\n",
      "28    4/1/2022   4/19/2022        41           56             3\n",
      "29    3/1/2022   3/18/2022        42           54             4\n",
      "30    2/1/2022   2/17/2022        41           55             4\n",
      "31    1/3/2022   1/16/2022        40           56             4\n",
      "32  12/1/2/021  12/16/2021        43           51             6\n",
      "33   11/1/2021  11/16/2021        42           55             3\n",
      "34     10/1/21  10/19/2021        42           52             6\n",
      "35      9/1/21   9/17/2021        43           55             2\n",
      "36      8/2/21   8/17/2021        49           48             3\n",
      "37      7/6/21   7/21/2021        50           45             5\n",
      "38      6/1/21   6/18/2021        56           42             2\n",
      "39      5/3/21   5/18/2021        54           40             6\n",
      "40      4/1/21   4/21/2021        57           40             3\n",
      "41      3/1/21   3/15/2021        54           42             4\n",
      "42      2/3/21   2/18/2021        56           40             4\n",
      "43     1/21/21    2/2/2021        57           37             6\n"
     ]
    }
   ],
   "source": [
    "import pandas as pd\n",
    "\n",
    "def get_approval_data(link):\n",
    "    # Request the page\n",
    "    response = requests.get(link)\n",
    "    soup = BeautifulSoup(response.text, 'html.parser')\n",
    "\n",
    "    # Find the table in the page\n",
    "    table = soup.find('table')\n",
    "\n",
    "    # Parse the table into a DataFrame\n",
    "    rows = []\n",
    "    headers = [header.text.strip() for header in table.find_all('th')]\n",
    "    \n",
    "    for row in table.find_all('tr')[1:]:\n",
    "        cols = [col.text.strip() for col in row.find_all('td')]\n",
    "        rows.append(cols)\n",
    "    \n",
    "    # Convert to DataFrame\n",
    "    df = pd.DataFrame(rows, columns=headers)\n",
    "    return df\n",
    "\n",
    "# Example: Fetching Joseph R. Biden's approval data\n",
    "link = 'https://www.presidency.ucsb.edu/statistics/data/joseph-r-biden-public-approval'\n",
    "df_biden = get_approval_data(link)\n",
    "\n",
    "# Display the DataFrame\n",
    "print(df_biden)"
   ]
  },
  {
   "cell_type": "code",
   "execution_count": 10,
   "id": "c69a7363-f34f-462d-a860-fc9833fec3e6",
   "metadata": {},
   "outputs": [
    {
     "name": "stdout",
     "output_type": "stream",
     "text": [
      "     Start Date   End Date Approving Disapproving Unsure/NoData     \n",
      "0      9/3/2024  9/15/2024        39           58             3  NaN\n",
      "1      8/1/2024  8/20/2024        43           53             4  NaN\n",
      "2      7/1/2024  7/21/2024        36           58             6  NaN\n",
      "3      6/3/2024  6/23/2024        38           58             4  NaN\n",
      "4      5/1/2024  5/23/2024        39           56             5  NaN\n",
      "...         ...        ...       ...          ...           ...  ...\n",
      "1899   3/9/2001  3/11/2001        58           29            13  NaN\n",
      "1900   3/5/2001   3/7/2001        63           22            15  NaN\n",
      "1901  2/19/2001  2/21/2001        62           21            17  NaN\n",
      "1902   2/9/2001  2/11/2001        57           25            18  NaN\n",
      "1903   2/1/2001   2/4/2001        57           25            18  NaN\n",
      "\n",
      "[1904 rows x 6 columns]\n"
     ]
    }
   ],
   "source": [
    "# Iterate over each link, scrape the data, and combine into one DataFrame\n",
    "all_data = pd.DataFrame()\n",
    "for link in approval_links:\n",
    "    df = get_approval_data(link)\n",
    "    all_data = pd.concat([all_data, df], ignore_index=True)\n",
    "\n",
    "# Display the combined DataFrame\n",
    "print(all_data)"
   ]
  },
  {
   "cell_type": "code",
   "execution_count": 11,
   "id": "2053827c-8d23-45aa-b803-2fe6ddb9049f",
   "metadata": {},
   "outputs": [
    {
     "name": "stdout",
     "output_type": "stream",
     "text": [
      "     Start Date   End Date Approving Disapproving Unsure/NoData     \n",
      "0    2024-09-03 2024-09-15        39           58             3  NaN\n",
      "12   2023-09-01 2023-09-23        41           58             1  NaN\n",
      "23   2022-09-01 2022-09-16        42           56             2  NaN\n",
      "35          NaT 2021-09-17        43           55             2  NaN\n",
      "50   1992-09-17 1992-09-20        36           54            10  NaN\n",
      "...         ...        ...       ...          ...           ...  ...\n",
      "1842 2002-09-05 2002-09-08        66           30             4  NaN\n",
      "1843 2002-09-02 2002-09-04        66           29             5  NaN\n",
      "1881 2001-09-21 2001-09-22        90            6             4  NaN\n",
      "1882 2001-09-14 2001-09-15        86           10             4  NaN\n",
      "1883 2001-09-07 2001-09-10        51           39            10  NaN\n",
      "\n",
      "[172 rows x 6 columns]\n"
     ]
    }
   ],
   "source": [
    "# Convert 'Start Date' and 'End Date' to datetime format for easier filtering\n",
    "all_data['Start Date'] = pd.to_datetime(all_data['Start Date'], errors='coerce')\n",
    "all_data['End Date'] = pd.to_datetime(all_data['End Date'], errors='coerce')\n",
    "\n",
    "# Filter rows where either Start Date or End Date is in September\n",
    "september_data = all_data[\n",
    "    (all_data['Start Date'].dt.month == 9) | (all_data['End Date'].dt.month == 9)\n",
    "]\n",
    "\n",
    "# Display the filtered DataFrame\n",
    "print(september_data)"
   ]
  },
  {
   "cell_type": "code",
   "execution_count": 13,
   "id": "3bc70295-8967-4887-9f00-06d0e261d951",
   "metadata": {},
   "outputs": [
    {
     "name": "stdout",
     "output_type": "stream",
     "text": [
      "     Start Date   End Date Approving Disapproving Unsure/NoData         Year\n",
      "50   1992-09-17 1992-09-20        36           54            10  NaN  1992.0\n",
      "51   1992-09-11 1992-09-15        39           55             6  NaN  1992.0\n",
      "52   1992-08-31 1992-09-02        39           54             7  NaN  1992.0\n",
      "387  2016-09-26 2016-10-02        53           44             3  NaN  2016.0\n",
      "388  2016-09-19 2016-09-25        53           43             4  NaN  2016.0\n",
      "389  2016-09-12 2016-09-18        52           44             4  NaN  2016.0\n",
      "390  2016-09-05 2016-09-11        51           45             4  NaN  2016.0\n",
      "391  2016-08-29 2016-09-04        52           44             4  NaN  2016.0\n",
      "596  2012-09-24 2012-09-30        48           45             7  NaN  2012.0\n",
      "597  2012-09-17 2012-09-23        49           45             6  NaN  2012.0\n",
      "598  2012-09-10 2012-09-16        50           44             6  NaN  2012.0\n",
      "599  2012-09-03 2012-09-09        50           44             6  NaN  2012.0\n",
      "600  2012-08-27 2012-09-02        44           47             9  NaN  2012.0\n",
      "793  1968-09-19 1968-09-24        42           51             7  NaN  1968.0\n",
      "915  1980-09-12 1980-09-15        37           55             8  NaN  1980.0\n",
      "1043 1988-09-25 1988-10-01        54           37             9  NaN  1988.0\n",
      "1098 1984-09-28 1984-10-01        54           35            11  NaN  1984.0\n",
      "1099 1984-09-21 1984-09-24        57           36             7  NaN  1984.0\n",
      "1100 1984-09-07 1984-09-10        57           36             7  NaN  1984.0\n",
      "1250 2000-09-11 2000-09-13        60           34             6  NaN  2000.0\n",
      "1251 2000-08-29 2000-09-03        62           35             3  NaN  2000.0\n",
      "1362 1996-09-07 1996-09-09        60           31             9  NaN  1996.0\n",
      "1363 1996-08-30 1996-09-01        60           33             7  NaN  1996.0\n",
      "1463 2020-09-30 2020-10-15        43           55             2  NaN  2020.0\n",
      "1464 2020-09-14 2020-09-28        46           52             2  NaN  2020.0\n",
      "1465 2020-08-31 2020-09-13        42           56             2  NaN  2020.0\n",
      "1631 2008-09-26 2008-09-27        27           69             4  NaN  2008.0\n",
      "1632 2008-09-08 2008-09-11        31           65             4  NaN  2008.0\n",
      "1633 2008-09-05 2008-09-07        33           64             3  NaN  2008.0\n",
      "1762 2004-09-24 2004-09-26        54           44             2  NaN  2004.0\n",
      "1763 2004-09-13 2004-09-15        52           45             3  NaN  2004.0\n",
      "1764 2004-09-03 2004-09-05        52           46             2  NaN  2004.0\n"
     ]
    }
   ],
   "source": [
    "# Assuming 'september_data' already contains only rows from September\n",
    "\n",
    "# Extract the year from the 'Start Date' in september_data\n",
    "september_data.loc[:, 'Year'] = september_data['Start Date'].dt.year\n",
    "\n",
    "# Define the list of years you're interested in\n",
    "years_of_interest = [1948, 1952, 1956, 1960, 1964, 1968, 1972, 1976, 1980, 1984, 1988, \n",
    "                     1992, 1996, 2000, 2004, 2008, 2012, 2016, 2020]\n",
    "\n",
    "# Filter the September data for only the years of interest\n",
    "filtered_september_data = september_data[september_data['Year'].isin(years_of_interest)]\n",
    "\n",
    "# Display the filtered DataFrame\n",
    "print(filtered_september_data)"
   ]
  },
  {
   "cell_type": "code",
   "execution_count": 14,
   "id": "3b02f47a-2fb3-4be2-b875-06c21f8e8e77",
   "metadata": {},
   "outputs": [
    {
     "name": "stdout",
     "output_type": "stream",
     "text": [
      "     Start Date   End Date Approving Disapproving Unsure/NoData         Year\n",
      "793  1968-09-19 1968-09-24        42           51             7  NaN  1968.0\n",
      "915  1980-09-12 1980-09-15        37           55             8  NaN  1980.0\n",
      "1098 1984-09-28 1984-10-01        54           35            11  NaN  1984.0\n",
      "1043 1988-09-25 1988-10-01        54           37             9  NaN  1988.0\n",
      "50   1992-09-17 1992-09-20        36           54            10  NaN  1992.0\n",
      "1362 1996-09-07 1996-09-09        60           31             9  NaN  1996.0\n",
      "1250 2000-09-11 2000-09-13        60           34             6  NaN  2000.0\n",
      "1762 2004-09-24 2004-09-26        54           44             2  NaN  2004.0\n",
      "1631 2008-09-26 2008-09-27        27           69             4  NaN  2008.0\n",
      "596  2012-09-24 2012-09-30        48           45             7  NaN  2012.0\n",
      "387  2016-09-26 2016-10-02        53           44             3  NaN  2016.0\n",
      "1463 2020-09-30 2020-10-15        43           55             2  NaN  2020.0\n"
     ]
    }
   ],
   "source": [
    "# Ensure 'End Date' is in datetime format for proper sorting\n",
    "filtered_september_data.loc[:, 'End Date'] = pd.to_datetime(filtered_september_data['End Date'], errors='coerce')\n",
    "\n",
    "# Sort the data by 'Year' and 'End Date' to ensure the latest entry comes last\n",
    "filtered_september_data = filtered_september_data.sort_values(by=['Year', 'End Date'], ascending=[True, False])\n",
    "\n",
    "# Drop duplicates to keep only the latest entry for each year\n",
    "latest_september_data = filtered_september_data.drop_duplicates(subset='Year', keep='first')\n",
    "\n",
    "# Display the latest data for each year\n",
    "print(latest_september_data)"
   ]
  },
  {
   "cell_type": "code",
   "execution_count": 16,
   "id": "f5d06071-46a8-4415-9705-ddbe2b6696fd",
   "metadata": {},
   "outputs": [
    {
     "data": {
      "text/plain": [
       "(12, 7)"
      ]
     },
     "execution_count": 16,
     "metadata": {},
     "output_type": "execute_result"
    }
   ],
   "source": [
    "latest_september_data.shape"
   ]
  },
  {
   "cell_type": "code",
   "execution_count": 20,
   "id": "0bcffc05-711d-40d6-bf45-9c12d6c4ed2c",
   "metadata": {},
   "outputs": [
    {
     "name": "stdout",
     "output_type": "stream",
     "text": [
      "        year sepapp\n",
      "793   1968.0     42\n",
      "915   1980.0     37\n",
      "1098  1984.0     54\n",
      "1043  1988.0     54\n",
      "50    1992.0     36\n",
      "1362  1996.0     60\n",
      "1250  2000.0     60\n",
      "1762  2004.0     54\n",
      "1631  2008.0     27\n",
      "596   2012.0     48\n",
      "387   2016.0     53\n",
      "1463  2020.0     43\n"
     ]
    }
   ],
   "source": [
    "# Create a new DataFrame with just 'Year' and 'Approving' (renaming it to 'sepapp')\n",
    "final_df = latest_september_data[['Year', 'Approving']].rename(columns={'Approving': 'sepapp', 'Year':'year'})\n",
    "\n",
    "# Display the final DataFrame\n",
    "print(final_df)"
   ]
  },
  {
   "cell_type": "code",
   "execution_count": 21,
   "id": "b91dd4ac-f874-4be4-9683-d04bd70fd95d",
   "metadata": {},
   "outputs": [],
   "source": [
    "# Save the final DataFrame to a CSV file\n",
    "final_df.to_csv('data/latest_september_data.csv', index=False)"
   ]
  },
  {
   "cell_type": "code",
   "execution_count": null,
   "id": "d989602b-2d20-451a-8bc0-d82e3ea53bfb",
   "metadata": {},
   "outputs": [],
   "source": []
  }
 ],
 "metadata": {
  "kernelspec": {
   "display_name": "1347env",
   "language": "python",
   "name": "1347env"
  },
  "language_info": {
   "codemirror_mode": {
    "name": "ipython",
    "version": 3
   },
   "file_extension": ".py",
   "mimetype": "text/x-python",
   "name": "python",
   "nbconvert_exporter": "python",
   "pygments_lexer": "ipython3",
   "version": "3.12.2"
  }
 },
 "nbformat": 4,
 "nbformat_minor": 5
}
