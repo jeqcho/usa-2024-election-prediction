{
 "cells": [
  {
   "cell_type": "code",
   "execution_count": 24,
   "metadata": {},
   "outputs": [],
   "source": [
    "import requests\n",
    "import os\n",
    "import json\n",
    "import pandas as pd"
   ]
  },
  {
   "cell_type": "code",
   "execution_count": 5,
   "metadata": {},
   "outputs": [],
   "source": [
    "# example url\n",
    "# https://interactives.apelections.org/election-results/data-live/2024-11-05/results/races/AL/20241105AL0/detail.json\n",
    "\n",
    "def get_state_url(state_abbr: str) -> str:\n",
    "    date = \"2024-11-05\"\n",
    "    compressed_date = date.replace(\"-\",'')\n",
    "    url = f\"https://interactives.apelections.org/election-results/data-live/{date}/results/races/{state_abbr}/{compressed_date}{state_abbr}0/detail.json\"\n",
    "    return url"
   ]
  },
  {
   "cell_type": "code",
   "execution_count": 6,
   "metadata": {},
   "outputs": [],
   "source": [
    "state_abbreviations = [\n",
    "    'AL', 'AK', 'AZ', 'AR', 'CA', 'CO', 'CT', 'DE', 'FL', 'GA',\n",
    "    'HI', 'ID', 'IL', 'IN', 'IA', 'KS', 'KY', 'LA', 'ME', 'MD',\n",
    "    'MA', 'MI', 'MN', 'MS', 'MO', 'MT', 'NE', 'NV', 'NH', 'NJ',\n",
    "    'NM', 'NY', 'NC', 'ND', 'OH', 'OK', 'OR', 'PA', 'RI', 'SC',\n",
    "    'SD', 'TN', 'TX', 'UT', 'VT', 'VA', 'WA', 'WV', 'WI', 'WY'\n",
    "]"
   ]
  },
  {
   "cell_type": "code",
   "execution_count": 8,
   "metadata": {},
   "outputs": [
    {
     "data": {
      "text/plain": [
       "['https://interactives.apelections.org/election-results/data-live/2024-11-05/results/races/AL/20241105AL0/detail.json',\n",
       " 'https://interactives.apelections.org/election-results/data-live/2024-11-05/results/races/AK/20241105AK0/detail.json']"
      ]
     },
     "execution_count": 8,
     "metadata": {},
     "output_type": "execute_result"
    }
   ],
   "source": [
    "state_urls = [get_state_url(state) for state in state_abbreviations]\n",
    "state_urls[:2]"
   ]
  },
  {
   "cell_type": "code",
   "execution_count": 10,
   "metadata": {},
   "outputs": [
    {
     "name": "stdout",
     "output_type": "stream",
     "text": [
      "Successfully saved AL.json\n",
      "Successfully saved AK.json\n",
      "Successfully saved AZ.json\n",
      "Successfully saved AR.json\n",
      "Successfully saved CA.json\n",
      "Successfully saved CO.json\n",
      "Successfully saved CT.json\n",
      "Successfully saved DE.json\n",
      "Successfully saved FL.json\n",
      "Successfully saved GA.json\n",
      "Successfully saved HI.json\n",
      "Successfully saved ID.json\n",
      "Successfully saved IL.json\n",
      "Successfully saved IN.json\n",
      "Successfully saved IA.json\n",
      "Successfully saved KS.json\n",
      "Successfully saved KY.json\n",
      "Successfully saved LA.json\n",
      "Successfully saved ME.json\n",
      "Successfully saved MD.json\n",
      "Successfully saved MA.json\n",
      "Successfully saved MI.json\n",
      "Successfully saved MN.json\n",
      "Successfully saved MS.json\n",
      "Successfully saved MO.json\n",
      "Successfully saved MT.json\n",
      "Successfully saved NE.json\n",
      "Successfully saved NV.json\n",
      "Successfully saved NH.json\n",
      "Successfully saved NJ.json\n",
      "Successfully saved NM.json\n",
      "Successfully saved NY.json\n",
      "Successfully saved NC.json\n",
      "Successfully saved ND.json\n",
      "Successfully saved OH.json\n",
      "Successfully saved OK.json\n",
      "Successfully saved OR.json\n",
      "Successfully saved PA.json\n",
      "Successfully saved RI.json\n",
      "Successfully saved SC.json\n",
      "Successfully saved SD.json\n",
      "Successfully saved TN.json\n",
      "Successfully saved TX.json\n",
      "Successfully saved UT.json\n",
      "Successfully saved VT.json\n",
      "Successfully saved VA.json\n",
      "Successfully saved WA.json\n",
      "Successfully saved WV.json\n",
      "Successfully saved WI.json\n",
      "Successfully saved WY.json\n"
     ]
    }
   ],
   "source": [
    "# Folder to save the JSON files\n",
    "output_folder = 'state_json_files'\n",
    "os.makedirs(output_folder, exist_ok=True)\n",
    "\n",
    "# Loop through the state URLs, fetch the JSON data, and save to files\n",
    "for url, abbr in zip(state_urls, state_abbreviations):\n",
    "    try:\n",
    "        response = requests.get(url)\n",
    "        response.raise_for_status()  # Check for HTTP errors\n",
    "\n",
    "        # Save the JSON content to a file\n",
    "        file_path = os.path.join(output_folder, f'{abbr}.json')\n",
    "        with open(file_path, 'w') as file:\n",
    "            file.write(response.text)\n",
    "\n",
    "        print(f'Successfully saved {abbr}.json')\n",
    "\n",
    "    except requests.exceptions.HTTPError as http_err:\n",
    "        print(f'HTTP error occurred for {abbr}: {http_err}')\n",
    "    except Exception as err:\n",
    "        print(f'An error occurred for {abbr}: {err}')"
   ]
  },
  {
   "cell_type": "code",
   "execution_count": 11,
   "metadata": {},
   "outputs": [],
   "source": [
    "trump_id = \"8639\"\n",
    "harris_id = \"64984\""
   ]
  },
  {
   "cell_type": "code",
   "execution_count": 20,
   "metadata": {},
   "outputs": [],
   "source": [
    "# Folder containing the JSON files\n",
    "input_folder = \"state_json_files\"\n",
    "state_results = []\n",
    "\n",
    "# Loop through each JSON file in the folder\n",
    "for filename in os.listdir(input_folder):\n",
    "    if filename.endswith(\".json\"):\n",
    "        file_path = os.path.join(input_folder, filename)\n",
    "        try:\n",
    "            with open(file_path, \"r\") as file:\n",
    "                data = json.load(file)\n",
    "\n",
    "            # Extract the \"summary\" key\n",
    "            summary = data.get(\"summary\", {})\n",
    "\n",
    "            # Extract the \"candidate\" array within \"summary\"\n",
    "            candidate_array = summary.get(\"candidates\", [])\n",
    "\n",
    "            # Output the candidate array\n",
    "            state_abbr = filename.split(\".\")[0]\n",
    "\n",
    "            for candidates in candidate_array:\n",
    "                if candidates[\"candidateID\"] == trump_id:\n",
    "                    trump_votes = candidates[\"voteCount\"]\n",
    "                elif candidates[\"candidateID\"] == harris_id:\n",
    "                    harris_votes = candidates[\"voteCount\"]\n",
    "\n",
    "            payload = {\n",
    "                \"state\": state_abbr,\n",
    "                \"trump_votes\": trump_votes,\n",
    "                \"harris_votes\": harris_votes,\n",
    "            }\n",
    "            state_results.append(payload)\n",
    "\n",
    "        except json.JSONDecodeError as e:\n",
    "            print(f\"Error decoding JSON from file {filename}: {e}\")\n",
    "        except Exception as e:\n",
    "            print(f\"An error occurred while processing file {filename}: {e}\")"
   ]
  },
  {
   "cell_type": "code",
   "execution_count": 26,
   "metadata": {},
   "outputs": [],
   "source": [
    "df = pd.DataFrame(state_results)\n",
    "df.to_csv(\"results.csv\")"
   ]
  }
 ],
 "metadata": {
  "kernelspec": {
   "display_name": "1347env",
   "language": "python",
   "name": "1347env"
  },
  "language_info": {
   "codemirror_mode": {
    "name": "ipython",
    "version": 3
   },
   "file_extension": ".py",
   "mimetype": "text/x-python",
   "name": "python",
   "nbconvert_exporter": "python",
   "pygments_lexer": "ipython3",
   "version": "3.12.2"
  }
 },
 "nbformat": 4,
 "nbformat_minor": 2
}
