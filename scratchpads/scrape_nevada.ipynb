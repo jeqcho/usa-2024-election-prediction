{
 "cells": [
  {
   "cell_type": "code",
   "execution_count": 1,
   "id": "26147969-2774-4016-b560-f632ea39b682",
   "metadata": {},
   "outputs": [
    {
     "name": "stdout",
     "output_type": "stream",
     "text": [
      "Scraping page 1: https://thenevadaindependent.com/articles/election-2024?page=1\n",
      "Scraping page 2: https://thenevadaindependent.com/articles/election-2024?page=2\n",
      "Scraping page 3: https://thenevadaindependent.com/articles/election-2024?page=3\n",
      "Scraping page 4: https://thenevadaindependent.com/articles/election-2024?page=4\n",
      "Scraping page 5: https://thenevadaindependent.com/articles/election-2024?page=5\n",
      "Scraping page 6: https://thenevadaindependent.com/articles/election-2024?page=6\n",
      "Scraping page 7: https://thenevadaindependent.com/articles/election-2024?page=7\n",
      "Scraping page 8: https://thenevadaindependent.com/articles/election-2024?page=8\n",
      "Scraping page 9: https://thenevadaindependent.com/articles/election-2024?page=9\n",
      "Scraping page 10: https://thenevadaindependent.com/articles/election-2024?page=10\n",
      "Scraping page 11: https://thenevadaindependent.com/articles/election-2024?page=11\n",
      "Scraping page 12: https://thenevadaindependent.com/articles/election-2024?page=12\n",
      "Scraping page 13: https://thenevadaindependent.com/articles/election-2024?page=13\n",
      "Scraping page 14: https://thenevadaindependent.com/articles/election-2024?page=14\n",
      "Scraping page 15: https://thenevadaindependent.com/articles/election-2024?page=15\n",
      "Scraping page 16: https://thenevadaindependent.com/articles/election-2024?page=16\n",
      "Scraping page 17: https://thenevadaindependent.com/articles/election-2024?page=17\n",
      "Scraping page 18: https://thenevadaindependent.com/articles/election-2024?page=18\n",
      "Scraping page 19: https://thenevadaindependent.com/articles/election-2024?page=19\n",
      "Scraping page 20: https://thenevadaindependent.com/articles/election-2024?page=20\n",
      "Scraping page 21: https://thenevadaindependent.com/articles/election-2024?page=21\n",
      "Scraping page 22: https://thenevadaindependent.com/articles/election-2024?page=22\n",
      "Found 425 article links.\n",
      "https://thenevadaindependent.com/article/as-unemployment-benefits-stop-for-close-to-150000-nevadans-observers-fear-tough-road-ahead\n",
      "https://thenevadaindependent.com/article/despite-progress-in-nevada-new-study-shows-voting-for-native-americans-harder-than-ever\n",
      "https://thenevadaindependent.com/article/analysis-how-redistricting-helped-nevada-democrats-but-not-enough-to-gain-supermajority\n",
      "https://thenevadaindependent.com/article/trumps-threat-of-mass-deportations-looms-large-for-undocumented-people-in-nevada\n",
      "https://thenevadaindependent.com/article/whats-behind-nevada-latinos-shift-toward-trump-in-the-2024-election\n",
      "https://thenevadaindependent.com/article/nevadas-top-election-official-eyes-changes-to-speed-up-ballot-counting\n",
      "https://thenevadaindependent.com/article/two-moms-for-liberty-allies-joining-the-clark-county-school-board-what-happens-now\n",
      "https://thenevadaindependent.com/article/big-voter-turnout-this-year-benefited-republicans-contradicting-conventional-political-wisdom\n",
      "https://thenevadaindependent.com/article/washoe-library-officials-scrambling-after-voters-shoot-down-funding-measure\n",
      "https://thenevadaindependent.com/article/how-democrat-jacky-rosen-won-nevadas-senate-race-in-a-trump-year\n",
      "https://thenevadaindependent.com/article/clark-washoe-counties-certify-2024-election-results\n",
      "https://thenevadaindependent.com/article/clark-county-discovers-1600-uncounted-ballots-but-results-unchanged\n",
      "https://thenevadaindependent.com/article/union-backed-no-taxes-on-tips-policy-attracts-unlikely-fan-nonunion-red-rock-resorts\n",
      "https://thenevadaindependent.com/article/transgender-students-flood-crisis-hotlines-as-trump-pledges-to-roll-back-lgbtq-protections\n",
      "https://thenevadaindependent.com/article/nevada-breaks-signature-curing-record-9k-ballots-tossed-because-of-invalid-signatures\n",
      "https://thenevadaindependent.com/article/many-voters-backed-abortion-rights-and-donald-trump-a-challenge-for-democrats\n",
      "https://thenevadaindependent.com/article/certifying-this-years-presidential-results-begins-quietly-in-contrast-to-the-2020-election\n",
      "https://thenevadaindependent.com/article/trumps-win-brings-uncertainty-to-borrowers-hoping-for-student-loan-forgiveness\n",
      "https://thenevadaindependent.com/article/anatomy-of-a-red-wave-how-trump-won-nevada\n",
      "https://thenevadaindependent.com/article/analysis-harris-banked-on-wide-nonpartisan-support-in-nevada-it-apparently-never-came\n",
      "https://thenevadaindependent.com/article/reno-city-council-to-welcome-new-representative-after-ward-structure-revamped\n",
      "https://thenevadaindependent.com/article/donald-trump-has-sweeping-plans-for-a-second-administration-heres-what-hes-proposed\n",
      "https://thenevadaindependent.com/article/incumbents-overwhelmingly-retain-positions-across-northern-nevada-races\n",
      "https://thenevadaindependent.com/article/nevada-incumbents-hold-their-seats-in-closely-fought-contest-for-the-house-majority\n",
      "https://thenevadaindependent.com/article/changes-abound-for-southern-nevadas-local-governments-after-election\n",
      "https://thenevadaindependent.com/article/moms-for-liberty-linked-candidates-win-in-school-board-races\n",
      "https://thenevadaindependent.com/article/rosen-wins-reelection-fending-off-brown-in-nevadas-tight-us-senate-race\n",
      "https://thenevadaindependent.com/article/nevadans-reject-open-primary-ranked-choice-voting-ballot-measure\n",
      "https://thenevadaindependent.com/article/in-win-for-lombardo-dems-appear-unlikely-to-win-veto-proof-supermajority-in-legislature\n",
      "https://thenevadaindependent.com/article/nevada-voters-reject-board-of-regents-question-approve-diaper-tax-exemption\n",
      "https://thenevadaindependent.com/article/nevada-still-too-close-to-call-as-trump-closes-in-on-presidency\n",
      "https://thenevadaindependent.com/article/nevadans-vote-to-enshrine-abortion-rights-in-constitution-but-it-needs-approval-in-2026\n",
      "https://thenevadaindependent.com/article/election-results-live-blog\n",
      "https://thenevadaindependent.com/article/nevada-voters-say-they-are-cautiously-optimistic-in-spite-of-charged-election-season\n",
      "https://thenevadaindependent.com/article/presidential-outcomes-and-nonpartisan-voters-the-top-13-things-to-watch-on-election-day-in-nevada\n",
      "https://thenevadaindependent.com/article/indy-explains-when-will-we-know-nevadas-election-results\n",
      "https://thenevadaindependent.com/article/democrats-strong-ground-game-has-won-them-tough-nevada-races-before-will-it-still-work\n",
      "https://thenevadaindependent.com/article/reno-pastor-endorses-republicans-in-violation-of-irs-rules\n",
      "https://thenevadaindependent.com/article/in-their-own-words-what-its-like-in-a-chaos-congress-and-why-these-lawmakers-keep-coming-back\n",
      "https://thenevadaindependent.com/article/a-national-campaign-to-lessen-polarization-pushes-states-to-ditch-partisan-primaries\n",
      "https://thenevadaindependent.com/article/takeaways-from-kamala-harris-closing-pitch-in-nevada\n",
      "https://thenevadaindependent.com/article/trump-makes-final-pitch-to-nevadans-cheers-gops-early-voting-totals\n",
      "https://thenevadaindependent.com/article/las-vegas-city-council-could-vote-to-settle-badlands-lawsuit-after-the-election\n",
      "https://thenevadaindependent.com/article/from-the-presidential-race-down-nevada-matters-but-how-much\n",
      "https://thenevadaindependent.com/article/manager-of-a-key-nevada-swing-county-goes-on-medical-leave-ahead-of-election\n",
      "https://thenevadaindependent.com/article/an-elections-worker-wanted-to-serve-her-country-a-stew-of-conspiracy-theories-and-vitriol-awaited\n",
      "https://thenevadaindependent.com/article/experts-weigh-in-on-how-ranked-choice-voting-could-transform-nevada-elections\n",
      "https://thenevadaindependent.com/article/nevada-supreme-court-rules-non-postmarked-ballots-can-be-counted-within-3-days-of-election\n",
      "https://thenevadaindependent.com/article/nevada-events-abound-as-campaigns-more-aware-that-the-asian-vote-matters\n",
      "https://thenevadaindependent.com/article/at-listening-session-latinos-express-dissatisfaction-with-both-parties\n",
      "https://thenevadaindependent.com/article/indyfest-2024-pollster-says-polarization-is-fueling-rising-distrust-in-government\n",
      "https://thenevadaindependent.com/article/four-takeaways-from-trumps-aapi-voter-focused-rally-in-vegas\n",
      "https://thenevadaindependent.com/article/indyfest-2024-forecasters-say-trumps-resilience-in-the-polls-makes-this-cycle-different\n",
      "https://thenevadaindependent.com/article/the-top-election-official-in-a-politically-crucial-nevada-county-says-she-was-forced-out\n",
      "https://thenevadaindependent.com/article/encouraged-by-early-voting-data-mcconnell-linked-group-to-drop-6-2-million-to-help-brown\n",
      "https://thenevadaindependent.com/article/introducing-our-2024-voter-guide-on-key-judicial-races\n",
      "https://thenevadaindependent.com/article/gop-asks-nevada-poll-observers-to-ensure-voting-machines-are-operating-accurately\n",
      "https://thenevadaindependent.com/article/three-takeaways-from-jd-vances-visit-to-nevada\n",
      "https://thenevadaindependent.com/article/indy-gaming-casinos-well-outside-city-limits-donating-to-vegas-mayor-candidates\n",
      "https://thenevadaindependent.com/article/what-made-sam-brown-run-again\n",
      "https://thenevadaindependent.com/article/indyfest-2024-pollster-and-sandoval-optimistic-that-voting-in-nevada-will-go-smoothly\n",
      "https://thenevadaindependent.com/article/for-second-time-judge-dismisses-gop-lawsuit-challenging-nevada-voter-rolls\n",
      "https://thenevadaindependent.com/article/in-return-to-nevada-obama-condemns-trumps-character-touts-harris-proposals\n",
      "https://thenevadaindependent.com/article/in-long-lines-nevada-early-voters-say-this-is-election-of-their-lifetimes\n",
      "https://thenevadaindependent.com/article/in-person-early-voting-is-starting-in-nevada-heres-what-to-know\n",
      "https://thenevadaindependent.com/article/on-the-record-assembly-district-41-candidates-sandra-jauregui-and-rafael-arroyo\n",
      "https://thenevadaindependent.com/article/with-supermajority-at-stake-fundraising-battle-is-tight-in-key-nevada-legislative-races\n",
      "https://thenevadaindependent.com/article/on-the-record-congressional-district-3-candidates-susie-lee-and-drew-johnson\n",
      "https://thenevadaindependent.com/article/in-senate-debate-rosen-and-brown-stick-to-campaign-playbooks\n",
      "https://thenevadaindependent.com/article/a-man-arrested-with-guns-outside-a-trump-rally-in-california-is-suing-the-sheriff\n",
      "https://thenevadaindependent.com/article/on-the-record-assembly-district-21-candidate-april-arndt\n",
      "https://thenevadaindependent.com/article/democrats-continue-fundraising-dominance-in-nevada-congressional-races\n",
      "https://thenevadaindependent.com/article/website-linking-assembly-candidate-to-taliban-supporters-called-islamophobic\n",
      "https://thenevadaindependent.com/article/now-a-quarter-of-the-nevada-electorate-campaigns-hope-to-improve-margins-with-youth\n",
      "https://thenevadaindependent.com/article/on-the-record-senate-district-11-candidates-dallas-harris-and-lori-rogich\n",
      "https://thenevadaindependent.com/article/seaman-seeks-promotion-to-las-vegas-mayor-after-five-years-on-the-council\n",
      "https://thenevadaindependent.com/article/at-north-las-vegas-roundtable-trump-paints-himself-as-bringer-of-latino-prosperity\n",
      "https://thenevadaindependent.com/article/in-nevada-focus-group-nonpartisan-men-of-color-supportive-of-abortion-protections\n",
      "https://thenevadaindependent.com/article/four-takeaways-from-trumps-rally-in-reno\n",
      "https://thenevadaindependent.com/article/obama-to-rally-for-harris-in-las-vegas-on-oct-19\n",
      "https://thenevadaindependent.com/article/dina-titus-mark-robertson-face-off-again-in-nevadas-1st-congressional-district\n",
      "https://thenevadaindependent.com/article/at-vegas-town-hall-harris-faces-questions-from-latinos-on-immigration-health-care\n",
      "https://thenevadaindependent.com/article/after-canceling-its-nevada-reservations-nrsc-joins-forces-with-brown-in-hybrid-ads\n",
      "https://thenevadaindependent.com/article/carson-city-voters-to-receive-new-mail-in-ballots-following-incorrect-party-designation\n",
      "https://thenevadaindependent.com/article/poll-in-nevada-bipartisan-support-for-expanding-pathways-to-legal-citizenship\n",
      "https://thenevadaindependent.com/article/in-nevadas-only-gop-house-district-incumbent-amodei-faces-well-heeled-indie-challenge\n",
      "https://thenevadaindependent.com/article/rosen-raises-12-1-million-in-third-quarter-of-senate-race-her-best-haul-yet\n",
      "https://thenevadaindependent.com/article/in-reno-walz-touts-home-health-care-plan-harris-receives-first-nevada-tribe-endorsement\n",
      "https://thenevadaindependent.com/article/among-some-bernie-sanders-supporters-in-nevada-harris-is-the-best-of-the-choices\n",
      "https://thenevadaindependent.com/article/on-the-record-assembly-district-25-candidates-selena-la-rue-hatch-and-diana-sande\n",
      "https://thenevadaindependent.com/article/harris-campaign-courts-lds-voters-in-nevada-banking-on-jan-6-distaste-for-trump\n",
      "https://thenevadaindependent.com/article/once-legislative-colleagues-steven-horsford-john-lee-now-squaring-off-for-house-seat\n",
      "https://thenevadaindependent.com/article/democrats-call-for-dismissal-of-gop-lawsuit-alleging-noncitizens-on-nevada-voter-rolls\n",
      "https://thenevadaindependent.com/article/poll-distrust-in-u-s-elections-remains-in-nevada-but-state-elections-seen-as-fair\n",
      "https://thenevadaindependent.com/article/majority-of-nevadans-support-voter-id-harris-gaining-over-trump\n",
      "https://thenevadaindependent.com/article/poll-nevadans-of-both-parties-against-new-tariff-hikes-trump-has-backed-the-concept\n",
      "https://thenevadaindependent.com/article/vance-and-walz-keep-it-civil-in-a-policy-heavy-discussion-vp-debate-takeaways\n",
      "https://thenevadaindependent.com/article/as-gop-files-and-loses-election-lawsuits-in-nevada-dems-say-its-a-plan-to-sow-distrust\n",
      "https://thenevadaindependent.com/article/on-the-record-assembly-district-37-candidates-shea-backus-and-david-brog\n",
      "https://thenevadaindependent.com/article/four-takeaways-from-kamala-harris-speech-in-las-vegas\n",
      "https://thenevadaindependent.com/article/berkley-views-las-vegas-mayors-race-as-her-final-chapter-in-public-service\n",
      "https://thenevadaindependent.com/article/on-the-record-assembly-district-29-candidates-annette-dawson-owens-and-joe-dalia\n",
      "https://thenevadaindependent.com/article/vegas-mayor-candidates-agree-on-ending-badlands-drama-but-spar-on-how\n",
      "https://thenevadaindependent.com/article/on-the-record-senate-district-15-candidates-angie-taylor-and-mike-ginsburg\n",
      "https://thenevadaindependent.com/article/washoe-county-registrar-of-voters-to-take-a-leave-of-absence-ahead-of-election\n",
      "https://thenevadaindependent.com/article/nevadans-have-cast-first-votes-of-the-2024-general-election\n",
      "https://thenevadaindependent.com/article/in-partisan-senate-does-jacky-rosens-kill-em-with-kindness-approach-work\n",
      "https://thenevadaindependent.com/article/d-c-download-miriam-adelson-jews-have-a-sacred-duty-to-vote-for-trump\n",
      "https://thenevadaindependent.com/article/green-party-cannot-land-on-nevada-presidential-ballot-u-s-supreme-court-rules\n",
      "https://thenevadaindependent.com/article/on-the-record-assembly-district-4-candidates-lisa-cole-and-ryan-hampton\n",
      "https://thenevadaindependent.com/article/poll-nevadans-support-expanding-universal-preschool-funding-child-tax-credits\n",
      "https://thenevadaindependent.com/article/horsford-intros-his-own-bill-ending-taxes-on-tips-while-also-raising-subminimum-wage\n",
      "https://thenevadaindependent.com/article/harris-rosen-brown-trump-do-the-nevada-senate-candidates-mirror-presidential-hopefuls\n",
      "https://thenevadaindependent.com/article/in-nevada-clean-energy-divides-the-senate-race\n",
      "https://thenevadaindependent.com/article/nevada-latinos-have-more-voting-power-than-ever-heres-what-that-means-for-2024\n",
      "https://thenevadaindependent.com/article/indy-explains-how-question-7-would-require-voter-id-in-nevada\n",
      "https://thenevadaindependent.com/article/trump-defends-debate-performance-at-vegas-rally-vows-to-free-up-federally-owned-land\n",
      "https://thenevadaindependent.com/article/on-the-record-senate-district-5-candidates-carrie-buck-and-jennifer-atlas\n",
      "https://thenevadaindependent.com/article/poll-nevada-latinos-backing-harris-but-margin-with-trump-closer-than-in-2020\n",
      "https://thenevadaindependent.com/article/trump-campaign-sues-nevada-over-alleged-noncitizen-voting\n",
      "https://thenevadaindependent.com/article/poll-nevadans-support-efforts-to-address-social-security-shortfall\n",
      "https://thenevadaindependent.com/article/walz-continues-nevada-trip-with-vegas-fundraiser-coffee-shop-visit\n",
      "https://thenevadaindependent.com/article/nevada-unveils-new-top-down-voter-registration-and-election-management-system\n",
      "https://thenevadaindependent.com/article/walz-tours-reno-wildfire-command-site-after-canceling-rally\n",
      "https://thenevadaindependent.com/article/a-pro-trump-restaurant-owner-may-explain-the-former-presidents-appeal-to-nevada-latinos\n",
      "https://thenevadaindependent.com/article/indy-explains-what-question-6-would-mean-for-abortion-rights-in-nevada\n",
      "https://thenevadaindependent.com/article/green-party-will-not-appear-on-nevada-presidential-ballot-state-supreme-court-rules\n",
      "https://thenevadaindependent.com/article/political-fight-over-nevada-voter-id-question-likely-to-heat-up-after-new-groups-formed\n",
      "https://thenevadaindependent.com/article/nevada-latinos-more-likely-to-vote-than-swing-state-peers\n",
      "https://thenevadaindependent.com/article/brown-says-hes-not-for-changing-our-existing-law-on-abortion-ballot-measure\n",
      "https://thenevadaindependent.com/article/poll-nevada-voters-want-expanded-birth-control-access-oppose-abortion-criminalization\n",
      "https://thenevadaindependent.com/article/the-inflation-reduction-act-may-transform-nevada-will-voters-care\n",
      "https://thenevadaindependent.com/article/indy-explains-no-sales-tax-on-diapers-question-5-on-the-2024-nevada-ballot\n",
      "https://thenevadaindependent.com/article/poll-majority-of-nevadans-support-nato-continuing-aid-to-ukraine\n",
      "https://thenevadaindependent.com/article/rfk-jr-wont-appear-on-nevada-presidential-ballot-after-agreement-with-state-dems\n",
      "https://thenevadaindependent.com/article/as-race-narrows-trump-campaign-ramps-up-in-nevada\n",
      "https://thenevadaindependent.com/article/d-c-download-three-nevada-takeaways-from-the-dnc\n",
      "https://thenevadaindependent.com/article/indy-explains-banning-slavery-question-4-on-the-2024-nevada-ballot\n",
      "https://thenevadaindependent.com/article/trump-touts-proposal-to-end-taxes-on-tipped-wages-in-las-vegas\n",
      "https://thenevadaindependent.com/article/rfk-jr-still-likely-to-appear-on-nevada-ballot-despite-rumored-withdrawal-from-race\n",
      "https://thenevadaindependent.com/article/how-nevada-colleges-and-universities-are-encouraging-students-to-vote\n",
      "https://thenevadaindependent.com/article/nv-supreme-court-declines-to-weigh-in-after-washoe-county-recount-controversy\n",
      "https://thenevadaindependent.com/article/trump-will-campaign-across-the-country-this-week-as-he-struggles-to-adjust-to-harris\n",
      "https://thenevadaindependent.com/article/indy-explains-question-3-would-see-ranked-choice-voting-open-primaries-in-nevada\n",
      "https://thenevadaindependent.com/article/poll-harris-leads-trump-among-nevada-latino-voters\n",
      "https://thenevadaindependent.com/article/harris-unveils-policy-proposals-to-address-affordable-housing-crisis\n",
      "https://thenevadaindependent.com/article/poll-harris-winning-back-nevada-latino-voters-who-soured-on-biden-trump\n",
      "https://thenevadaindependent.com/article/why-trumps-and-harris-proposals-to-end-federal-taxes-on-tips-would-be-difficult-to-enact\n",
      "https://thenevadaindependent.com/article/rosen-posts-big-lead-over-brown-in-latest-nevada-senate-poll\n",
      "https://thenevadaindependent.com/article/were-happy-again-harris-and-walz-bring-new-enthusiasm-to-presidential-race-in-nevada\n",
      "https://thenevadaindependent.com/article/judge-allows-green-party-to-remain-on-nevada-presidential-ballot\n",
      "https://thenevadaindependent.com/article/indy-explains-question-2-on-the-2024-nevada-ballot\n",
      "https://thenevadaindependent.com/article/harris-pledges-to-end-tax-on-tips-echoing-trump-in-massive-las-vegas-rally\n",
      "https://thenevadaindependent.com/article/in-las-vegas-kamala-harris-sees-a-chance-to-improve-her-odds-of-winning\n",
      "https://thenevadaindependent.com/article/new-nevada-poll-sees-harris-with-biggest-lead-over-trump-yet\n",
      "https://thenevadaindependent.com/article/former-nv-gop-congressmen-elections-are-secure-but-chances-for-fraud-remain\n",
      "https://thenevadaindependent.com/article/is-nevada-still-a-swing-state-why-dems-gop-are-bullish-on-their-2024-chances\n",
      "https://thenevadaindependent.com/article/hospitality-workers-union-endorses-harris-dismissing-trumps-pledge-of-tax-free-tips\n",
      "https://thenevadaindependent.com/article/indy-explains-how-would-question-1-on-nevadas-2024-ballot-affect-the-board-of-regents\n",
      "https://thenevadaindependent.com/article/hearing-held-but-no-ruling-yet-in-suit-challenging-green-partys-nevada-ballot-status\n",
      "https://thenevadaindependent.com/article/judge-denies-trump-gop-request-to-ignore-nevada-mail-ballots-with-unclear-postmark\n",
      "https://thenevadaindependent.com/article/gop-aligned-super-pac-boosts-brown-on-nevada-airwaves-with-4-million-ad-buy\n",
      "https://thenevadaindependent.com/article/harris-is-planning-a-tour-of-battleground-states-next-week-with-her-yet-to-be-named-running-mate\n",
      "https://thenevadaindependent.com/article/can-harris-energize-minority-nevada-voters-who-had-soured-on-trump-biden\n",
      "https://thenevadaindependent.com/article/in-first-nevada-trip-vance-says-harris-owns-every-failure-of-biden-admin\n",
      "https://thenevadaindependent.com/article/new-pacs-who-spent-big-on-nevada-primaries-finally-disclose-sources-of-income\n",
      "https://thenevadaindependent.com/article/were-first-cousins-harris-longstanding-ties-to-nevada-could-benefit-her-2024-run\n",
      "https://thenevadaindependent.com/article/rfk-jr-has-enough-valid-signatures-to-make-nevada-ballot-officials-say\n",
      "https://thenevadaindependent.com/article/nevada-democratic-delegates-unanimously-back-harris-for-president\n",
      "https://thenevadaindependent.com/article/harris-mentum-nevada-campaign-sees-more-enthusiasm-volunteers-after-biden-withdrawal\n",
      "https://thenevadaindependent.com/article/biden-drops-out-of-presidential-race-nevada-leaders-react\n",
      "https://thenevadaindependent.com/article/d-c-download-how-sam-brown-nevada-fared-at-the-republican-national-convention\n",
      "https://thenevadaindependent.com/article/nevada-voter-id-ballot-question-qualifies-for-2024-ballot\n",
      "https://thenevadaindependent.com/article/judge-tosses-gop-suit-that-sought-to-end-nevadas-post-election-day-ballot-counting\n",
      "https://thenevadaindependent.com/article/biden-tests-positive-for-covid-during-las-vegas-trip-cancels-speech\n",
      "https://thenevadaindependent.com/article/nevada-legislative-fundraising-close-in-key-races-millions-pour-into-ballot-initiatives\n",
      "https://thenevadaindependent.com/article/after-primaries-nevada-democrats-lead-fundraising-battle-across-congressional-races\n",
      "https://thenevadaindependent.com/article/in-vegas-biden-woos-black-voters-with-promises-of-economic-equity-civil-rights\n",
      "https://thenevadaindependent.com/article/washoe-county-certifies-recount-after-refusing-to-do-so-last-week\n",
      "https://thenevadaindependent.com/article/brown-raises-4-million-in-second-quarter-as-nevada-senate-race-heats-up\n",
      "https://thenevadaindependent.com/article/horsford-to-appear-with-biden-at-black-voter-event-tuesday\n",
      "https://thenevadaindependent.com/article/dc-download-what-nevada-democrats-are-weighing-amid-calls-for-biden-to-drop-out\n",
      "https://thenevadaindependent.com/article/kennedy-touts-his-anti-establishment-approach-at-freedomfest\n",
      "https://thenevadaindependent.com/article/rosen-cortez-masto-join-cruzs-bill-to-end-federal-taxes-on-tips\n",
      "https://thenevadaindependent.com/article/ag-asks-supreme-court-to-order-washoe-county-to-certify-recount-results\n",
      "https://thenevadaindependent.com/article/cooler-heads-have-prevailed-commissioners-to-reconsider-vote-not-to-certify-primary-recount\n",
      "https://thenevadaindependent.com/article/rosen-focused-on-my-own-re-election-campaign-declines-to-say-if-biden-should-drop-out\n",
      "https://thenevadaindependent.com/article/jacky-rosen-raises-record-7-6-million-in-second-quarter\n",
      "https://thenevadaindependent.com/article/in-las-vegas-kamala-harris-defends-biden-vies-for-asian-american-support\n",
      "https://thenevadaindependent.com/article/washoe-county-commissioners-vote-not-to-certify-primary-election-recounts\n",
      "https://thenevadaindependent.com/article/lee-horsford-split-on-confidence-in-biden-as-democratic-nominee\n",
      "https://thenevadaindependent.com/article/indy-explains-nevadas-laws-on-commercial-addresses-in-voter-rolls\n",
      "https://thenevadaindependent.com/article/rfk-jr-s-campaign-says-it-has-enough-signatures-to-get-on-nv-ballot-validation-pending\n",
      "https://thenevadaindependent.com/article/washoe-county-primary-election-results-remain-unchanged-after-recount\n",
      "https://thenevadaindependent.com/article/will-trumps-las-vegas-idea-to-end-taxation-on-tips-catch-on\n",
      "https://thenevadaindependent.com/article/aoc-stumped-for-biden-in-las-vegas-will-nevada-progressive-voters-follow-suit\n",
      "https://thenevadaindependent.com/article/advocate-baran-among-recounts-for-northern-nevada-candidates-funded-by-far-right-activist\n",
      "https://thenevadaindependent.com/article/constitutional-amendment-on-abortion-rights-qualifies-for-november-ballot\n",
      "https://thenevadaindependent.com/article/new-groups-aim-to-restore-faith-in-election-system-uphold-democracy\n",
      "https://thenevadaindependent.com/article/aarp-poll-finds-trump-leading-biden-in-nevada-older-voters-more-motivated-to-turn-out\n",
      "https://thenevadaindependent.com/article/nevada-democrats-to-file-lawsuit-to-kick-rfk-jr-off-presidential-ballot-over-partisan-affiliations\n",
      "https://thenevadaindependent.com/article/judge-tosses-initial-gop-lawsuit-alleging-nevada-voter-rolls-insufficiently-maintained\n",
      "https://thenevadaindependent.com/article/green-party-qualifies-for-2024-ballot-in-nevada-dem-lawsuit-pending\n",
      "https://thenevadaindependent.com/article/analysis-nevada-primary-turnout-down-but-mail-voting-again-reigns-supreme\n",
      "https://thenevadaindependent.com/article/after-surprise-primary-win-can-drew-johnson-flip-nevadas-swingiest-house-seat\n",
      "https://thenevadaindependent.com/article/after-bitter-primary-culinary-union-legislative-democrats-not-singing-kumbaya-yet\n",
      "https://thenevadaindependent.com/article/here-are-the-winners-in-southern-nevadas-local-government-primaries\n",
      "https://thenevadaindependent.com/article/beadles-backed-candidates-come-up-short-in-washoe-down-ballot-primary-races\n",
      "https://thenevadaindependent.com/article/nevada-democrats-sue-to-block-green-party-from-2024-ballot\n",
      "https://thenevadaindependent.com/article/matchups-set-in-nevadas-federal-and-legislative-elections\n",
      "https://thenevadaindependent.com/article/school-board-races-beadles-backed-candidates-lose-most-moms-for-liberty-picks-advance\n",
      "https://thenevadaindependent.com/article/brown-wins-primary-to-face-rosen-lombardo-backed-composer-loses-race-to-challenge-lee\n",
      "https://thenevadaindependent.com/article/legislative-elections-lombardos-picks-win-culinary-dem-establishment-have-mixed-night\n",
      "https://thenevadaindependent.com/article/berkley-seaman-headed-to-a-general-election-run-off-for-las-vegas-mayor\n",
      "https://thenevadaindependent.com/article/live-blog-nevada-2024-primary-results\n",
      "https://thenevadaindependent.com/article/2024-primary-election-day-live-blog-polls-now-open-but-many-ballots-already-cast\n",
      "https://thenevadaindependent.com/article/republican-challengers-legislative-showdowns-what-to-watch-as-nevadans-head-to-the-polls\n",
      "https://thenevadaindependent.com/article/john-lee-says-opponent-behind-website-labeling-him-sexual-predator-flippo-denies\n",
      "https://thenevadaindependent.com/article/trump-stays-out-of-senate-primary-in-vegas-rally-pans-biden-border-policy-as-bullshit\n",
      "https://thenevadaindependent.com/article/moms-critical-of-policies-books-related-to-lgbtq-students-seek-school-board-seats\n",
      "https://thenevadaindependent.com/article/nevada-gops-bylaws-bar-support-for-convicted-felons-it-made-an-exception-for-trump\n",
      "https://thenevadaindependent.com/article/rfk-jr-files-new-petition-to-land-on-nevada-ballot-earlier-effort-stuck-in-court\n",
      "https://thenevadaindependent.com/article/trump-campaign-sues-nevada-alleges-counting-of-non-postmarked-mail-ballots\n",
      "https://thenevadaindependent.com/article/ask-the-editor-jon-ralston-talks-early-voting-turnout-indys-race-calling-process\n",
      "https://thenevadaindependent.com/article/independent-candidate-rfk-jr-suing-nevada-over-access-to-2024-ballot\n",
      "https://thenevadaindependent.com/article/will-nevada-elect-rosen-and-trump-in-2024-or-is-recent-polling-a-mirage\n",
      "https://thenevadaindependent.com/article/analysis-which-nevada-candidates-have-benefited-from-federal-loans\n",
      "https://thenevadaindependent.com/article/where-do-the-candidates-in-the-key-senate-district-3-primary-stand-on-the-issues\n",
      "https://thenevadaindependent.com/article/gop-candidate-larsen-admits-in-audio-to-hiring-illegals-now-calls-for-immigration-reform\n",
      "https://thenevadaindependent.com/article/democratic-assemblywoman-city-councilor-face-off-in-reno-area-senate-primary\n",
      "https://thenevadaindependent.com/article/nevada-leaders-react-to-donald-trumps-guilty-verdict\n",
      "https://thenevadaindependent.com/article/sam-brown-backtracks-on-nuclear-dump-says-yucca-is-dead-and-shouldnt-be-revived\n",
      "https://thenevadaindependent.com/article/whos-funding-negative-campaign-mail-legal-loophole-helps-some-groups-avoid-disclosure\n",
      "https://thenevadaindependent.com/article/meet-marty-halo-composer-backed-by-lombardo-would-be-among-wealthiest-house-members\n",
      "https://thenevadaindependent.com/article/could-veterans-swing-nevadas-2024-senate-race\n",
      "https://thenevadaindependent.com/article/the-three-most-interesting-assembly-primaries-in-nevada\n",
      "https://thenevadaindependent.com/article/whats-at-stake-in-the-two-washoe-county-commission-races-this-year\n",
      "https://thenevadaindependent.com/article/politicians-are-reporting-more-harassment-just-ask-candidates-in-washoe-county-races\n",
      "https://thenevadaindependent.com/article/nevada-supreme-court-rules-voter-id-ballot-measure-can-move-forward\n",
      "https://thenevadaindependent.com/article/top-gop-super-pac-not-spending-in-vegas-area-house-races-breaking-from-past-cycles\n",
      "https://thenevadaindependent.com/article/whats-behind-mailers-accusing-state-senate-candidate-of-targeting-woman\n",
      "https://thenevadaindependent.com/article/gop-pollster-sam-brown-still-leads-nevada-senate-primary-in-internal-poll-despite-gunters-late-push\n",
      "https://thenevadaindependent.com/article/abortion-rights-activists-believe-they-have-enough-signatures-to-get-measure-on-ballot\n",
      "https://thenevadaindependent.com/article/anatomy-of-a-political-breakup-why-the-culinary-union-unendorsed-democratic-lawmakers\n",
      "https://thenevadaindependent.com/article/can-biden-nevada-democrats-convince-voters-theyre-the-party-of-housing\n",
      "https://thenevadaindependent.com/article/clark-washoe-election-officials-hope-new-technology-will-speed-up-ballot-processing-pace\n",
      "https://thenevadaindependent.com/article/berkley-campaign-manager-calls-opponent-a-bitch-in-video\n",
      "https://thenevadaindependent.com/article/las-vegas-mayoral-candidates-debate-policy-defend-records-at-nevada-independent-forum\n",
      "https://thenevadaindependent.com/article/culinary-union-un-endorses-17-lawmakers-running-for-re-election-over-room-cleaning-bill\n",
      "https://thenevadaindependent.com/article/how-jewish-voters-could-factor-into-nevadas-toss-up-senate-race\n",
      "https://thenevadaindependent.com/article/biden-campaign-asks-court-to-dismiss-gop-lawsuit-challenging-nevada-mail-ballot-deadline\n",
      "https://thenevadaindependent.com/article/tracking-nevadas-2024-ballot-measures-from-as-to-abortion-rights\n",
      "https://thenevadaindependent.com/article/nevada-supreme-court-weighs-whether-proposed-voter-id-ballot-measure-amounts-to-poll-tax\n",
      "https://thenevadaindependent.com/article/after-restructuring-is-nevada-ranked-choice-ballot-measure-ready-for-election\n",
      "https://thenevadaindependent.com/article/aclu-suing-elko-county-over-compliance-with-jail-voting-law\n",
      "https://thenevadaindependent.com/article/biden-campaign-alleges-rnc-using-nevada-lawsuits-to-sow-early-doubt-in-election\n",
      "https://thenevadaindependent.com/article/most-nevada-gop-candidates-mum-on-election-integrity-after-big-lie-was-prominent-in-2022\n",
      "https://thenevadaindependent.com/article/the-four-most-interesting-democratic-state-senate-primaries-in-nevada\n",
      "https://thenevadaindependent.com/article/trump-campaign-sues-nevada-for-accepting-mail-ballots-that-trickle-in-after-election-day\n",
      "https://thenevadaindependent.com/article/lombardo-endorses-marty-odonnell-in-nevadas-3rd-district-republican-primary\n",
      "https://thenevadaindependent.com/article/after-losing-three-straight-times-are-republicans-as-invested-in-vegas-house-seats\n",
      "https://thenevadaindependent.com/article/complaint-alleges-far-right-reno-activist-broke-campaign-finance-rules\n",
      "https://thenevadaindependent.com/article/candidates-backed-by-lombardo-or-democratic-caucuses-locked-in-close-fundraising-battle\n",
      "https://thenevadaindependent.com/article/establishment-backed-candidates-have-financial-lead-in-key-legislative-primaries\n",
      "https://thenevadaindependent.com/article/millions-roll-in-to-nevada-ballot-initiatives-from-unions-uber-and-dark-money-groups\n",
      "https://thenevadaindependent.com/article/nv-supreme-court-says-broader-abortion-ballot-question-is-constitutional\n",
      "https://thenevadaindependent.com/article/rosen-house-democrats-keep-war-chest-lead-self-funding-gop-candidates-narrow-gap\n",
      "https://thenevadaindependent.com/article/a-year-after-reclaiming-state-party-from-socialists-are-nv-dems-building-back-better\n",
      "https://thenevadaindependent.com/article/lawyers-debate-if-taking-redistricting-out-of-legislatures-hands-will-cost-more-money\n",
      "https://thenevadaindependent.com/article/week-later-underdog-nevada-gop-senate-hopeful-gunters-massive-ad-buy-yet-to-materialize\n",
      "https://thenevadaindependent.com/article/gop-minority-outreach-centers-in-nevada-quietly-shuttered-after-2022-election-cycle\n",
      "https://thenevadaindependent.com/article/rosen-raises-record-5-million-in-first-quarter\n",
      "https://thenevadaindependent.com/article/decades-old-idea-of-axing-federal-department-of-education-revived-in-nevada-senate-race\n",
      "https://thenevadaindependent.com/article/rosen-makes-14-million-ad-reservation-in-nevada-senate-race\n",
      "https://thenevadaindependent.com/article/democratic-assembly-candidate-regrets-sharing-anti-abortion-facebook-post-in-2016\n",
      "https://thenevadaindependent.com/article/rosen-launches-first-re-election-ad-campaign-in-las-vegas-reno\n",
      "https://thenevadaindependent.com/article/nevada-lawmakers-named-in-election-denial-report-walk-back-past-comments\n",
      "https://thenevadaindependent.com/article/nevada-local-government-candidates-whos-running-in-school-board-city-county-races\n",
      "https://thenevadaindependent.com/article/sam-brown-ramps-up-national-fundraising-ahead-of-gop-senate-primary\n",
      "https://thenevadaindependent.com/article/lack-of-vp-choice-may-invalidate-rfk-jr-s-effort-to-get-on-nevada-ballot\n",
      "https://thenevadaindependent.com/article/gop-senate-candidate-brown-refers-women-to-crisis-pregnancy-centers-on-campaign-website\n",
      "https://thenevadaindependent.com/article/aclu-some-agencies-not-complying-with-law-to-allow-voting-in-nevada-jails\n",
      "https://thenevadaindependent.com/article/during-nevada-swing-biden-draws-contrast-with-trump-on-health-care-national-security\n",
      "https://thenevadaindependent.com/article/secretary-of-state-delays-rollout-of-top-down-voter-registration-system-to-july\n",
      "https://thenevadaindependent.com/article/why-is-an-elected-official-in-california-running-for-nevadas-senate-seat\n",
      "https://thenevadaindependent.com/article/whos-running-in-2024-what-to-know-from-nevadas-candidate-filing-period\n",
      "https://thenevadaindependent.com/article/ahead-of-bidens-nevada-visit-campaign-previews-2024-strategy\n",
      "https://thenevadaindependent.com/article/how-will-democrats-tough-2024-senate-map-affect-jacky-rosen\n",
      "https://thenevadaindependent.com/article/indy-explains-why-theres-two-abortion-ballot-initiatives-in-nevada\n",
      "https://thenevadaindependent.com/article/biden-to-visit-las-vegas-and-reno\n",
      "https://thenevadaindependent.com/article/culinary-targets-democratic-state-senator-for-not-supporting-daily-hotel-room-cleaning-law\n",
      "https://thenevadaindependent.com/article/indytalks-lombardo-vows-to-use-everything-available-to-retain-veto-power\n",
      "https://thenevadaindependent.com/article/as-national-support-dwindles-biden-campaign-ramps-up-efforts-to-court-black-nevadans\n",
      "https://thenevadaindependent.com/article/indytalks-lombardo-doesnt-regret-housing-vetoes-wont-fight-abortion-ballot-measure\n",
      "https://thenevadaindependent.com/article/video-game-composer-announces-gop-bid-for-congressional-seat-held-by-susie-lee\n",
      "https://thenevadaindependent.com/article/d-c-download-horsford-on-how-the-biden-campaign-needs-to-win-over-nevadas-black-voters\n",
      "https://thenevadaindependent.com/article/exclusive-first-lady-jill-biden-to-visit-las-vegas-on-saturday\n",
      "https://thenevadaindependent.com/article/how-will-sam-browns-new-abortion-stance-affect-nevadas-senate-race\n",
      "https://thenevadaindependent.com/article/judge-allows-nevada-voter-id-ballot-measure-to-move-forward\n",
      "https://thenevadaindependent.com/article/secretary-of-state-apologizes-for-voter-record-glitch-after-nevadas-presidential-primary\n",
      "https://thenevadaindependent.com/article/nevada-senate-fundraising-rosen-donors-more-active-hail-from-more-states-than-browns\n",
      "https://thenevadaindependent.com/article/as-wife-discloses-abortion-story-nevada-gop-senate-hopeful-sam-brown-opposes-federal-ban\n",
      "https://thenevadaindependent.com/article/leading-pro-abortion-rights-group-doubling-down-on-rosen-nevada-for-2024\n",
      "https://thenevadaindependent.com/article/nevada-election-officials-working-to-resolve-errors-in-online-voter-history-records\n",
      "https://thenevadaindependent.com/article/nevada-judge-strikes-down-independent-redistricting-commission-ballot-petitions\n",
      "https://thenevadaindependent.com/article/how-nevada-presidential-primary-turnout-beat-caucus-records\n",
      "https://thenevadaindependent.com/article/how-much-does-money-matter-in-close-nevada-legislative-races\n",
      "https://thenevadaindependent.com/article/trump-sweeps-nevada-republican-caucus-in-race-with-no-major-challengers\n",
      "https://thenevadaindependent.com/article/the-trump-train-is-a-comin-nevada-republicans-descend-on-gop-caucus-sites\n",
      "https://thenevadaindependent.com/article/trump-poised-for-big-win-ahead-of-nevada-gop-caucus\n",
      "https://thenevadaindependent.com/article/cortez-masto-and-rosen-vote-for-failed-border-bill-in-test-of-new-immigration-politics\n",
      "https://thenevadaindependent.com/article/in-nevada-primary-without-trump-haley-loses-to-none-of-these-candidates\n",
      "https://thenevadaindependent.com/article/biden-wins-nevadas-democratic-presidential-primary-in-landslide-vote\n",
      "https://thenevadaindependent.com/article/election-day-live-updates-voters-brave-wintry-weather-to-cast-nevada-primary-ballots\n",
      "https://thenevadaindependent.com/article/how-will-none-of-these-option-affect-expected-wins-for-biden-haley-in-primary\n",
      "https://thenevadaindependent.com/article/amid-biden-trump-unpopularity-rfk-jr-woos-independents-at-vegas-rally\n",
      "https://thenevadaindependent.com/article/ahead-of-nevada-primary-biden-uses-las-vegas-rally-to-draw-contrasts-with-trump\n",
      "https://thenevadaindependent.com/article/were-used-to-starting-early-why-bidens-nevada-campaign-is-ramping-up-ahead-of-primary\n",
      "https://thenevadaindependent.com/article/a-democrat-beating-biden-may-be-impossible-is-nevada-marianne-williamsons-last-chance\n",
      "https://thenevadaindependent.com/article/as-election-year-begins-democrats-wield-financial-advantage-in-congressional-races\n",
      "https://thenevadaindependent.com/article/nevada-primary-turnout-more-than-90000-votes-cast-mostly-by-mail\n",
      "https://thenevadaindependent.com/article/as-primary-voting-begins-vp-harris-sets-sights-on-november-likely-trump-rematch\n",
      "https://thenevadaindependent.com/article/in-east-las-vegas-trump-rails-against-biden-on-immigration-courts-hispanic-voters\n",
      "https://thenevadaindependent.com/article/unions-casinos-and-utilities-power-southern-nevada-local-government-campaigns\n",
      "https://thenevadaindependent.com/article/biden-to-campaign-in-las-vegas-ahead-of-february-primary\n",
      "https://thenevadaindependent.com/article/ryan-binkley-is-the-only-candidate-still-running-against-trump-in-nevadas-gop-caucus-why\n",
      "https://thenevadaindependent.com/article/judge-oks-revised-ballot-petition-to-protect-abortion-access-in-constitution\n",
      "https://thenevadaindependent.com/article/how-a-narrowing-gop-presidential-field-will-affect-nevadas-caucus-primaries\n",
      "https://thenevadaindependent.com/article/local-government-incumbents-seeking-re-election-in-reno-sparks-and-washoe-lead-in-fundraising\n",
      "https://thenevadaindependent.com/article/trump-to-visit-las-vegas-saturday-as-competition-in-gop-caucus-dwindles\n",
      "https://thenevadaindependent.com/article/could-biden-and-trump-drag-down-nevada-senate-contenders-heres-what-history-tells-us\n",
      "https://thenevadaindependent.com/article/exclusive-harris-to-visit-east-las-vegas-to-kick-off-nevada-early-voting\n",
      "https://thenevadaindependent.com/article/nevada-senate-gop-hopefuls-attack-brown-pan-rosen-land-bill\n",
      "https://thenevadaindependent.com/article/lombardo-to-caucus-for-trump-vote-none-of-the-above-in-state-run-primary\n",
      "https://thenevadaindependent.com/article/republican-former-treasurer-dan-schwartz-to-challenge-susie-lee-in-district-3\n",
      "https://thenevadaindependent.com/article/nv-supreme-court-seats-uncontested-in-2024-judicial-filing-brings-expanded-info-on-candidates\n",
      "https://thenevadaindependent.com/article/as-give-to-lawmakers-democrats-hold-cash-advantage-campaign-finance-reports-show\n",
      "https://thenevadaindependent.com/article/senate-candidate-sam-brown-endorses-trump-for-president\n",
      "https://thenevadaindependent.com/article/election-2024-tracking-nevada-local-government-and-education-candidate-announcements\n",
      "https://thenevadaindependent.com/article/nevada-counties-looking-to-hire-more-poll-workers-as-election-nears\n",
      "https://thenevadaindependent.com/article/suit-to-bar-trump-from-nevada-ballot-over-role-in-jan-6-dismissed-for-lack-of-standing\n",
      "https://thenevadaindependent.com/article/exclusive-rosen-raises-3-2-million-in-final-2023-fundraising-quarter\n",
      "https://thenevadaindependent.com/article/ballot-initiative-filed-to-cap-nevada-payday-loan-interest-rates\n",
      "https://thenevadaindependent.com/article/nevada-gop-drops-lawsuit-aimed-at-blocking-presidential-primary\n",
      "https://thenevadaindependent.com/article/sen-jacky-rosens-speech-in-las-vegas-crashed-by-pro-palestine-protesters\n",
      "https://thenevadaindependent.com/article/gop-lawmaker-heidi-kasama-drops-out-of-congressional-race-against-susie-lee\n",
      "https://thenevadaindependent.com/article/in-vegas-kamala-harris-visit-to-culinary-union-spotlights-labor-role-in-2024-election\n",
      "https://thenevadaindependent.com/article/in-reno-trump-looks-to-stake-claim-on-nevada-gop-ahead-of-february-caucus\n",
      "https://thenevadaindependent.com/article/reproductive-rights-group-seeks-second-initiative-to-protect-abortion-in-nv-constitution\n",
      "https://thenevadaindependent.com/article/clark-county-commissioner-ross-miller-will-not-seek-re-election-in-2024\n",
      "https://thenevadaindependent.com/article/independent-redistricting-commission-ballot-questions-challenged-by-democrats\n",
      "https://thenevadaindependent.com/article/democrat-linked-attorneys-sue-to-stop-voter-id-ballot-measure\n",
      "https://thenevadaindependent.com/article/in-vegas-biden-highlights-3-billion-for-high-speed-rail-line-to-sell-nevadans-on-economy\n",
      "https://thenevadaindependent.com/article/what-sam-brown-has-and-hasnt-said-about-abortion-as-democratic-attacks-mount\n",
      "https://thenevadaindependent.com/article/nevada-polls-on-working-class-hispanic-voters-highlight-2024-battlefield\n",
      "https://thenevadaindependent.com/article/advocates-again-push-ballot-measure-to-take-redistricting-out-of-legislatures-hands\n",
      "https://thenevadaindependent.com/article/what-nevada-can-learn-from-2023-election-results-from-abortion-to-youngkin\n",
      "https://thenevadaindependent.com/article/what-nevada-republicans-can-learn-from-washington-democrats-awkward-2016-caucus-primary-split\n",
      "https://thenevadaindependent.com/article/republican-pollster-finds-rosen-with-narrow-lead-over-brown-in-senate-race\n",
      "https://thenevadaindependent.com/article/lombardo-calls-nv-gop-caucus-plan-detrimental-and-unacceptable\n",
      "https://thenevadaindependent.com/article/trump-rails-against-political-legal-battles-attacks-primary-rivals-in-las-vegas-rally\n",
      "https://thenevadaindependent.com/article/gop-presidential-hopefuls-voice-support-for-israel-pence-drops-out-at-vegas-summit\n",
      "https://thenevadaindependent.com/article/dean-phillips-to-skip-nevada-primary-in-challenge-to-biden\n",
      "https://thenevadaindependent.com/article/introducing-our-2024-nevada-elections-guide\n",
      "https://thenevadaindependent.com/article/federal-judge-dismisses-lawsuit-challenging-election-worker-protection-bill\n",
      "https://thenevadaindependent.com/article/democrat-c-h-miller-resigning-from-assembly-will-run-for-las-vegas-city-council\n",
      "https://thenevadaindependent.com/article/progressive-pundit-cenk-uygur-wont-appear-on-nv-primary-ballot-after-altering-form\n",
      "https://thenevadaindependent.com/article/at-forum-las-vegas-mayor-hopefuls-discuss-homelessness-priorities-for-first-100-days\n",
      "https://thenevadaindependent.com/article/gop-hopefuls-split-between-primary-caucus-as-nevada-presidential-filing-comes-to-a-close\n",
      "https://thenevadaindependent.com/article/nevada-battleground-democrats-outraise-congressional-gop-opponents-in-third-quarter\n",
      "https://thenevadaindependent.com/article/desantis-joins-nevada-republican-caucus-haley-has-not-filed-yet\n",
      "https://thenevadaindependent.com/article/tim-scott-files-for-nevada-presidential-primary-is-2nd-major-candidate-to-skip-gop-caucus\n",
      "https://thenevadaindependent.com/article/in-north-las-vegas-vice-president-kamala-harris-looks-to-woo-young-voters\n",
      "https://thenevadaindependent.com/article/pence-skips-nevada-gop-caucus-becomes-first-major-candidate-to-file-for-state-run-primary\n",
      "https://thenevadaindependent.com/article/rosen-raises-2-7m-grows-war-chest-ahead-of-competitive-re-election-bid\n",
      "https://thenevadaindependent.com/article/tracker-whos-running-in-nevadas-2024-presidential-primaries-and-caucus\n",
      "https://thenevadaindependent.com/article/former-north-las-vegas-mayor-john-lee-to-run-for-congress-challenge-horsford\n",
      "https://thenevadaindependent.com/article/in-las-vegas-vivek-ramaswamy-campaigns-under-trumps-shadow\n",
      "https://thenevadaindependent.com/article/nevada-adopts-rules-for-presidential-primaries-as-state-gop-continues-plans-for-caucus\n",
      "https://thenevadaindependent.com/article/rosen-calls-on-embattled-menendez-to-resign-joining-other-senate-democrats\n",
      "https://thenevadaindependent.com/article/lombardo-not-getting-engaged-on-presidential-primary-trump-re-election-bid\n",
      "https://thenevadaindependent.com/article/election-2024-tracking-nevada-legislative-candidate-announcements\n",
      "https://thenevadaindependent.com/article/nevada-gop-approves-party-run-caucus-that-will-exclude-candidates-who-run-in-primary\n",
      "https://thenevadaindependent.com/article/lombardo-campaign-pivots-legal-defense-fund-to-ethics-case\n",
      "https://thenevadaindependent.com/article/coalition-seeks-2024-ballot-measure-to-put-abortion-protections-in-nevada-constitution\n",
      "https://thenevadaindependent.com/article/top-nevada-republicans-reverse-course-urge-party-to-vote-early-or-by-mail-in-2024\n",
      "https://thenevadaindependent.com/article/gop-senate-candidate-sam-brown-once-supported-20-week-abortion-ban-is-now-less-specific\n",
      "https://thenevadaindependent.com/article/weve-got-to-do-those-things-again-inside-the-biden-campaigns-plans-for-nevada\n",
      "https://thenevadaindependent.com/article/election-regulations-draw-gop-pushback-again-limited-hand-counting-regulation-returns\n",
      "https://thenevadaindependent.com/article/trump-opponent-seeks-longshot-14th-amendment-case-to-bar-him-from-nevada-ballot\n",
      "https://thenevadaindependent.com/article/desantis-super-pac-calls-nevada-gop-primary-rigged-for-trump-other-candidates-shy-away-from-state\n",
      "https://thenevadaindependent.com/article/assemblywoman-and-reno-council-member-join-race-for-key-reno-area-state-senate-seat\n",
      "https://thenevadaindependent.com/article/teacher-led-pac-files-petition-to-block-public-funding-for-as-stadium-in-vegas\n",
      "https://thenevadaindependent.com/article/2024-house-races-las-vegas-districts-again-in-spotlight-as-gop-seeks-to-unseat-democratic-incumbents\n",
      "https://thenevadaindependent.com/article/2024-senate-race-growing-field-of-republican-challengers-look-to-unseat-jacky-rosen\n",
      "https://thenevadaindependent.com/article/pro-sam-brown-group-polling-finds-him-leading-gop-senate-field-many-undecided\n",
      "https://thenevadaindependent.com/article/gop-lawmaker-heidi-kasama-to-run-for-congress-challenge-susie-lee\n",
      "https://thenevadaindependent.com/article/after-judge-denies-gop-request-to-block-presidential-primary-party-appeals-to-nevada-supreme-court\n",
      "https://thenevadaindependent.com/article/gop-senate-leader-heidi-seevers-gansert-wont-run-for-re-election-in-2024\n",
      "https://thenevadaindependent.com/article/indy-explains-nevadas-2024-presidential-primaries\n",
      "https://thenevadaindependent.com/article/rosen-congressional-democrats-maintain-fundraising-advantages-as-2024-cycle-kicks-off\n",
      "https://thenevadaindependent.com/article/sam-brown-on-his-repeat-run-for-u-s-senate-campaign-issues\n",
      "https://thenevadaindependent.com/article/judge-denies-nv-gop-request-to-block-presidential-primary-election\n",
      "https://thenevadaindependent.com/article/army-veteran-sam-brown-enters-u-s-senate-race\n",
      "https://thenevadaindependent.com/article/rosen-has-record-7-5-million-on-hand-after-second-quarter-of-2023\n",
      "https://thenevadaindependent.com/article/trump-blasts-desantis-repeats-false-election-claims-in-first-las-vegas-visit-of-2024-campaign\n",
      "https://thenevadaindependent.com/article/trump-plans-campaign-stop-in-vegas-on-saturday\n",
      "https://thenevadaindependent.com/article/7-months-before-primaries-boulder-citys-july-4th-event-sees-less-politicking-than-usual\n",
      "https://thenevadaindependent.com/article/nevada-teachers-union-vows-to-fight-public-funding-for-as-vegas-stadium\n",
      "https://thenevadaindependent.com/article/nevada-democrats-keep-abortion-top-of-mind-one-year-after-roe-overturned\n",
      "https://thenevadaindependent.com/article/nevada-officials-call-for-dismissal-of-gop-lawsuit-to-stop-presidential-primary-election\n",
      "https://thenevadaindependent.com/article/desantis-aside-few-presidential-hopefuls-heading-to-early-state-nevada\n",
      "https://thenevadaindependent.com/article/desantis-targets-the-left-not-trump-at-northern-nevada-basque-fry\n",
      "https://thenevadaindependent.com/article/d-c-download-where-republican-presidential-candidates-stand-on-yucca\n",
      "https://thenevadaindependent.com/article/former-ambassador-to-iceland-jeffrey-gunter-mulling-senate-run-in-nevada\n",
      "https://thenevadaindependent.com/article/nevada-gop-sues-state-wants-to-hold-a-2024-presidential-caucus\n",
      "https://thenevadaindependent.com/article/national-republicans-recruiting-sam-brown-to-challenge-rosen\n",
      "https://thenevadaindependent.com/article/former-nevada-assemblyman-election-denier-jim-marchant-plans-senate-run\n",
      "https://thenevadaindependent.com/article/biden-winning-hypothetical-matchups-against-trump-desantis-in-nevada\n",
      "https://thenevadaindependent.com/article/rosen-raises-2-4-million-has-record-6-million-on-hand-after-first-quarter-of-2023\n",
      "https://thenevadaindependent.com/article/rosen-announces-2024-senate-re-election-campaign\n",
      "https://thenevadaindependent.com/article/indy-qa-cuccinelli-dhs-leader-under-trump-says-he-sees-more-2024-potential-in-desantis\n",
      "https://thenevadaindependent.com/article/how-medicare-advantage-could-become-a-marquee-issue-in-nevadas-2024-senate-race\n",
      "https://thenevadaindependent.com/article/d-c-download-what-biden-and-desantis-said-in-las-vegas\n",
      "https://thenevadaindependent.com/article/in-visit-to-early-state-nevada-desantis-touts-self-as-leader-willing-to-go-on-offense\n",
      "Article links saved to 'article_links.txt'.\n"
     ]
    }
   ],
   "source": [
    "import requests\n",
    "from bs4 import BeautifulSoup\n",
    "\n",
    "# Base URL and page range\n",
    "base_url = \"https://thenevadaindependent.com/articles/election-2024?page=\"\n",
    "pages_to_scrape = 22\n",
    "\n",
    "# List to store article links\n",
    "article_links = []\n",
    "\n",
    "# Loop through pages\n",
    "for page in range(1, pages_to_scrape + 1):\n",
    "    url = f\"{base_url}{page}\"\n",
    "    print(f\"Scraping page {page}: {url}\")\n",
    "    \n",
    "    # Make a request to the page\n",
    "    response = requests.get(url)\n",
    "    if response.status_code == 200:\n",
    "        soup = BeautifulSoup(response.text, \"html.parser\")\n",
    "        # Find all article links matching the specified format\n",
    "        for link in soup.find_all(\"a\", href=True):\n",
    "            href = link[\"href\"]\n",
    "            if href.startswith(\"/article/\"):\n",
    "                full_link = f\"https://thenevadaindependent.com{href}\"\n",
    "                if full_link not in article_links:\n",
    "                    article_links.append(full_link)\n",
    "    else:\n",
    "        print(f\"Failed to fetch page {page}, status code: {response.status_code}\")\n",
    "\n",
    "# Print and save the results\n",
    "print(f\"Found {len(article_links)} article links.\")\n",
    "for link in article_links:\n",
    "    print(link)\n",
    "\n",
    "# Save the links to a file\n",
    "with open(\"article_links.txt\", \"w\") as file:\n",
    "    for link in article_links:\n",
    "        file.write(link + \"\\n\")\n",
    "\n",
    "print(\"Article links saved to 'article_links.txt'.\")"
   ]
  },
  {
   "cell_type": "code",
   "execution_count": 3,
   "id": "0f81265e-83cf-4177-b0bc-6c7405514708",
   "metadata": {},
   "outputs": [
    {
     "name": "stderr",
     "output_type": "stream",
     "text": [
      "  0%|                                                   | 0/425 [00:00<?, ?it/s]"
     ]
    },
    {
     "name": "stdout",
     "output_type": "stream",
     "text": [
      "Processing link: https://thenevadaindependent.com/article/as-unemployment-benefits-stop-for-close-to-150000-nevadans-observers-fear-tough-road-ahead\n"
     ]
    },
    {
     "name": "stderr",
     "output_type": "stream",
     "text": [
      "  0%|                                           | 1/425 [00:00<03:02,  2.33it/s]"
     ]
    },
    {
     "name": "stdout",
     "output_type": "stream",
     "text": [
      "Processing link: https://thenevadaindependent.com/article/despite-progress-in-nevada-new-study-shows-voting-for-native-americans-harder-than-ever\n"
     ]
    },
    {
     "name": "stderr",
     "output_type": "stream",
     "text": [
      "  0%|▏                                          | 2/425 [00:00<02:59,  2.35it/s]"
     ]
    },
    {
     "name": "stdout",
     "output_type": "stream",
     "text": [
      "Processing link: https://thenevadaindependent.com/article/analysis-how-redistricting-helped-nevada-democrats-but-not-enough-to-gain-supermajority\n"
     ]
    },
    {
     "name": "stderr",
     "output_type": "stream",
     "text": [
      "  1%|▎                                          | 3/425 [00:01<02:46,  2.54it/s]"
     ]
    },
    {
     "name": "stdout",
     "output_type": "stream",
     "text": [
      "Processing link: https://thenevadaindependent.com/article/trumps-threat-of-mass-deportations-looms-large-for-undocumented-people-in-nevada\n"
     ]
    },
    {
     "name": "stderr",
     "output_type": "stream",
     "text": [
      "  1%|▍                                          | 4/425 [00:01<02:45,  2.54it/s]"
     ]
    },
    {
     "name": "stdout",
     "output_type": "stream",
     "text": [
      "Processing link: https://thenevadaindependent.com/article/whats-behind-nevada-latinos-shift-toward-trump-in-the-2024-election\n"
     ]
    },
    {
     "name": "stderr",
     "output_type": "stream",
     "text": [
      "  1%|▌                                          | 5/425 [00:02<02:48,  2.49it/s]"
     ]
    },
    {
     "name": "stdout",
     "output_type": "stream",
     "text": [
      "Processing link: https://thenevadaindependent.com/article/nevadas-top-election-official-eyes-changes-to-speed-up-ballot-counting\n"
     ]
    },
    {
     "name": "stderr",
     "output_type": "stream",
     "text": [
      "  1%|▌                                          | 6/425 [00:02<02:33,  2.72it/s]"
     ]
    },
    {
     "name": "stdout",
     "output_type": "stream",
     "text": [
      "Processing link: https://thenevadaindependent.com/article/two-moms-for-liberty-allies-joining-the-clark-county-school-board-what-happens-now\n"
     ]
    },
    {
     "name": "stderr",
     "output_type": "stream",
     "text": [
      "  2%|▋                                          | 7/425 [00:02<02:13,  3.12it/s]"
     ]
    },
    {
     "name": "stdout",
     "output_type": "stream",
     "text": [
      "Processing link: https://thenevadaindependent.com/article/big-voter-turnout-this-year-benefited-republicans-contradicting-conventional-political-wisdom\n"
     ]
    },
    {
     "name": "stderr",
     "output_type": "stream",
     "text": [
      "  2%|▊                                          | 8/425 [00:02<02:29,  2.80it/s]"
     ]
    },
    {
     "name": "stdout",
     "output_type": "stream",
     "text": [
      "Processing link: https://thenevadaindependent.com/article/washoe-library-officials-scrambling-after-voters-shoot-down-funding-measure\n"
     ]
    },
    {
     "name": "stderr",
     "output_type": "stream",
     "text": [
      "  2%|▉                                          | 9/425 [00:03<02:12,  3.13it/s]"
     ]
    },
    {
     "name": "stdout",
     "output_type": "stream",
     "text": [
      "Processing link: https://thenevadaindependent.com/article/how-democrat-jacky-rosen-won-nevadas-senate-race-in-a-trump-year\n"
     ]
    },
    {
     "name": "stderr",
     "output_type": "stream",
     "text": [
      "  2%|▉                                         | 10/425 [00:03<02:22,  2.91it/s]"
     ]
    },
    {
     "name": "stdout",
     "output_type": "stream",
     "text": [
      "Processing link: https://thenevadaindependent.com/article/clark-washoe-counties-certify-2024-election-results\n"
     ]
    },
    {
     "name": "stderr",
     "output_type": "stream",
     "text": [
      "  3%|█                                         | 11/425 [00:04<02:33,  2.71it/s]"
     ]
    },
    {
     "name": "stdout",
     "output_type": "stream",
     "text": [
      "Processing link: https://thenevadaindependent.com/article/clark-county-discovers-1600-uncounted-ballots-but-results-unchanged\n"
     ]
    },
    {
     "name": "stderr",
     "output_type": "stream",
     "text": [
      "  3%|█▏                                        | 12/425 [00:04<02:14,  3.06it/s]"
     ]
    },
    {
     "name": "stdout",
     "output_type": "stream",
     "text": [
      "Processing link: https://thenevadaindependent.com/article/union-backed-no-taxes-on-tips-policy-attracts-unlikely-fan-nonunion-red-rock-resorts\n"
     ]
    },
    {
     "name": "stderr",
     "output_type": "stream",
     "text": [
      "  3%|█▎                                        | 13/425 [00:04<02:07,  3.23it/s]"
     ]
    },
    {
     "name": "stdout",
     "output_type": "stream",
     "text": [
      "Processing link: https://thenevadaindependent.com/article/transgender-students-flood-crisis-hotlines-as-trump-pledges-to-roll-back-lgbtq-protections\n"
     ]
    },
    {
     "name": "stderr",
     "output_type": "stream",
     "text": [
      "  3%|█▍                                        | 14/425 [00:05<02:28,  2.76it/s]"
     ]
    },
    {
     "name": "stdout",
     "output_type": "stream",
     "text": [
      "Processing link: https://thenevadaindependent.com/article/nevada-breaks-signature-curing-record-9k-ballots-tossed-because-of-invalid-signatures\n"
     ]
    },
    {
     "name": "stderr",
     "output_type": "stream",
     "text": [
      "  4%|█▍                                        | 15/425 [00:05<02:34,  2.65it/s]"
     ]
    },
    {
     "name": "stdout",
     "output_type": "stream",
     "text": [
      "Processing link: https://thenevadaindependent.com/article/many-voters-backed-abortion-rights-and-donald-trump-a-challenge-for-democrats\n"
     ]
    },
    {
     "name": "stderr",
     "output_type": "stream",
     "text": [
      "  4%|█▌                                        | 16/425 [00:05<02:33,  2.66it/s]"
     ]
    },
    {
     "name": "stdout",
     "output_type": "stream",
     "text": [
      "Processing link: https://thenevadaindependent.com/article/certifying-this-years-presidential-results-begins-quietly-in-contrast-to-the-2020-election\n"
     ]
    },
    {
     "name": "stderr",
     "output_type": "stream",
     "text": [
      "  4%|█▋                                        | 17/425 [00:06<02:38,  2.58it/s]"
     ]
    },
    {
     "name": "stdout",
     "output_type": "stream",
     "text": [
      "Processing link: https://thenevadaindependent.com/article/trumps-win-brings-uncertainty-to-borrowers-hoping-for-student-loan-forgiveness\n"
     ]
    },
    {
     "name": "stderr",
     "output_type": "stream",
     "text": [
      "  4%|█▊                                        | 18/425 [00:06<02:19,  2.92it/s]"
     ]
    },
    {
     "name": "stdout",
     "output_type": "stream",
     "text": [
      "Processing link: https://thenevadaindependent.com/article/anatomy-of-a-red-wave-how-trump-won-nevada\n"
     ]
    },
    {
     "name": "stderr",
     "output_type": "stream",
     "text": [
      "  4%|█▉                                        | 19/425 [00:06<02:29,  2.71it/s]"
     ]
    },
    {
     "name": "stdout",
     "output_type": "stream",
     "text": [
      "Processing link: https://thenevadaindependent.com/article/analysis-harris-banked-on-wide-nonpartisan-support-in-nevada-it-apparently-never-came\n"
     ]
    },
    {
     "name": "stderr",
     "output_type": "stream",
     "text": [
      "  5%|█▉                                        | 20/425 [00:07<02:12,  3.05it/s]"
     ]
    },
    {
     "name": "stdout",
     "output_type": "stream",
     "text": [
      "Processing link: https://thenevadaindependent.com/article/reno-city-council-to-welcome-new-representative-after-ward-structure-revamped\n"
     ]
    },
    {
     "name": "stderr",
     "output_type": "stream",
     "text": [
      "  5%|██                                        | 21/425 [00:07<02:21,  2.85it/s]"
     ]
    },
    {
     "name": "stdout",
     "output_type": "stream",
     "text": [
      "Processing link: https://thenevadaindependent.com/article/donald-trump-has-sweeping-plans-for-a-second-administration-heres-what-hes-proposed\n"
     ]
    },
    {
     "name": "stderr",
     "output_type": "stream",
     "text": [
      "  5%|██▏                                       | 22/425 [00:07<02:26,  2.75it/s]"
     ]
    },
    {
     "name": "stdout",
     "output_type": "stream",
     "text": [
      "Processing link: https://thenevadaindependent.com/article/incumbents-overwhelmingly-retain-positions-across-northern-nevada-races\n"
     ]
    },
    {
     "name": "stderr",
     "output_type": "stream",
     "text": [
      "  5%|██▎                                       | 23/425 [00:08<02:35,  2.59it/s]"
     ]
    },
    {
     "name": "stdout",
     "output_type": "stream",
     "text": [
      "Processing link: https://thenevadaindependent.com/article/nevada-incumbents-hold-their-seats-in-closely-fought-contest-for-the-house-majority\n"
     ]
    },
    {
     "name": "stderr",
     "output_type": "stream",
     "text": [
      "  6%|██▎                                       | 24/425 [00:08<02:34,  2.59it/s]"
     ]
    },
    {
     "name": "stdout",
     "output_type": "stream",
     "text": [
      "Processing link: https://thenevadaindependent.com/article/changes-abound-for-southern-nevadas-local-governments-after-election\n"
     ]
    },
    {
     "name": "stderr",
     "output_type": "stream",
     "text": [
      "  6%|██▍                                       | 25/425 [00:09<02:38,  2.52it/s]"
     ]
    },
    {
     "name": "stdout",
     "output_type": "stream",
     "text": [
      "Processing link: https://thenevadaindependent.com/article/moms-for-liberty-linked-candidates-win-in-school-board-races\n"
     ]
    },
    {
     "name": "stderr",
     "output_type": "stream",
     "text": [
      "  6%|██▌                                       | 26/425 [00:09<02:22,  2.80it/s]"
     ]
    },
    {
     "name": "stdout",
     "output_type": "stream",
     "text": [
      "Processing link: https://thenevadaindependent.com/article/rosen-wins-reelection-fending-off-brown-in-nevadas-tight-us-senate-race\n"
     ]
    },
    {
     "name": "stderr",
     "output_type": "stream",
     "text": [
      "  6%|██▋                                       | 27/425 [00:09<02:23,  2.77it/s]"
     ]
    },
    {
     "name": "stdout",
     "output_type": "stream",
     "text": [
      "Processing link: https://thenevadaindependent.com/article/nevadans-reject-open-primary-ranked-choice-voting-ballot-measure\n"
     ]
    },
    {
     "name": "stderr",
     "output_type": "stream",
     "text": [
      "  7%|██▊                                       | 28/425 [00:10<02:30,  2.64it/s]"
     ]
    },
    {
     "name": "stdout",
     "output_type": "stream",
     "text": [
      "Processing link: https://thenevadaindependent.com/article/in-win-for-lombardo-dems-appear-unlikely-to-win-veto-proof-supermajority-in-legislature\n"
     ]
    },
    {
     "name": "stderr",
     "output_type": "stream",
     "text": [
      "  7%|██▊                                       | 29/425 [00:10<02:33,  2.57it/s]"
     ]
    },
    {
     "name": "stdout",
     "output_type": "stream",
     "text": [
      "Processing link: https://thenevadaindependent.com/article/nevada-voters-reject-board-of-regents-question-approve-diaper-tax-exemption\n"
     ]
    },
    {
     "name": "stderr",
     "output_type": "stream",
     "text": [
      "  7%|██▉                                       | 30/425 [00:11<02:35,  2.54it/s]"
     ]
    },
    {
     "name": "stdout",
     "output_type": "stream",
     "text": [
      "Processing link: https://thenevadaindependent.com/article/nevada-still-too-close-to-call-as-trump-closes-in-on-presidency\n"
     ]
    },
    {
     "name": "stderr",
     "output_type": "stream",
     "text": [
      "  7%|███                                       | 31/425 [00:11<02:16,  2.89it/s]"
     ]
    },
    {
     "name": "stdout",
     "output_type": "stream",
     "text": [
      "Processing link: https://thenevadaindependent.com/article/nevadans-vote-to-enshrine-abortion-rights-in-constitution-but-it-needs-approval-in-2026\n"
     ]
    },
    {
     "name": "stderr",
     "output_type": "stream",
     "text": [
      "  8%|███▏                                      | 32/425 [00:11<02:23,  2.73it/s]"
     ]
    },
    {
     "name": "stdout",
     "output_type": "stream",
     "text": [
      "Processing link: https://thenevadaindependent.com/article/election-results-live-blog\n"
     ]
    },
    {
     "name": "stderr",
     "output_type": "stream",
     "text": [
      "  8%|███▎                                      | 33/425 [00:11<02:11,  2.99it/s]"
     ]
    },
    {
     "name": "stdout",
     "output_type": "stream",
     "text": [
      "Processing link: https://thenevadaindependent.com/article/nevada-voters-say-they-are-cautiously-optimistic-in-spite-of-charged-election-season\n"
     ]
    },
    {
     "name": "stderr",
     "output_type": "stream",
     "text": [
      "  8%|███▎                                      | 34/425 [00:12<02:22,  2.74it/s]"
     ]
    },
    {
     "name": "stdout",
     "output_type": "stream",
     "text": [
      "Processing link: https://thenevadaindependent.com/article/presidential-outcomes-and-nonpartisan-voters-the-top-13-things-to-watch-on-election-day-in-nevada\n"
     ]
    },
    {
     "name": "stderr",
     "output_type": "stream",
     "text": [
      "  8%|███▍                                      | 35/425 [00:12<02:10,  2.99it/s]"
     ]
    },
    {
     "name": "stdout",
     "output_type": "stream",
     "text": [
      "Processing link: https://thenevadaindependent.com/article/indy-explains-when-will-we-know-nevadas-election-results\n"
     ]
    },
    {
     "name": "stderr",
     "output_type": "stream",
     "text": [
      "  8%|███▌                                      | 36/425 [00:13<02:23,  2.71it/s]"
     ]
    },
    {
     "name": "stdout",
     "output_type": "stream",
     "text": [
      "Processing link: https://thenevadaindependent.com/article/democrats-strong-ground-game-has-won-them-tough-nevada-races-before-will-it-still-work\n"
     ]
    },
    {
     "name": "stderr",
     "output_type": "stream",
     "text": [
      "  9%|███▋                                      | 37/425 [00:13<02:36,  2.48it/s]"
     ]
    },
    {
     "name": "stdout",
     "output_type": "stream",
     "text": [
      "Processing link: https://thenevadaindependent.com/article/reno-pastor-endorses-republicans-in-violation-of-irs-rules\n"
     ]
    },
    {
     "name": "stderr",
     "output_type": "stream",
     "text": [
      "  9%|███▊                                      | 38/425 [00:14<02:38,  2.44it/s]"
     ]
    },
    {
     "name": "stdout",
     "output_type": "stream",
     "text": [
      "Processing link: https://thenevadaindependent.com/article/in-their-own-words-what-its-like-in-a-chaos-congress-and-why-these-lawmakers-keep-coming-back\n"
     ]
    },
    {
     "name": "stderr",
     "output_type": "stream",
     "text": [
      "  9%|███▊                                      | 39/425 [00:14<02:21,  2.74it/s]"
     ]
    },
    {
     "name": "stdout",
     "output_type": "stream",
     "text": [
      "Processing link: https://thenevadaindependent.com/article/a-national-campaign-to-lessen-polarization-pushes-states-to-ditch-partisan-primaries\n"
     ]
    },
    {
     "name": "stderr",
     "output_type": "stream",
     "text": [
      "  9%|███▉                                      | 40/425 [00:14<02:25,  2.64it/s]"
     ]
    },
    {
     "name": "stdout",
     "output_type": "stream",
     "text": [
      "Processing link: https://thenevadaindependent.com/article/takeaways-from-kamala-harris-closing-pitch-in-nevada\n"
     ]
    },
    {
     "name": "stderr",
     "output_type": "stream",
     "text": [
      " 10%|████                                      | 41/425 [00:15<02:30,  2.54it/s]"
     ]
    },
    {
     "name": "stdout",
     "output_type": "stream",
     "text": [
      "Processing link: https://thenevadaindependent.com/article/trump-makes-final-pitch-to-nevadans-cheers-gops-early-voting-totals\n"
     ]
    },
    {
     "name": "stderr",
     "output_type": "stream",
     "text": [
      " 10%|████▏                                     | 42/425 [00:15<02:30,  2.54it/s]"
     ]
    },
    {
     "name": "stdout",
     "output_type": "stream",
     "text": [
      "Processing link: https://thenevadaindependent.com/article/las-vegas-city-council-could-vote-to-settle-badlands-lawsuit-after-the-election\n"
     ]
    },
    {
     "name": "stderr",
     "output_type": "stream",
     "text": [
      " 10%|████▏                                     | 43/425 [00:15<02:30,  2.54it/s]"
     ]
    },
    {
     "name": "stdout",
     "output_type": "stream",
     "text": [
      "Processing link: https://thenevadaindependent.com/article/from-the-presidential-race-down-nevada-matters-but-how-much\n"
     ]
    },
    {
     "name": "stderr",
     "output_type": "stream",
     "text": [
      " 10%|████▎                                     | 44/425 [00:16<03:16,  1.94it/s]"
     ]
    },
    {
     "name": "stdout",
     "output_type": "stream",
     "text": [
      "Processing link: https://thenevadaindependent.com/article/manager-of-a-key-nevada-swing-county-goes-on-medical-leave-ahead-of-election\n"
     ]
    },
    {
     "name": "stderr",
     "output_type": "stream",
     "text": [
      " 11%|████▍                                     | 45/425 [00:17<03:00,  2.11it/s]"
     ]
    },
    {
     "name": "stdout",
     "output_type": "stream",
     "text": [
      "Processing link: https://thenevadaindependent.com/article/an-elections-worker-wanted-to-serve-her-country-a-stew-of-conspiracy-theories-and-vitriol-awaited\n"
     ]
    },
    {
     "name": "stderr",
     "output_type": "stream",
     "text": [
      " 11%|████▌                                     | 46/425 [00:17<03:38,  1.74it/s]"
     ]
    },
    {
     "name": "stdout",
     "output_type": "stream",
     "text": [
      "Processing link: https://thenevadaindependent.com/article/experts-weigh-in-on-how-ranked-choice-voting-could-transform-nevada-elections\n"
     ]
    },
    {
     "name": "stderr",
     "output_type": "stream",
     "text": [
      " 11%|████▋                                     | 47/425 [00:18<03:09,  2.00it/s]"
     ]
    },
    {
     "name": "stdout",
     "output_type": "stream",
     "text": [
      "Processing link: https://thenevadaindependent.com/article/nevada-supreme-court-rules-non-postmarked-ballots-can-be-counted-within-3-days-of-election\n"
     ]
    },
    {
     "name": "stderr",
     "output_type": "stream",
     "text": [
      " 11%|████▋                                     | 48/425 [00:18<02:59,  2.10it/s]"
     ]
    },
    {
     "name": "stdout",
     "output_type": "stream",
     "text": [
      "Processing link: https://thenevadaindependent.com/article/nevada-events-abound-as-campaigns-more-aware-that-the-asian-vote-matters\n"
     ]
    },
    {
     "name": "stderr",
     "output_type": "stream",
     "text": [
      " 12%|████▊                                     | 49/425 [00:18<02:35,  2.42it/s]"
     ]
    },
    {
     "name": "stdout",
     "output_type": "stream",
     "text": [
      "Processing link: https://thenevadaindependent.com/article/at-listening-session-latinos-express-dissatisfaction-with-both-parties\n"
     ]
    },
    {
     "name": "stderr",
     "output_type": "stream",
     "text": [
      " 12%|████▉                                     | 50/425 [00:19<02:34,  2.43it/s]"
     ]
    },
    {
     "name": "stdout",
     "output_type": "stream",
     "text": [
      "Processing link: https://thenevadaindependent.com/article/indyfest-2024-pollster-says-polarization-is-fueling-rising-distrust-in-government\n"
     ]
    },
    {
     "name": "stderr",
     "output_type": "stream",
     "text": [
      " 12%|█████                                     | 51/425 [00:20<03:20,  1.87it/s]"
     ]
    },
    {
     "name": "stdout",
     "output_type": "stream",
     "text": [
      "Processing link: https://thenevadaindependent.com/article/four-takeaways-from-trumps-aapi-voter-focused-rally-in-vegas\n"
     ]
    },
    {
     "name": "stderr",
     "output_type": "stream",
     "text": [
      " 12%|█████▏                                    | 52/425 [00:20<03:56,  1.58it/s]"
     ]
    },
    {
     "name": "stdout",
     "output_type": "stream",
     "text": [
      "Processing link: https://thenevadaindependent.com/article/indyfest-2024-forecasters-say-trumps-resilience-in-the-polls-makes-this-cycle-different\n"
     ]
    },
    {
     "name": "stderr",
     "output_type": "stream",
     "text": [
      " 12%|█████▏                                    | 53/425 [00:21<04:34,  1.36it/s]"
     ]
    },
    {
     "name": "stdout",
     "output_type": "stream",
     "text": [
      "Processing link: https://thenevadaindependent.com/article/the-top-election-official-in-a-politically-crucial-nevada-county-says-she-was-forced-out\n"
     ]
    },
    {
     "name": "stderr",
     "output_type": "stream",
     "text": [
      " 13%|█████▎                                    | 54/425 [00:22<05:02,  1.23it/s]"
     ]
    },
    {
     "name": "stdout",
     "output_type": "stream",
     "text": [
      "Processing link: https://thenevadaindependent.com/article/encouraged-by-early-voting-data-mcconnell-linked-group-to-drop-6-2-million-to-help-brown\n"
     ]
    },
    {
     "name": "stderr",
     "output_type": "stream",
     "text": [
      " 13%|█████▍                                    | 55/425 [00:23<04:17,  1.44it/s]"
     ]
    },
    {
     "name": "stdout",
     "output_type": "stream",
     "text": [
      "Processing link: https://thenevadaindependent.com/article/introducing-our-2024-voter-guide-on-key-judicial-races\n"
     ]
    },
    {
     "name": "stderr",
     "output_type": "stream",
     "text": [
      " 13%|█████▌                                    | 56/425 [00:23<03:41,  1.67it/s]"
     ]
    },
    {
     "name": "stdout",
     "output_type": "stream",
     "text": [
      "Processing link: https://thenevadaindependent.com/article/gop-asks-nevada-poll-observers-to-ensure-voting-machines-are-operating-accurately\n"
     ]
    },
    {
     "name": "stderr",
     "output_type": "stream",
     "text": [
      " 13%|█████▋                                    | 57/425 [00:24<03:19,  1.85it/s]"
     ]
    },
    {
     "name": "stdout",
     "output_type": "stream",
     "text": [
      "Processing link: https://thenevadaindependent.com/article/three-takeaways-from-jd-vances-visit-to-nevada\n"
     ]
    },
    {
     "name": "stderr",
     "output_type": "stream",
     "text": [
      " 14%|█████▋                                    | 58/425 [00:24<03:06,  1.97it/s]"
     ]
    },
    {
     "name": "stdout",
     "output_type": "stream",
     "text": [
      "Processing link: https://thenevadaindependent.com/article/indy-gaming-casinos-well-outside-city-limits-donating-to-vegas-mayor-candidates\n"
     ]
    },
    {
     "name": "stderr",
     "output_type": "stream",
     "text": [
      " 14%|█████▊                                    | 59/425 [00:25<02:57,  2.06it/s]"
     ]
    },
    {
     "name": "stdout",
     "output_type": "stream",
     "text": [
      "Processing link: https://thenevadaindependent.com/article/what-made-sam-brown-run-again\n"
     ]
    },
    {
     "name": "stderr",
     "output_type": "stream",
     "text": [
      " 14%|█████▉                                    | 60/425 [00:25<02:58,  2.04it/s]"
     ]
    },
    {
     "name": "stdout",
     "output_type": "stream",
     "text": [
      "Processing link: https://thenevadaindependent.com/article/indyfest-2024-pollster-and-sandoval-optimistic-that-voting-in-nevada-will-go-smoothly\n"
     ]
    },
    {
     "name": "stderr",
     "output_type": "stream",
     "text": [
      " 14%|██████                                    | 61/425 [00:25<02:45,  2.20it/s]"
     ]
    },
    {
     "name": "stdout",
     "output_type": "stream",
     "text": [
      "Processing link: https://thenevadaindependent.com/article/for-second-time-judge-dismisses-gop-lawsuit-challenging-nevada-voter-rolls\n"
     ]
    },
    {
     "name": "stderr",
     "output_type": "stream",
     "text": [
      " 15%|██████▏                                   | 62/425 [00:26<02:42,  2.24it/s]"
     ]
    },
    {
     "name": "stdout",
     "output_type": "stream",
     "text": [
      "Processing link: https://thenevadaindependent.com/article/in-return-to-nevada-obama-condemns-trumps-character-touts-harris-proposals\n"
     ]
    },
    {
     "name": "stderr",
     "output_type": "stream",
     "text": [
      " 15%|██████▏                                   | 63/425 [00:26<02:58,  2.02it/s]"
     ]
    },
    {
     "name": "stdout",
     "output_type": "stream",
     "text": [
      "Processing link: https://thenevadaindependent.com/article/in-long-lines-nevada-early-voters-say-this-is-election-of-their-lifetimes\n"
     ]
    },
    {
     "name": "stderr",
     "output_type": "stream",
     "text": [
      " 15%|██████▎                                   | 64/425 [00:27<02:46,  2.17it/s]"
     ]
    },
    {
     "name": "stdout",
     "output_type": "stream",
     "text": [
      "Processing link: https://thenevadaindependent.com/article/in-person-early-voting-is-starting-in-nevada-heres-what-to-know\n"
     ]
    },
    {
     "name": "stderr",
     "output_type": "stream",
     "text": [
      " 15%|██████▍                                   | 65/425 [00:27<02:42,  2.22it/s]"
     ]
    },
    {
     "name": "stdout",
     "output_type": "stream",
     "text": [
      "Processing link: https://thenevadaindependent.com/article/on-the-record-assembly-district-41-candidates-sandra-jauregui-and-rafael-arroyo\n"
     ]
    },
    {
     "name": "stderr",
     "output_type": "stream",
     "text": [
      " 16%|██████▌                                   | 66/425 [00:27<02:20,  2.56it/s]"
     ]
    },
    {
     "name": "stdout",
     "output_type": "stream",
     "text": [
      "Processing link: https://thenevadaindependent.com/article/with-supermajority-at-stake-fundraising-battle-is-tight-in-key-nevada-legislative-races\n"
     ]
    },
    {
     "name": "stderr",
     "output_type": "stream",
     "text": [
      " 16%|██████▌                                   | 67/425 [00:28<02:27,  2.42it/s]"
     ]
    },
    {
     "name": "stdout",
     "output_type": "stream",
     "text": [
      "Processing link: https://thenevadaindependent.com/article/on-the-record-congressional-district-3-candidates-susie-lee-and-drew-johnson\n"
     ]
    },
    {
     "name": "stderr",
     "output_type": "stream",
     "text": [
      " 16%|██████▋                                   | 68/425 [00:28<02:26,  2.44it/s]"
     ]
    },
    {
     "name": "stdout",
     "output_type": "stream",
     "text": [
      "Processing link: https://thenevadaindependent.com/article/in-senate-debate-rosen-and-brown-stick-to-campaign-playbooks\n"
     ]
    },
    {
     "name": "stderr",
     "output_type": "stream",
     "text": [
      " 16%|██████▊                                   | 69/425 [00:29<02:50,  2.09it/s]"
     ]
    },
    {
     "name": "stdout",
     "output_type": "stream",
     "text": [
      "Processing link: https://thenevadaindependent.com/article/a-man-arrested-with-guns-outside-a-trump-rally-in-california-is-suing-the-sheriff\n"
     ]
    },
    {
     "name": "stderr",
     "output_type": "stream",
     "text": [
      " 16%|██████▉                                   | 70/425 [00:29<02:49,  2.09it/s]"
     ]
    },
    {
     "name": "stdout",
     "output_type": "stream",
     "text": [
      "Processing link: https://thenevadaindependent.com/article/on-the-record-assembly-district-21-candidate-april-arndt\n"
     ]
    },
    {
     "name": "stderr",
     "output_type": "stream",
     "text": [
      " 17%|███████                                   | 71/425 [00:30<02:27,  2.40it/s]"
     ]
    },
    {
     "name": "stdout",
     "output_type": "stream",
     "text": [
      "Processing link: https://thenevadaindependent.com/article/democrats-continue-fundraising-dominance-in-nevada-congressional-races\n"
     ]
    },
    {
     "name": "stderr",
     "output_type": "stream",
     "text": [
      " 17%|███████                                   | 72/425 [00:30<02:58,  1.98it/s]"
     ]
    },
    {
     "name": "stdout",
     "output_type": "stream",
     "text": [
      "Processing link: https://thenevadaindependent.com/article/website-linking-assembly-candidate-to-taliban-supporters-called-islamophobic\n"
     ]
    },
    {
     "name": "stderr",
     "output_type": "stream",
     "text": [
      " 17%|███████▏                                  | 73/425 [00:31<02:51,  2.06it/s]"
     ]
    },
    {
     "name": "stdout",
     "output_type": "stream",
     "text": [
      "Processing link: https://thenevadaindependent.com/article/now-a-quarter-of-the-nevada-electorate-campaigns-hope-to-improve-margins-with-youth\n"
     ]
    },
    {
     "name": "stderr",
     "output_type": "stream",
     "text": [
      " 17%|███████▎                                  | 74/425 [00:31<02:50,  2.06it/s]"
     ]
    },
    {
     "name": "stdout",
     "output_type": "stream",
     "text": [
      "Processing link: https://thenevadaindependent.com/article/on-the-record-senate-district-11-candidates-dallas-harris-and-lori-rogich\n"
     ]
    },
    {
     "name": "stderr",
     "output_type": "stream",
     "text": [
      " 18%|███████▍                                  | 75/425 [00:32<02:56,  1.98it/s]"
     ]
    },
    {
     "name": "stdout",
     "output_type": "stream",
     "text": [
      "Processing link: https://thenevadaindependent.com/article/seaman-seeks-promotion-to-las-vegas-mayor-after-five-years-on-the-council\n"
     ]
    },
    {
     "name": "stderr",
     "output_type": "stream",
     "text": [
      " 18%|███████▌                                  | 76/425 [00:33<03:02,  1.91it/s]"
     ]
    },
    {
     "name": "stdout",
     "output_type": "stream",
     "text": [
      "Processing link: https://thenevadaindependent.com/article/at-north-las-vegas-roundtable-trump-paints-himself-as-bringer-of-latino-prosperity\n"
     ]
    },
    {
     "name": "stderr",
     "output_type": "stream",
     "text": [
      " 18%|███████▌                                  | 77/425 [00:33<02:56,  1.97it/s]"
     ]
    },
    {
     "name": "stdout",
     "output_type": "stream",
     "text": [
      "Processing link: https://thenevadaindependent.com/article/in-nevada-focus-group-nonpartisan-men-of-color-supportive-of-abortion-protections\n"
     ]
    },
    {
     "name": "stderr",
     "output_type": "stream",
     "text": [
      " 18%|███████▋                                  | 78/425 [00:34<03:05,  1.87it/s]"
     ]
    },
    {
     "name": "stdout",
     "output_type": "stream",
     "text": [
      "Processing link: https://thenevadaindependent.com/article/four-takeaways-from-trumps-rally-in-reno\n"
     ]
    },
    {
     "name": "stderr",
     "output_type": "stream",
     "text": [
      " 19%|███████▊                                  | 79/425 [00:34<03:05,  1.86it/s]"
     ]
    },
    {
     "name": "stdout",
     "output_type": "stream",
     "text": [
      "Processing link: https://thenevadaindependent.com/article/obama-to-rally-for-harris-in-las-vegas-on-oct-19\n"
     ]
    },
    {
     "name": "stderr",
     "output_type": "stream",
     "text": [
      " 19%|███████▉                                  | 80/425 [00:35<04:20,  1.32it/s]"
     ]
    },
    {
     "name": "stdout",
     "output_type": "stream",
     "text": [
      "Processing link: https://thenevadaindependent.com/article/dina-titus-mark-robertson-face-off-again-in-nevadas-1st-congressional-district\n"
     ]
    },
    {
     "name": "stderr",
     "output_type": "stream",
     "text": [
      " 19%|████████                                  | 81/425 [00:36<03:48,  1.51it/s]"
     ]
    },
    {
     "name": "stdout",
     "output_type": "stream",
     "text": [
      "Processing link: https://thenevadaindependent.com/article/at-vegas-town-hall-harris-faces-questions-from-latinos-on-immigration-health-care\n"
     ]
    },
    {
     "name": "stderr",
     "output_type": "stream",
     "text": [
      " 19%|████████                                  | 82/425 [00:37<03:59,  1.43it/s]"
     ]
    },
    {
     "name": "stdout",
     "output_type": "stream",
     "text": [
      "Processing link: https://thenevadaindependent.com/article/after-canceling-its-nevada-reservations-nrsc-joins-forces-with-brown-in-hybrid-ads\n"
     ]
    },
    {
     "name": "stderr",
     "output_type": "stream",
     "text": [
      " 20%|████████▏                                 | 83/425 [00:37<03:33,  1.60it/s]"
     ]
    },
    {
     "name": "stdout",
     "output_type": "stream",
     "text": [
      "Processing link: https://thenevadaindependent.com/article/carson-city-voters-to-receive-new-mail-in-ballots-following-incorrect-party-designation\n"
     ]
    },
    {
     "name": "stderr",
     "output_type": "stream",
     "text": [
      " 20%|████████▎                                 | 84/425 [00:38<04:06,  1.38it/s]"
     ]
    },
    {
     "name": "stdout",
     "output_type": "stream",
     "text": [
      "Processing link: https://thenevadaindependent.com/article/poll-in-nevada-bipartisan-support-for-expanding-pathways-to-legal-citizenship\n"
     ]
    },
    {
     "name": "stderr",
     "output_type": "stream",
     "text": [
      " 20%|████████▍                                 | 85/425 [00:38<03:35,  1.58it/s]"
     ]
    },
    {
     "name": "stdout",
     "output_type": "stream",
     "text": [
      "Processing link: https://thenevadaindependent.com/article/in-nevadas-only-gop-house-district-incumbent-amodei-faces-well-heeled-indie-challenge\n"
     ]
    },
    {
     "name": "stderr",
     "output_type": "stream",
     "text": [
      " 20%|████████▍                                 | 86/425 [00:39<03:52,  1.46it/s]"
     ]
    },
    {
     "name": "stdout",
     "output_type": "stream",
     "text": [
      "Processing link: https://thenevadaindependent.com/article/rosen-raises-12-1-million-in-third-quarter-of-senate-race-her-best-haul-yet\n"
     ]
    },
    {
     "name": "stderr",
     "output_type": "stream",
     "text": [
      " 20%|████████▌                                 | 87/425 [00:39<03:04,  1.83it/s]"
     ]
    },
    {
     "name": "stdout",
     "output_type": "stream",
     "text": [
      "Processing link: https://thenevadaindependent.com/article/in-reno-walz-touts-home-health-care-plan-harris-receives-first-nevada-tribe-endorsement\n"
     ]
    },
    {
     "name": "stderr",
     "output_type": "stream",
     "text": [
      " 21%|████████▋                                 | 88/425 [00:41<04:26,  1.27it/s]"
     ]
    },
    {
     "name": "stdout",
     "output_type": "stream",
     "text": [
      "Processing link: https://thenevadaindependent.com/article/among-some-bernie-sanders-supporters-in-nevada-harris-is-the-best-of-the-choices\n"
     ]
    },
    {
     "name": "stderr",
     "output_type": "stream",
     "text": [
      " 21%|████████▊                                 | 89/425 [00:41<03:46,  1.49it/s]"
     ]
    },
    {
     "name": "stdout",
     "output_type": "stream",
     "text": [
      "Processing link: https://thenevadaindependent.com/article/on-the-record-assembly-district-25-candidates-selena-la-rue-hatch-and-diana-sande\n"
     ]
    },
    {
     "name": "stderr",
     "output_type": "stream",
     "text": [
      " 21%|████████▉                                 | 90/425 [00:41<03:01,  1.84it/s]"
     ]
    },
    {
     "name": "stdout",
     "output_type": "stream",
     "text": [
      "Processing link: https://thenevadaindependent.com/article/harris-campaign-courts-lds-voters-in-nevada-banking-on-jan-6-distaste-for-trump\n"
     ]
    },
    {
     "name": "stderr",
     "output_type": "stream",
     "text": [
      " 21%|████████▉                                 | 91/425 [00:42<03:34,  1.56it/s]"
     ]
    },
    {
     "name": "stdout",
     "output_type": "stream",
     "text": [
      "Processing link: https://thenevadaindependent.com/article/once-legislative-colleagues-steven-horsford-john-lee-now-squaring-off-for-house-seat\n"
     ]
    },
    {
     "name": "stderr",
     "output_type": "stream",
     "text": [
      " 22%|█████████                                 | 92/425 [00:43<02:53,  1.92it/s]"
     ]
    },
    {
     "name": "stdout",
     "output_type": "stream",
     "text": [
      "Processing link: https://thenevadaindependent.com/article/democrats-call-for-dismissal-of-gop-lawsuit-alleging-noncitizens-on-nevada-voter-rolls\n"
     ]
    },
    {
     "name": "stderr",
     "output_type": "stream",
     "text": [
      " 22%|█████████▏                                | 93/425 [00:43<03:11,  1.74it/s]"
     ]
    },
    {
     "name": "stdout",
     "output_type": "stream",
     "text": [
      "Processing link: https://thenevadaindependent.com/article/poll-distrust-in-u-s-elections-remains-in-nevada-but-state-elections-seen-as-fair\n"
     ]
    },
    {
     "name": "stderr",
     "output_type": "stream",
     "text": [
      " 22%|█████████▎                                | 94/425 [00:44<02:38,  2.09it/s]"
     ]
    },
    {
     "name": "stdout",
     "output_type": "stream",
     "text": [
      "Processing link: https://thenevadaindependent.com/article/majority-of-nevadans-support-voter-id-harris-gaining-over-trump\n"
     ]
    },
    {
     "name": "stderr",
     "output_type": "stream",
     "text": [
      " 22%|█████████▍                                | 95/425 [00:44<02:28,  2.22it/s]"
     ]
    },
    {
     "name": "stdout",
     "output_type": "stream",
     "text": [
      "Processing link: https://thenevadaindependent.com/article/poll-nevadans-of-both-parties-against-new-tariff-hikes-trump-has-backed-the-concept\n"
     ]
    },
    {
     "name": "stderr",
     "output_type": "stream",
     "text": [
      " 23%|█████████▍                                | 96/425 [00:44<02:28,  2.21it/s]"
     ]
    },
    {
     "name": "stdout",
     "output_type": "stream",
     "text": [
      "Processing link: https://thenevadaindependent.com/article/vance-and-walz-keep-it-civil-in-a-policy-heavy-discussion-vp-debate-takeaways\n"
     ]
    },
    {
     "name": "stderr",
     "output_type": "stream",
     "text": [
      " 23%|█████████▌                                | 97/425 [00:45<02:56,  1.86it/s]"
     ]
    },
    {
     "name": "stdout",
     "output_type": "stream",
     "text": [
      "Processing link: https://thenevadaindependent.com/article/as-gop-files-and-loses-election-lawsuits-in-nevada-dems-say-its-a-plan-to-sow-distrust\n"
     ]
    },
    {
     "name": "stderr",
     "output_type": "stream",
     "text": [
      " 23%|█████████▋                                | 98/425 [00:45<02:26,  2.23it/s]"
     ]
    },
    {
     "name": "stdout",
     "output_type": "stream",
     "text": [
      "Processing link: https://thenevadaindependent.com/article/on-the-record-assembly-district-37-candidates-shea-backus-and-david-brog\n"
     ]
    },
    {
     "name": "stderr",
     "output_type": "stream",
     "text": [
      " 23%|█████████▊                                | 99/425 [00:46<02:05,  2.60it/s]"
     ]
    },
    {
     "name": "stdout",
     "output_type": "stream",
     "text": [
      "Processing link: https://thenevadaindependent.com/article/four-takeaways-from-kamala-harris-speech-in-las-vegas\n"
     ]
    },
    {
     "name": "stderr",
     "output_type": "stream",
     "text": [
      " 24%|█████████▋                               | 100/425 [00:46<02:04,  2.61it/s]"
     ]
    },
    {
     "name": "stdout",
     "output_type": "stream",
     "text": [
      "Processing link: https://thenevadaindependent.com/article/berkley-views-las-vegas-mayors-race-as-her-final-chapter-in-public-service\n"
     ]
    },
    {
     "name": "stderr",
     "output_type": "stream",
     "text": [
      " 24%|█████████▋                               | 101/425 [00:46<02:06,  2.55it/s]"
     ]
    },
    {
     "name": "stdout",
     "output_type": "stream",
     "text": [
      "Processing link: https://thenevadaindependent.com/article/on-the-record-assembly-district-29-candidates-annette-dawson-owens-and-joe-dalia\n"
     ]
    },
    {
     "name": "stderr",
     "output_type": "stream",
     "text": [
      " 24%|█████████▊                               | 102/425 [00:47<02:04,  2.60it/s]"
     ]
    },
    {
     "name": "stdout",
     "output_type": "stream",
     "text": [
      "Processing link: https://thenevadaindependent.com/article/vegas-mayor-candidates-agree-on-ending-badlands-drama-but-spar-on-how\n"
     ]
    },
    {
     "name": "stderr",
     "output_type": "stream",
     "text": [
      " 24%|█████████▉                               | 103/425 [00:47<01:49,  2.93it/s]"
     ]
    },
    {
     "name": "stdout",
     "output_type": "stream",
     "text": [
      "Processing link: https://thenevadaindependent.com/article/on-the-record-senate-district-15-candidates-angie-taylor-and-mike-ginsburg\n"
     ]
    },
    {
     "name": "stderr",
     "output_type": "stream",
     "text": [
      " 24%|██████████                               | 104/425 [00:47<01:43,  3.11it/s]"
     ]
    },
    {
     "name": "stdout",
     "output_type": "stream",
     "text": [
      "Processing link: https://thenevadaindependent.com/article/washoe-county-registrar-of-voters-to-take-a-leave-of-absence-ahead-of-election\n"
     ]
    },
    {
     "name": "stderr",
     "output_type": "stream",
     "text": [
      " 25%|██████████▏                              | 105/425 [00:48<02:15,  2.35it/s]"
     ]
    },
    {
     "name": "stdout",
     "output_type": "stream",
     "text": [
      "Processing link: https://thenevadaindependent.com/article/nevadans-have-cast-first-votes-of-the-2024-general-election\n"
     ]
    },
    {
     "name": "stderr",
     "output_type": "stream",
     "text": [
      " 25%|██████████▏                              | 106/425 [00:48<01:58,  2.69it/s]"
     ]
    },
    {
     "name": "stdout",
     "output_type": "stream",
     "text": [
      "Processing link: https://thenevadaindependent.com/article/in-partisan-senate-does-jacky-rosens-kill-em-with-kindness-approach-work\n"
     ]
    },
    {
     "name": "stderr",
     "output_type": "stream",
     "text": [
      " 25%|██████████▎                              | 107/425 [00:49<02:10,  2.44it/s]"
     ]
    },
    {
     "name": "stdout",
     "output_type": "stream",
     "text": [
      "Processing link: https://thenevadaindependent.com/article/d-c-download-miriam-adelson-jews-have-a-sacred-duty-to-vote-for-trump\n"
     ]
    },
    {
     "name": "stderr",
     "output_type": "stream",
     "text": [
      " 25%|██████████▍                              | 108/425 [00:49<01:54,  2.78it/s]"
     ]
    },
    {
     "name": "stdout",
     "output_type": "stream",
     "text": [
      "Processing link: https://thenevadaindependent.com/article/green-party-cannot-land-on-nevada-presidential-ballot-u-s-supreme-court-rules\n"
     ]
    },
    {
     "name": "stderr",
     "output_type": "stream",
     "text": [
      " 26%|██████████▌                              | 109/425 [00:50<02:48,  1.88it/s]"
     ]
    },
    {
     "name": "stdout",
     "output_type": "stream",
     "text": [
      "Processing link: https://thenevadaindependent.com/article/on-the-record-assembly-district-4-candidates-lisa-cole-and-ryan-hampton\n"
     ]
    },
    {
     "name": "stderr",
     "output_type": "stream",
     "text": [
      " 26%|██████████▌                              | 110/425 [00:50<02:36,  2.01it/s]"
     ]
    },
    {
     "name": "stdout",
     "output_type": "stream",
     "text": [
      "Processing link: https://thenevadaindependent.com/article/poll-nevadans-support-expanding-universal-preschool-funding-child-tax-credits\n"
     ]
    },
    {
     "name": "stderr",
     "output_type": "stream",
     "text": [
      " 26%|██████████▋                              | 111/425 [00:51<02:55,  1.79it/s]"
     ]
    },
    {
     "name": "stdout",
     "output_type": "stream",
     "text": [
      "Processing link: https://thenevadaindependent.com/article/horsford-intros-his-own-bill-ending-taxes-on-tips-while-also-raising-subminimum-wage\n"
     ]
    },
    {
     "name": "stderr",
     "output_type": "stream",
     "text": [
      " 26%|██████████▊                              | 112/425 [00:52<03:04,  1.70it/s]"
     ]
    },
    {
     "name": "stdout",
     "output_type": "stream",
     "text": [
      "Processing link: https://thenevadaindependent.com/article/harris-rosen-brown-trump-do-the-nevada-senate-candidates-mirror-presidential-hopefuls\n"
     ]
    },
    {
     "name": "stderr",
     "output_type": "stream",
     "text": [
      " 27%|██████████▉                              | 113/425 [00:52<03:28,  1.50it/s]"
     ]
    },
    {
     "name": "stdout",
     "output_type": "stream",
     "text": [
      "Processing link: https://thenevadaindependent.com/article/in-nevada-clean-energy-divides-the-senate-race\n"
     ]
    },
    {
     "name": "stderr",
     "output_type": "stream",
     "text": [
      " 27%|██████████▉                              | 114/425 [00:53<03:00,  1.73it/s]"
     ]
    },
    {
     "name": "stdout",
     "output_type": "stream",
     "text": [
      "Processing link: https://thenevadaindependent.com/article/nevada-latinos-have-more-voting-power-than-ever-heres-what-that-means-for-2024\n"
     ]
    },
    {
     "name": "stderr",
     "output_type": "stream",
     "text": [
      " 27%|███████████                              | 115/425 [00:53<02:29,  2.08it/s]"
     ]
    },
    {
     "name": "stdout",
     "output_type": "stream",
     "text": [
      "Processing link: https://thenevadaindependent.com/article/indy-explains-how-question-7-would-require-voter-id-in-nevada\n"
     ]
    },
    {
     "name": "stderr",
     "output_type": "stream",
     "text": [
      " 27%|███████████▏                             | 116/425 [00:54<02:23,  2.16it/s]"
     ]
    },
    {
     "name": "stdout",
     "output_type": "stream",
     "text": [
      "Processing link: https://thenevadaindependent.com/article/trump-defends-debate-performance-at-vegas-rally-vows-to-free-up-federally-owned-land\n"
     ]
    },
    {
     "name": "stderr",
     "output_type": "stream",
     "text": [
      " 28%|███████████▎                             | 117/425 [00:55<03:21,  1.53it/s]"
     ]
    },
    {
     "name": "stdout",
     "output_type": "stream",
     "text": [
      "Processing link: https://thenevadaindependent.com/article/on-the-record-senate-district-5-candidates-carrie-buck-and-jennifer-atlas\n"
     ]
    },
    {
     "name": "stderr",
     "output_type": "stream",
     "text": [
      " 28%|███████████▍                             | 118/425 [00:55<03:38,  1.41it/s]"
     ]
    },
    {
     "name": "stdout",
     "output_type": "stream",
     "text": [
      "Processing link: https://thenevadaindependent.com/article/poll-nevada-latinos-backing-harris-but-margin-with-trump-closer-than-in-2020\n"
     ]
    },
    {
     "name": "stderr",
     "output_type": "stream",
     "text": [
      " 28%|███████████▍                             | 119/425 [00:56<03:32,  1.44it/s]"
     ]
    },
    {
     "name": "stdout",
     "output_type": "stream",
     "text": [
      "Processing link: https://thenevadaindependent.com/article/trump-campaign-sues-nevada-over-alleged-noncitizen-voting\n"
     ]
    },
    {
     "name": "stderr",
     "output_type": "stream",
     "text": [
      " 28%|███████████▌                             | 120/425 [00:57<03:49,  1.33it/s]"
     ]
    },
    {
     "name": "stdout",
     "output_type": "stream",
     "text": [
      "Processing link: https://thenevadaindependent.com/article/poll-nevadans-support-efforts-to-address-social-security-shortfall\n"
     ]
    },
    {
     "name": "stderr",
     "output_type": "stream",
     "text": [
      " 28%|███████████▋                             | 121/425 [00:57<03:21,  1.51it/s]"
     ]
    },
    {
     "name": "stdout",
     "output_type": "stream",
     "text": [
      "Processing link: https://thenevadaindependent.com/article/walz-continues-nevada-trip-with-vegas-fundraiser-coffee-shop-visit\n"
     ]
    },
    {
     "name": "stderr",
     "output_type": "stream",
     "text": [
      " 29%|███████████▊                             | 122/425 [00:58<02:55,  1.72it/s]"
     ]
    },
    {
     "name": "stdout",
     "output_type": "stream",
     "text": [
      "Processing link: https://thenevadaindependent.com/article/nevada-unveils-new-top-down-voter-registration-and-election-management-system\n"
     ]
    },
    {
     "name": "stderr",
     "output_type": "stream",
     "text": [
      " 29%|███████████▊                             | 123/425 [00:59<03:17,  1.53it/s]"
     ]
    },
    {
     "name": "stdout",
     "output_type": "stream",
     "text": [
      "Processing link: https://thenevadaindependent.com/article/walz-tours-reno-wildfire-command-site-after-canceling-rally\n"
     ]
    },
    {
     "name": "stderr",
     "output_type": "stream",
     "text": [
      " 29%|███████████▉                             | 124/425 [00:59<03:20,  1.50it/s]"
     ]
    },
    {
     "name": "stdout",
     "output_type": "stream",
     "text": [
      "Processing link: https://thenevadaindependent.com/article/a-pro-trump-restaurant-owner-may-explain-the-former-presidents-appeal-to-nevada-latinos\n"
     ]
    },
    {
     "name": "stderr",
     "output_type": "stream",
     "text": [
      " 29%|████████████                             | 125/425 [01:00<03:01,  1.65it/s]"
     ]
    },
    {
     "name": "stdout",
     "output_type": "stream",
     "text": [
      "Processing link: https://thenevadaindependent.com/article/indy-explains-what-question-6-would-mean-for-abortion-rights-in-nevada\n"
     ]
    },
    {
     "name": "stderr",
     "output_type": "stream",
     "text": [
      " 30%|████████████▏                            | 126/425 [01:00<02:42,  1.84it/s]"
     ]
    },
    {
     "name": "stdout",
     "output_type": "stream",
     "text": [
      "Processing link: https://thenevadaindependent.com/article/green-party-will-not-appear-on-nevada-presidential-ballot-state-supreme-court-rules\n"
     ]
    },
    {
     "name": "stderr",
     "output_type": "stream",
     "text": [
      " 30%|████████████▎                            | 127/425 [01:00<02:14,  2.21it/s]"
     ]
    },
    {
     "name": "stdout",
     "output_type": "stream",
     "text": [
      "Processing link: https://thenevadaindependent.com/article/political-fight-over-nevada-voter-id-question-likely-to-heat-up-after-new-groups-formed\n"
     ]
    },
    {
     "name": "stderr",
     "output_type": "stream",
     "text": [
      " 30%|████████████▎                            | 128/425 [01:01<01:55,  2.56it/s]"
     ]
    },
    {
     "name": "stdout",
     "output_type": "stream",
     "text": [
      "Processing link: https://thenevadaindependent.com/article/nevada-latinos-more-likely-to-vote-than-swing-state-peers\n"
     ]
    },
    {
     "name": "stderr",
     "output_type": "stream",
     "text": [
      " 30%|████████████▍                            | 129/425 [01:01<02:26,  2.02it/s]"
     ]
    },
    {
     "name": "stdout",
     "output_type": "stream",
     "text": [
      "Processing link: https://thenevadaindependent.com/article/brown-says-hes-not-for-changing-our-existing-law-on-abortion-ballot-measure\n"
     ]
    },
    {
     "name": "stderr",
     "output_type": "stream",
     "text": [
      " 31%|████████████▌                            | 130/425 [01:02<02:17,  2.14it/s]"
     ]
    },
    {
     "name": "stdout",
     "output_type": "stream",
     "text": [
      "Processing link: https://thenevadaindependent.com/article/poll-nevada-voters-want-expanded-birth-control-access-oppose-abortion-criminalization\n"
     ]
    },
    {
     "name": "stderr",
     "output_type": "stream",
     "text": [
      " 31%|████████████▋                            | 131/425 [01:03<02:38,  1.85it/s]"
     ]
    },
    {
     "name": "stdout",
     "output_type": "stream",
     "text": [
      "Processing link: https://thenevadaindependent.com/article/the-inflation-reduction-act-may-transform-nevada-will-voters-care\n"
     ]
    },
    {
     "name": "stderr",
     "output_type": "stream",
     "text": [
      " 31%|████████████▋                            | 132/425 [01:03<02:21,  2.08it/s]"
     ]
    },
    {
     "name": "stdout",
     "output_type": "stream",
     "text": [
      "Processing link: https://thenevadaindependent.com/article/indy-explains-no-sales-tax-on-diapers-question-5-on-the-2024-nevada-ballot\n"
     ]
    },
    {
     "name": "stderr",
     "output_type": "stream",
     "text": [
      " 31%|████████████▊                            | 133/425 [01:03<01:58,  2.46it/s]"
     ]
    },
    {
     "name": "stdout",
     "output_type": "stream",
     "text": [
      "Processing link: https://thenevadaindependent.com/article/poll-majority-of-nevadans-support-nato-continuing-aid-to-ukraine\n"
     ]
    },
    {
     "name": "stderr",
     "output_type": "stream",
     "text": [
      " 32%|████████████▉                            | 134/425 [01:04<02:22,  2.04it/s]"
     ]
    },
    {
     "name": "stdout",
     "output_type": "stream",
     "text": [
      "Processing link: https://thenevadaindependent.com/article/rfk-jr-wont-appear-on-nevada-presidential-ballot-after-agreement-with-state-dems\n"
     ]
    },
    {
     "name": "stderr",
     "output_type": "stream",
     "text": [
      " 32%|█████████████                            | 135/425 [01:05<02:40,  1.80it/s]"
     ]
    },
    {
     "name": "stdout",
     "output_type": "stream",
     "text": [
      "Processing link: https://thenevadaindependent.com/article/as-race-narrows-trump-campaign-ramps-up-in-nevada\n"
     ]
    },
    {
     "name": "stderr",
     "output_type": "stream",
     "text": [
      " 32%|█████████████                            | 136/425 [01:05<02:14,  2.16it/s]"
     ]
    },
    {
     "name": "stdout",
     "output_type": "stream",
     "text": [
      "Processing link: https://thenevadaindependent.com/article/d-c-download-three-nevada-takeaways-from-the-dnc\n"
     ]
    },
    {
     "name": "stderr",
     "output_type": "stream",
     "text": [
      " 32%|█████████████▏                           | 137/425 [01:05<01:53,  2.54it/s]"
     ]
    },
    {
     "name": "stdout",
     "output_type": "stream",
     "text": [
      "Processing link: https://thenevadaindependent.com/article/indy-explains-banning-slavery-question-4-on-the-2024-nevada-ballot\n"
     ]
    },
    {
     "name": "stderr",
     "output_type": "stream",
     "text": [
      " 32%|█████████████▎                           | 138/425 [01:05<01:57,  2.44it/s]"
     ]
    },
    {
     "name": "stdout",
     "output_type": "stream",
     "text": [
      "Processing link: https://thenevadaindependent.com/article/trump-touts-proposal-to-end-taxes-on-tipped-wages-in-las-vegas\n"
     ]
    },
    {
     "name": "stderr",
     "output_type": "stream",
     "text": [
      " 33%|█████████████▍                           | 139/425 [01:06<02:00,  2.38it/s]"
     ]
    },
    {
     "name": "stdout",
     "output_type": "stream",
     "text": [
      "Processing link: https://thenevadaindependent.com/article/rfk-jr-still-likely-to-appear-on-nevada-ballot-despite-rumored-withdrawal-from-race\n"
     ]
    },
    {
     "name": "stderr",
     "output_type": "stream",
     "text": [
      " 33%|█████████████▌                           | 140/425 [01:06<01:57,  2.43it/s]"
     ]
    },
    {
     "name": "stdout",
     "output_type": "stream",
     "text": [
      "Processing link: https://thenevadaindependent.com/article/how-nevada-colleges-and-universities-are-encouraging-students-to-vote\n"
     ]
    },
    {
     "name": "stderr",
     "output_type": "stream",
     "text": [
      " 33%|█████████████▌                           | 141/425 [01:07<01:42,  2.76it/s]"
     ]
    },
    {
     "name": "stdout",
     "output_type": "stream",
     "text": [
      "Processing link: https://thenevadaindependent.com/article/nv-supreme-court-declines-to-weigh-in-after-washoe-county-recount-controversy\n"
     ]
    },
    {
     "name": "stderr",
     "output_type": "stream",
     "text": [
      " 33%|█████████████▋                           | 142/425 [01:07<01:33,  3.02it/s]"
     ]
    },
    {
     "name": "stdout",
     "output_type": "stream",
     "text": [
      "Processing link: https://thenevadaindependent.com/article/trump-will-campaign-across-the-country-this-week-as-he-struggles-to-adjust-to-harris\n"
     ]
    },
    {
     "name": "stderr",
     "output_type": "stream",
     "text": [
      " 34%|█████████████▊                           | 143/425 [01:08<02:15,  2.08it/s]"
     ]
    },
    {
     "name": "stdout",
     "output_type": "stream",
     "text": [
      "Processing link: https://thenevadaindependent.com/article/indy-explains-question-3-would-see-ranked-choice-voting-open-primaries-in-nevada\n"
     ]
    },
    {
     "name": "stderr",
     "output_type": "stream",
     "text": [
      " 34%|█████████████▉                           | 144/425 [01:08<02:06,  2.22it/s]"
     ]
    },
    {
     "name": "stdout",
     "output_type": "stream",
     "text": [
      "Processing link: https://thenevadaindependent.com/article/poll-harris-leads-trump-among-nevada-latino-voters\n"
     ]
    },
    {
     "name": "stderr",
     "output_type": "stream",
     "text": [
      " 34%|█████████████▉                           | 145/425 [01:08<01:54,  2.45it/s]"
     ]
    },
    {
     "name": "stdout",
     "output_type": "stream",
     "text": [
      "Processing link: https://thenevadaindependent.com/article/harris-unveils-policy-proposals-to-address-affordable-housing-crisis\n"
     ]
    },
    {
     "name": "stderr",
     "output_type": "stream",
     "text": [
      " 34%|██████████████                           | 146/425 [01:09<01:39,  2.79it/s]"
     ]
    },
    {
     "name": "stdout",
     "output_type": "stream",
     "text": [
      "Processing link: https://thenevadaindependent.com/article/poll-harris-winning-back-nevada-latino-voters-who-soured-on-biden-trump\n"
     ]
    },
    {
     "name": "stderr",
     "output_type": "stream",
     "text": [
      " 35%|██████████████▏                          | 147/425 [01:09<01:27,  3.16it/s]"
     ]
    },
    {
     "name": "stdout",
     "output_type": "stream",
     "text": [
      "Processing link: https://thenevadaindependent.com/article/why-trumps-and-harris-proposals-to-end-federal-taxes-on-tips-would-be-difficult-to-enact\n"
     ]
    },
    {
     "name": "stderr",
     "output_type": "stream",
     "text": [
      " 35%|██████████████▎                          | 148/425 [01:10<02:16,  2.03it/s]"
     ]
    },
    {
     "name": "stdout",
     "output_type": "stream",
     "text": [
      "Processing link: https://thenevadaindependent.com/article/rosen-posts-big-lead-over-brown-in-latest-nevada-senate-poll\n"
     ]
    },
    {
     "name": "stderr",
     "output_type": "stream",
     "text": [
      " 35%|██████████████▎                          | 149/425 [01:11<02:50,  1.62it/s]"
     ]
    },
    {
     "name": "stdout",
     "output_type": "stream",
     "text": [
      "Processing link: https://thenevadaindependent.com/article/were-happy-again-harris-and-walz-bring-new-enthusiasm-to-presidential-race-in-nevada\n"
     ]
    },
    {
     "name": "stderr",
     "output_type": "stream",
     "text": [
      " 35%|██████████████▍                          | 150/425 [01:11<03:05,  1.49it/s]"
     ]
    },
    {
     "name": "stdout",
     "output_type": "stream",
     "text": [
      "Processing link: https://thenevadaindependent.com/article/judge-allows-green-party-to-remain-on-nevada-presidential-ballot\n"
     ]
    },
    {
     "name": "stderr",
     "output_type": "stream",
     "text": [
      " 36%|██████████████▌                          | 151/425 [01:12<03:25,  1.33it/s]"
     ]
    },
    {
     "name": "stdout",
     "output_type": "stream",
     "text": [
      "Processing link: https://thenevadaindependent.com/article/indy-explains-question-2-on-the-2024-nevada-ballot\n"
     ]
    },
    {
     "name": "stderr",
     "output_type": "stream",
     "text": [
      " 36%|██████████████▋                          | 152/425 [01:13<02:57,  1.54it/s]"
     ]
    },
    {
     "name": "stdout",
     "output_type": "stream",
     "text": [
      "Processing link: https://thenevadaindependent.com/article/harris-pledges-to-end-tax-on-tips-echoing-trump-in-massive-las-vegas-rally\n"
     ]
    },
    {
     "name": "stderr",
     "output_type": "stream",
     "text": [
      " 36%|██████████████▊                          | 153/425 [01:13<02:22,  1.91it/s]"
     ]
    },
    {
     "name": "stdout",
     "output_type": "stream",
     "text": [
      "Processing link: https://thenevadaindependent.com/article/in-las-vegas-kamala-harris-sees-a-chance-to-improve-her-odds-of-winning\n"
     ]
    },
    {
     "name": "stderr",
     "output_type": "stream",
     "text": [
      " 36%|██████████████▊                          | 154/425 [01:14<02:31,  1.79it/s]"
     ]
    },
    {
     "name": "stdout",
     "output_type": "stream",
     "text": [
      "Processing link: https://thenevadaindependent.com/article/new-nevada-poll-sees-harris-with-biggest-lead-over-trump-yet\n"
     ]
    },
    {
     "name": "stderr",
     "output_type": "stream",
     "text": [
      " 36%|██████████████▉                          | 155/425 [01:14<02:20,  1.92it/s]"
     ]
    },
    {
     "name": "stdout",
     "output_type": "stream",
     "text": [
      "Processing link: https://thenevadaindependent.com/article/former-nv-gop-congressmen-elections-are-secure-but-chances-for-fraud-remain\n"
     ]
    },
    {
     "name": "stderr",
     "output_type": "stream",
     "text": [
      " 37%|███████████████                          | 156/425 [01:15<02:32,  1.77it/s]"
     ]
    },
    {
     "name": "stdout",
     "output_type": "stream",
     "text": [
      "Processing link: https://thenevadaindependent.com/article/is-nevada-still-a-swing-state-why-dems-gop-are-bullish-on-their-2024-chances\n"
     ]
    },
    {
     "name": "stderr",
     "output_type": "stream",
     "text": [
      " 37%|███████████████▏                         | 157/425 [01:15<02:06,  2.12it/s]"
     ]
    },
    {
     "name": "stdout",
     "output_type": "stream",
     "text": [
      "Processing link: https://thenevadaindependent.com/article/hospitality-workers-union-endorses-harris-dismissing-trumps-pledge-of-tax-free-tips\n"
     ]
    },
    {
     "name": "stderr",
     "output_type": "stream",
     "text": [
      " 37%|███████████████▏                         | 158/425 [01:16<02:33,  1.74it/s]"
     ]
    },
    {
     "name": "stdout",
     "output_type": "stream",
     "text": [
      "Processing link: https://thenevadaindependent.com/article/indy-explains-how-would-question-1-on-nevadas-2024-ballot-affect-the-board-of-regents\n"
     ]
    },
    {
     "name": "stderr",
     "output_type": "stream",
     "text": [
      " 37%|███████████████▎                         | 159/425 [01:16<02:06,  2.10it/s]"
     ]
    },
    {
     "name": "stdout",
     "output_type": "stream",
     "text": [
      "Processing link: https://thenevadaindependent.com/article/hearing-held-but-no-ruling-yet-in-suit-challenging-green-partys-nevada-ballot-status\n"
     ]
    },
    {
     "name": "stderr",
     "output_type": "stream",
     "text": [
      " 38%|███████████████▍                         | 160/425 [01:16<02:00,  2.20it/s]"
     ]
    },
    {
     "name": "stdout",
     "output_type": "stream",
     "text": [
      "Processing link: https://thenevadaindependent.com/article/judge-denies-trump-gop-request-to-ignore-nevada-mail-ballots-with-unclear-postmark\n"
     ]
    },
    {
     "name": "stderr",
     "output_type": "stream",
     "text": [
      " 38%|███████████████▌                         | 161/425 [01:17<02:29,  1.77it/s]"
     ]
    },
    {
     "name": "stdout",
     "output_type": "stream",
     "text": [
      "Processing link: https://thenevadaindependent.com/article/gop-aligned-super-pac-boosts-brown-on-nevada-airwaves-with-4-million-ad-buy\n"
     ]
    },
    {
     "name": "stderr",
     "output_type": "stream",
     "text": [
      " 38%|███████████████▋                         | 162/425 [01:18<03:02,  1.44it/s]"
     ]
    },
    {
     "name": "stdout",
     "output_type": "stream",
     "text": [
      "Processing link: https://thenevadaindependent.com/article/harris-is-planning-a-tour-of-battleground-states-next-week-with-her-yet-to-be-named-running-mate\n"
     ]
    },
    {
     "name": "stderr",
     "output_type": "stream",
     "text": [
      " 38%|███████████████▋                         | 163/425 [01:19<03:05,  1.41it/s]"
     ]
    },
    {
     "name": "stdout",
     "output_type": "stream",
     "text": [
      "Processing link: https://thenevadaindependent.com/article/can-harris-energize-minority-nevada-voters-who-had-soured-on-trump-biden\n"
     ]
    },
    {
     "name": "stderr",
     "output_type": "stream",
     "text": [
      " 39%|███████████████▊                         | 164/425 [01:20<03:20,  1.30it/s]"
     ]
    },
    {
     "name": "stdout",
     "output_type": "stream",
     "text": [
      "Processing link: https://thenevadaindependent.com/article/in-first-nevada-trip-vance-says-harris-owns-every-failure-of-biden-admin\n"
     ]
    },
    {
     "name": "stderr",
     "output_type": "stream",
     "text": [
      " 39%|███████████████▉                         | 165/425 [01:21<03:34,  1.21it/s]"
     ]
    },
    {
     "name": "stdout",
     "output_type": "stream",
     "text": [
      "Processing link: https://thenevadaindependent.com/article/new-pacs-who-spent-big-on-nevada-primaries-finally-disclose-sources-of-income\n"
     ]
    },
    {
     "name": "stderr",
     "output_type": "stream",
     "text": [
      " 39%|████████████████                         | 166/425 [01:22<03:34,  1.21it/s]"
     ]
    },
    {
     "name": "stdout",
     "output_type": "stream",
     "text": [
      "Processing link: https://thenevadaindependent.com/article/were-first-cousins-harris-longstanding-ties-to-nevada-could-benefit-her-2024-run\n"
     ]
    },
    {
     "name": "stderr",
     "output_type": "stream",
     "text": [
      " 39%|████████████████                         | 167/425 [01:22<03:02,  1.41it/s]"
     ]
    },
    {
     "name": "stdout",
     "output_type": "stream",
     "text": [
      "Processing link: https://thenevadaindependent.com/article/rfk-jr-has-enough-valid-signatures-to-make-nevada-ballot-officials-say\n"
     ]
    },
    {
     "name": "stderr",
     "output_type": "stream",
     "text": [
      " 40%|████████████████▏                        | 168/425 [01:23<03:19,  1.29it/s]"
     ]
    },
    {
     "name": "stdout",
     "output_type": "stream",
     "text": [
      "Processing link: https://thenevadaindependent.com/article/nevada-democratic-delegates-unanimously-back-harris-for-president\n"
     ]
    },
    {
     "name": "stderr",
     "output_type": "stream",
     "text": [
      " 40%|████████████████▎                        | 169/425 [01:24<03:45,  1.14it/s]"
     ]
    },
    {
     "name": "stdout",
     "output_type": "stream",
     "text": [
      "Processing link: https://thenevadaindependent.com/article/harris-mentum-nevada-campaign-sees-more-enthusiasm-volunteers-after-biden-withdrawal\n"
     ]
    },
    {
     "name": "stderr",
     "output_type": "stream",
     "text": [
      " 40%|████████████████▍                        | 170/425 [01:25<04:01,  1.06it/s]"
     ]
    },
    {
     "name": "stdout",
     "output_type": "stream",
     "text": [
      "Processing link: https://thenevadaindependent.com/article/biden-drops-out-of-presidential-race-nevada-leaders-react\n"
     ]
    },
    {
     "name": "stderr",
     "output_type": "stream",
     "text": [
      " 40%|████████████████▍                        | 171/425 [01:26<03:51,  1.10it/s]"
     ]
    },
    {
     "name": "stdout",
     "output_type": "stream",
     "text": [
      "Processing link: https://thenevadaindependent.com/article/d-c-download-how-sam-brown-nevada-fared-at-the-republican-national-convention\n"
     ]
    },
    {
     "name": "stderr",
     "output_type": "stream",
     "text": [
      " 40%|████████████████▌                        | 172/425 [01:27<04:01,  1.05it/s]"
     ]
    },
    {
     "name": "stdout",
     "output_type": "stream",
     "text": [
      "Processing link: https://thenevadaindependent.com/article/nevada-voter-id-ballot-question-qualifies-for-2024-ballot\n"
     ]
    },
    {
     "name": "stderr",
     "output_type": "stream",
     "text": [
      " 41%|████████████████▋                        | 173/425 [01:27<03:08,  1.34it/s]"
     ]
    },
    {
     "name": "stdout",
     "output_type": "stream",
     "text": [
      "Processing link: https://thenevadaindependent.com/article/judge-tosses-gop-suit-that-sought-to-end-nevadas-post-election-day-ballot-counting\n"
     ]
    },
    {
     "name": "stderr",
     "output_type": "stream",
     "text": [
      " 41%|████████████████▊                        | 174/425 [01:28<02:42,  1.54it/s]"
     ]
    },
    {
     "name": "stdout",
     "output_type": "stream",
     "text": [
      "Processing link: https://thenevadaindependent.com/article/biden-tests-positive-for-covid-during-las-vegas-trip-cancels-speech\n"
     ]
    },
    {
     "name": "stderr",
     "output_type": "stream",
     "text": [
      " 41%|████████████████▉                        | 175/425 [01:28<02:12,  1.88it/s]"
     ]
    },
    {
     "name": "stdout",
     "output_type": "stream",
     "text": [
      "Processing link: https://thenevadaindependent.com/article/nevada-legislative-fundraising-close-in-key-races-millions-pour-into-ballot-initiatives\n"
     ]
    },
    {
     "name": "stderr",
     "output_type": "stream",
     "text": [
      " 41%|████████████████▉                        | 176/425 [01:29<02:04,  2.00it/s]"
     ]
    },
    {
     "name": "stdout",
     "output_type": "stream",
     "text": [
      "Processing link: https://thenevadaindependent.com/article/after-primaries-nevada-democrats-lead-fundraising-battle-across-congressional-races\n"
     ]
    },
    {
     "name": "stderr",
     "output_type": "stream",
     "text": [
      " 42%|█████████████████                        | 177/425 [01:30<02:41,  1.54it/s]"
     ]
    },
    {
     "name": "stdout",
     "output_type": "stream",
     "text": [
      "Processing link: https://thenevadaindependent.com/article/in-vegas-biden-woos-black-voters-with-promises-of-economic-equity-civil-rights\n"
     ]
    },
    {
     "name": "stderr",
     "output_type": "stream",
     "text": [
      " 42%|█████████████████▏                       | 178/425 [01:30<02:54,  1.42it/s]"
     ]
    },
    {
     "name": "stdout",
     "output_type": "stream",
     "text": [
      "Processing link: https://thenevadaindependent.com/article/washoe-county-certifies-recount-after-refusing-to-do-so-last-week\n"
     ]
    },
    {
     "name": "stderr",
     "output_type": "stream",
     "text": [
      " 42%|█████████████████▎                       | 179/425 [01:31<03:23,  1.21it/s]"
     ]
    },
    {
     "name": "stdout",
     "output_type": "stream",
     "text": [
      "Processing link: https://thenevadaindependent.com/article/brown-raises-4-million-in-second-quarter-as-nevada-senate-race-heats-up\n"
     ]
    },
    {
     "name": "stderr",
     "output_type": "stream",
     "text": [
      " 42%|█████████████████▎                       | 180/425 [01:32<02:52,  1.42it/s]"
     ]
    },
    {
     "name": "stdout",
     "output_type": "stream",
     "text": [
      "Processing link: https://thenevadaindependent.com/article/horsford-to-appear-with-biden-at-black-voter-event-tuesday\n"
     ]
    },
    {
     "name": "stderr",
     "output_type": "stream",
     "text": [
      " 43%|█████████████████▍                       | 181/425 [01:32<02:33,  1.59it/s]"
     ]
    },
    {
     "name": "stdout",
     "output_type": "stream",
     "text": [
      "Processing link: https://thenevadaindependent.com/article/dc-download-what-nevada-democrats-are-weighing-amid-calls-for-biden-to-drop-out\n"
     ]
    },
    {
     "name": "stderr",
     "output_type": "stream",
     "text": [
      " 43%|█████████████████▌                       | 182/425 [01:33<02:55,  1.38it/s]"
     ]
    },
    {
     "name": "stdout",
     "output_type": "stream",
     "text": [
      "Processing link: https://thenevadaindependent.com/article/kennedy-touts-his-anti-establishment-approach-at-freedomfest\n"
     ]
    },
    {
     "name": "stderr",
     "output_type": "stream",
     "text": [
      " 43%|█████████████████▋                       | 183/425 [01:34<03:03,  1.32it/s]"
     ]
    },
    {
     "name": "stdout",
     "output_type": "stream",
     "text": [
      "Processing link: https://thenevadaindependent.com/article/rosen-cortez-masto-join-cruzs-bill-to-end-federal-taxes-on-tips\n"
     ]
    },
    {
     "name": "stderr",
     "output_type": "stream",
     "text": [
      " 43%|█████████████████▊                       | 184/425 [01:35<03:17,  1.22it/s]"
     ]
    },
    {
     "name": "stdout",
     "output_type": "stream",
     "text": [
      "Processing link: https://thenevadaindependent.com/article/ag-asks-supreme-court-to-order-washoe-county-to-certify-recount-results\n"
     ]
    },
    {
     "name": "stderr",
     "output_type": "stream",
     "text": [
      " 44%|█████████████████▊                       | 185/425 [01:36<03:31,  1.13it/s]"
     ]
    },
    {
     "name": "stdout",
     "output_type": "stream",
     "text": [
      "Processing link: https://thenevadaindependent.com/article/cooler-heads-have-prevailed-commissioners-to-reconsider-vote-not-to-certify-primary-recount\n"
     ]
    },
    {
     "name": "stderr",
     "output_type": "stream",
     "text": [
      " 44%|█████████████████▉                       | 186/425 [01:36<02:47,  1.42it/s]"
     ]
    },
    {
     "name": "stdout",
     "output_type": "stream",
     "text": [
      "Processing link: https://thenevadaindependent.com/article/rosen-focused-on-my-own-re-election-campaign-declines-to-say-if-biden-should-drop-out\n"
     ]
    },
    {
     "name": "stderr",
     "output_type": "stream",
     "text": [
      " 44%|██████████████████                       | 187/425 [01:37<02:28,  1.61it/s]"
     ]
    },
    {
     "name": "stdout",
     "output_type": "stream",
     "text": [
      "Processing link: https://thenevadaindependent.com/article/jacky-rosen-raises-record-7-6-million-in-second-quarter\n"
     ]
    },
    {
     "name": "stderr",
     "output_type": "stream",
     "text": [
      " 44%|██████████████████▏                      | 188/425 [01:38<02:35,  1.53it/s]"
     ]
    },
    {
     "name": "stdout",
     "output_type": "stream",
     "text": [
      "Processing link: https://thenevadaindependent.com/article/in-las-vegas-kamala-harris-defends-biden-vies-for-asian-american-support\n"
     ]
    },
    {
     "name": "stderr",
     "output_type": "stream",
     "text": [
      " 44%|██████████████████▏                      | 189/425 [01:38<02:30,  1.57it/s]"
     ]
    },
    {
     "name": "stdout",
     "output_type": "stream",
     "text": [
      "Processing link: https://thenevadaindependent.com/article/washoe-county-commissioners-vote-not-to-certify-primary-election-recounts\n"
     ]
    },
    {
     "name": "stderr",
     "output_type": "stream",
     "text": [
      " 45%|██████████████████▎                      | 190/425 [01:39<02:32,  1.54it/s]"
     ]
    },
    {
     "name": "stdout",
     "output_type": "stream",
     "text": [
      "Processing link: https://thenevadaindependent.com/article/lee-horsford-split-on-confidence-in-biden-as-democratic-nominee\n"
     ]
    },
    {
     "name": "stderr",
     "output_type": "stream",
     "text": [
      " 45%|██████████████████▍                      | 191/425 [01:39<02:15,  1.73it/s]"
     ]
    },
    {
     "name": "stdout",
     "output_type": "stream",
     "text": [
      "Processing link: https://thenevadaindependent.com/article/indy-explains-nevadas-laws-on-commercial-addresses-in-voter-rolls\n"
     ]
    },
    {
     "name": "stderr",
     "output_type": "stream",
     "text": [
      " 45%|██████████████████▌                      | 192/425 [01:40<01:52,  2.07it/s]"
     ]
    },
    {
     "name": "stdout",
     "output_type": "stream",
     "text": [
      "Processing link: https://thenevadaindependent.com/article/rfk-jr-s-campaign-says-it-has-enough-signatures-to-get-on-nv-ballot-validation-pending\n"
     ]
    },
    {
     "name": "stderr",
     "output_type": "stream",
     "text": [
      " 45%|██████████████████▌                      | 193/425 [01:40<02:16,  1.70it/s]"
     ]
    },
    {
     "name": "stdout",
     "output_type": "stream",
     "text": [
      "Processing link: https://thenevadaindependent.com/article/washoe-county-primary-election-results-remain-unchanged-after-recount\n"
     ]
    },
    {
     "name": "stderr",
     "output_type": "stream",
     "text": [
      " 46%|██████████████████▋                      | 194/425 [01:41<02:24,  1.60it/s]"
     ]
    },
    {
     "name": "stdout",
     "output_type": "stream",
     "text": [
      "Processing link: https://thenevadaindependent.com/article/will-trumps-las-vegas-idea-to-end-taxation-on-tips-catch-on\n"
     ]
    },
    {
     "name": "stderr",
     "output_type": "stream",
     "text": [
      " 46%|██████████████████▊                      | 195/425 [01:42<02:45,  1.39it/s]"
     ]
    },
    {
     "name": "stdout",
     "output_type": "stream",
     "text": [
      "Processing link: https://thenevadaindependent.com/article/aoc-stumped-for-biden-in-las-vegas-will-nevada-progressive-voters-follow-suit\n"
     ]
    },
    {
     "name": "stderr",
     "output_type": "stream",
     "text": [
      " 46%|██████████████████▉                      | 196/425 [01:42<02:12,  1.73it/s]"
     ]
    },
    {
     "name": "stdout",
     "output_type": "stream",
     "text": [
      "Processing link: https://thenevadaindependent.com/article/advocate-baran-among-recounts-for-northern-nevada-candidates-funded-by-far-right-activist\n"
     ]
    },
    {
     "name": "stderr",
     "output_type": "stream",
     "text": [
      " 46%|███████████████████                      | 197/425 [01:43<02:25,  1.57it/s]"
     ]
    },
    {
     "name": "stdout",
     "output_type": "stream",
     "text": [
      "Processing link: https://thenevadaindependent.com/article/constitutional-amendment-on-abortion-rights-qualifies-for-november-ballot\n"
     ]
    },
    {
     "name": "stderr",
     "output_type": "stream",
     "text": [
      " 47%|███████████████████                      | 198/425 [01:43<02:10,  1.74it/s]"
     ]
    },
    {
     "name": "stdout",
     "output_type": "stream",
     "text": [
      "Processing link: https://thenevadaindependent.com/article/new-groups-aim-to-restore-faith-in-election-system-uphold-democracy\n"
     ]
    },
    {
     "name": "stderr",
     "output_type": "stream",
     "text": [
      " 47%|███████████████████▏                     | 199/425 [01:44<02:26,  1.54it/s]"
     ]
    },
    {
     "name": "stdout",
     "output_type": "stream",
     "text": [
      "Processing link: https://thenevadaindependent.com/article/aarp-poll-finds-trump-leading-biden-in-nevada-older-voters-more-motivated-to-turn-out\n"
     ]
    },
    {
     "name": "stderr",
     "output_type": "stream",
     "text": [
      " 47%|███████████████████▎                     | 200/425 [01:45<02:08,  1.76it/s]"
     ]
    },
    {
     "name": "stdout",
     "output_type": "stream",
     "text": [
      "Processing link: https://thenevadaindependent.com/article/nevada-democrats-to-file-lawsuit-to-kick-rfk-jr-off-presidential-ballot-over-partisan-affiliations\n"
     ]
    },
    {
     "name": "stderr",
     "output_type": "stream",
     "text": [
      " 47%|███████████████████▍                     | 201/425 [01:45<02:21,  1.58it/s]"
     ]
    },
    {
     "name": "stdout",
     "output_type": "stream",
     "text": [
      "Processing link: https://thenevadaindependent.com/article/judge-tosses-initial-gop-lawsuit-alleging-nevada-voter-rolls-insufficiently-maintained\n"
     ]
    },
    {
     "name": "stderr",
     "output_type": "stream",
     "text": [
      " 48%|███████████████████▍                     | 202/425 [01:46<01:55,  1.92it/s]"
     ]
    },
    {
     "name": "stdout",
     "output_type": "stream",
     "text": [
      "Processing link: https://thenevadaindependent.com/article/green-party-qualifies-for-2024-ballot-in-nevada-dem-lawsuit-pending\n"
     ]
    },
    {
     "name": "stderr",
     "output_type": "stream",
     "text": [
      " 48%|███████████████████▌                     | 203/425 [01:47<02:16,  1.62it/s]"
     ]
    },
    {
     "name": "stdout",
     "output_type": "stream",
     "text": [
      "Processing link: https://thenevadaindependent.com/article/analysis-nevada-primary-turnout-down-but-mail-voting-again-reigns-supreme\n"
     ]
    },
    {
     "name": "stderr",
     "output_type": "stream",
     "text": [
      " 48%|███████████████████▋                     | 204/425 [01:48<02:47,  1.32it/s]"
     ]
    },
    {
     "name": "stdout",
     "output_type": "stream",
     "text": [
      "Processing link: https://thenevadaindependent.com/article/after-surprise-primary-win-can-drew-johnson-flip-nevadas-swingiest-house-seat\n"
     ]
    },
    {
     "name": "stderr",
     "output_type": "stream",
     "text": [
      " 48%|███████████████████▊                     | 205/425 [01:48<02:52,  1.28it/s]"
     ]
    },
    {
     "name": "stdout",
     "output_type": "stream",
     "text": [
      "Processing link: https://thenevadaindependent.com/article/after-bitter-primary-culinary-union-legislative-democrats-not-singing-kumbaya-yet\n"
     ]
    },
    {
     "name": "stderr",
     "output_type": "stream",
     "text": [
      " 48%|███████████████████▊                     | 206/425 [01:49<02:59,  1.22it/s]"
     ]
    },
    {
     "name": "stdout",
     "output_type": "stream",
     "text": [
      "Processing link: https://thenevadaindependent.com/article/here-are-the-winners-in-southern-nevadas-local-government-primaries\n"
     ]
    },
    {
     "name": "stderr",
     "output_type": "stream",
     "text": [
      " 49%|███████████████████▉                     | 207/425 [01:50<03:16,  1.11it/s]"
     ]
    },
    {
     "name": "stdout",
     "output_type": "stream",
     "text": [
      "Processing link: https://thenevadaindependent.com/article/beadles-backed-candidates-come-up-short-in-washoe-down-ballot-primary-races\n"
     ]
    },
    {
     "name": "stderr",
     "output_type": "stream",
     "text": [
      " 49%|████████████████████                     | 208/425 [01:51<03:16,  1.10it/s]"
     ]
    },
    {
     "name": "stdout",
     "output_type": "stream",
     "text": [
      "Processing link: https://thenevadaindependent.com/article/nevada-democrats-sue-to-block-green-party-from-2024-ballot\n"
     ]
    },
    {
     "name": "stderr",
     "output_type": "stream",
     "text": [
      " 49%|████████████████████▏                    | 209/425 [01:52<03:02,  1.19it/s]"
     ]
    },
    {
     "name": "stdout",
     "output_type": "stream",
     "text": [
      "Processing link: https://thenevadaindependent.com/article/matchups-set-in-nevadas-federal-and-legislative-elections\n"
     ]
    },
    {
     "name": "stderr",
     "output_type": "stream",
     "text": [
      " 49%|████████████████████▎                    | 210/425 [01:53<02:35,  1.38it/s]"
     ]
    },
    {
     "name": "stdout",
     "output_type": "stream",
     "text": [
      "Processing link: https://thenevadaindependent.com/article/school-board-races-beadles-backed-candidates-lose-most-moms-for-liberty-picks-advance\n"
     ]
    },
    {
     "name": "stderr",
     "output_type": "stream",
     "text": [
      " 50%|████████████████████▎                    | 211/425 [01:53<02:03,  1.73it/s]"
     ]
    },
    {
     "name": "stdout",
     "output_type": "stream",
     "text": [
      "Processing link: https://thenevadaindependent.com/article/brown-wins-primary-to-face-rosen-lombardo-backed-composer-loses-race-to-challenge-lee\n"
     ]
    },
    {
     "name": "stderr",
     "output_type": "stream",
     "text": [
      " 50%|████████████████████▍                    | 212/425 [01:54<02:33,  1.38it/s]"
     ]
    },
    {
     "name": "stdout",
     "output_type": "stream",
     "text": [
      "Processing link: https://thenevadaindependent.com/article/legislative-elections-lombardos-picks-win-culinary-dem-establishment-have-mixed-night\n"
     ]
    },
    {
     "name": "stderr",
     "output_type": "stream",
     "text": [
      " 50%|████████████████████▌                    | 213/425 [01:54<02:14,  1.58it/s]"
     ]
    },
    {
     "name": "stdout",
     "output_type": "stream",
     "text": [
      "Processing link: https://thenevadaindependent.com/article/berkley-seaman-headed-to-a-general-election-run-off-for-las-vegas-mayor\n"
     ]
    },
    {
     "name": "stderr",
     "output_type": "stream",
     "text": [
      " 50%|████████████████████▋                    | 214/425 [01:55<02:19,  1.52it/s]"
     ]
    },
    {
     "name": "stdout",
     "output_type": "stream",
     "text": [
      "Processing link: https://thenevadaindependent.com/article/live-blog-nevada-2024-primary-results\n"
     ]
    },
    {
     "name": "stderr",
     "output_type": "stream",
     "text": [
      " 51%|████████████████████▋                    | 215/425 [01:56<02:49,  1.24it/s]"
     ]
    },
    {
     "name": "stdout",
     "output_type": "stream",
     "text": [
      "Processing link: https://thenevadaindependent.com/article/2024-primary-election-day-live-blog-polls-now-open-but-many-ballots-already-cast\n"
     ]
    },
    {
     "name": "stderr",
     "output_type": "stream",
     "text": [
      " 51%|████████████████████▊                    | 216/425 [01:56<02:21,  1.48it/s]"
     ]
    },
    {
     "name": "stdout",
     "output_type": "stream",
     "text": [
      "Processing link: https://thenevadaindependent.com/article/republican-challengers-legislative-showdowns-what-to-watch-as-nevadans-head-to-the-polls\n"
     ]
    },
    {
     "name": "stderr",
     "output_type": "stream",
     "text": [
      " 51%|████████████████████▉                    | 217/425 [01:57<02:03,  1.68it/s]"
     ]
    },
    {
     "name": "stdout",
     "output_type": "stream",
     "text": [
      "Processing link: https://thenevadaindependent.com/article/john-lee-says-opponent-behind-website-labeling-him-sexual-predator-flippo-denies\n"
     ]
    },
    {
     "name": "stderr",
     "output_type": "stream",
     "text": [
      " 51%|█████████████████████                    | 218/425 [01:58<02:07,  1.62it/s]"
     ]
    },
    {
     "name": "stdout",
     "output_type": "stream",
     "text": [
      "Processing link: https://thenevadaindependent.com/article/trump-stays-out-of-senate-primary-in-vegas-rally-pans-biden-border-policy-as-bullshit\n"
     ]
    },
    {
     "name": "stderr",
     "output_type": "stream",
     "text": [
      " 52%|█████████████████████▏                   | 219/425 [01:58<02:18,  1.49it/s]"
     ]
    },
    {
     "name": "stdout",
     "output_type": "stream",
     "text": [
      "Processing link: https://thenevadaindependent.com/article/moms-critical-of-policies-books-related-to-lgbtq-students-seek-school-board-seats\n"
     ]
    },
    {
     "name": "stderr",
     "output_type": "stream",
     "text": [
      " 52%|█████████████████████▏                   | 220/425 [01:59<02:25,  1.41it/s]"
     ]
    },
    {
     "name": "stdout",
     "output_type": "stream",
     "text": [
      "Processing link: https://thenevadaindependent.com/article/nevada-gops-bylaws-bar-support-for-convicted-felons-it-made-an-exception-for-trump\n"
     ]
    },
    {
     "name": "stderr",
     "output_type": "stream",
     "text": [
      " 52%|█████████████████████▎                   | 221/425 [02:00<02:35,  1.31it/s]"
     ]
    },
    {
     "name": "stdout",
     "output_type": "stream",
     "text": [
      "Processing link: https://thenevadaindependent.com/article/rfk-jr-files-new-petition-to-land-on-nevada-ballot-earlier-effort-stuck-in-court\n"
     ]
    },
    {
     "name": "stderr",
     "output_type": "stream",
     "text": [
      " 52%|█████████████████████▍                   | 222/425 [02:01<02:36,  1.30it/s]"
     ]
    },
    {
     "name": "stdout",
     "output_type": "stream",
     "text": [
      "Processing link: https://thenevadaindependent.com/article/trump-campaign-sues-nevada-alleges-counting-of-non-postmarked-mail-ballots\n"
     ]
    },
    {
     "name": "stderr",
     "output_type": "stream",
     "text": [
      " 52%|█████████████████████▌                   | 223/425 [02:02<02:37,  1.28it/s]"
     ]
    },
    {
     "name": "stdout",
     "output_type": "stream",
     "text": [
      "Processing link: https://thenevadaindependent.com/article/ask-the-editor-jon-ralston-talks-early-voting-turnout-indys-race-calling-process\n"
     ]
    },
    {
     "name": "stderr",
     "output_type": "stream",
     "text": [
      " 53%|█████████████████████▌                   | 224/425 [02:02<02:35,  1.30it/s]"
     ]
    },
    {
     "name": "stdout",
     "output_type": "stream",
     "text": [
      "Processing link: https://thenevadaindependent.com/article/independent-candidate-rfk-jr-suing-nevada-over-access-to-2024-ballot\n"
     ]
    },
    {
     "name": "stderr",
     "output_type": "stream",
     "text": [
      " 53%|█████████████████████▋                   | 225/425 [02:03<02:38,  1.26it/s]"
     ]
    },
    {
     "name": "stdout",
     "output_type": "stream",
     "text": [
      "Processing link: https://thenevadaindependent.com/article/will-nevada-elect-rosen-and-trump-in-2024-or-is-recent-polling-a-mirage\n"
     ]
    },
    {
     "name": "stderr",
     "output_type": "stream",
     "text": [
      " 53%|█████████████████████▊                   | 226/425 [02:04<02:42,  1.22it/s]"
     ]
    },
    {
     "name": "stdout",
     "output_type": "stream",
     "text": [
      "Processing link: https://thenevadaindependent.com/article/analysis-which-nevada-candidates-have-benefited-from-federal-loans\n"
     ]
    },
    {
     "name": "stderr",
     "output_type": "stream",
     "text": [
      " 53%|█████████████████████▉                   | 227/425 [02:05<02:37,  1.26it/s]"
     ]
    },
    {
     "name": "stdout",
     "output_type": "stream",
     "text": [
      "Processing link: https://thenevadaindependent.com/article/where-do-the-candidates-in-the-key-senate-district-3-primary-stand-on-the-issues\n"
     ]
    },
    {
     "name": "stderr",
     "output_type": "stream",
     "text": [
      " 54%|█████████████████████▉                   | 228/425 [02:05<02:05,  1.58it/s]"
     ]
    },
    {
     "name": "stdout",
     "output_type": "stream",
     "text": [
      "Processing link: https://thenevadaindependent.com/article/gop-candidate-larsen-admits-in-audio-to-hiring-illegals-now-calls-for-immigration-reform\n"
     ]
    },
    {
     "name": "stderr",
     "output_type": "stream",
     "text": [
      " 54%|██████████████████████                   | 229/425 [02:06<02:08,  1.52it/s]"
     ]
    },
    {
     "name": "stdout",
     "output_type": "stream",
     "text": [
      "Processing link: https://thenevadaindependent.com/article/democratic-assemblywoman-city-councilor-face-off-in-reno-area-senate-primary\n"
     ]
    },
    {
     "name": "stderr",
     "output_type": "stream",
     "text": [
      " 54%|██████████████████████▏                  | 230/425 [02:07<02:20,  1.39it/s]"
     ]
    },
    {
     "name": "stdout",
     "output_type": "stream",
     "text": [
      "Processing link: https://thenevadaindependent.com/article/nevada-leaders-react-to-donald-trumps-guilty-verdict\n"
     ]
    },
    {
     "name": "stderr",
     "output_type": "stream",
     "text": [
      " 54%|██████████████████████▎                  | 231/425 [02:07<02:01,  1.59it/s]"
     ]
    },
    {
     "name": "stdout",
     "output_type": "stream",
     "text": [
      "Processing link: https://thenevadaindependent.com/article/sam-brown-backtracks-on-nuclear-dump-says-yucca-is-dead-and-shouldnt-be-revived\n"
     ]
    },
    {
     "name": "stderr",
     "output_type": "stream",
     "text": [
      " 55%|██████████████████████▍                  | 232/425 [02:07<01:47,  1.79it/s]"
     ]
    },
    {
     "name": "stdout",
     "output_type": "stream",
     "text": [
      "Processing link: https://thenevadaindependent.com/article/whos-funding-negative-campaign-mail-legal-loophole-helps-some-groups-avoid-disclosure\n"
     ]
    },
    {
     "name": "stderr",
     "output_type": "stream",
     "text": [
      " 55%|██████████████████████▍                  | 233/425 [02:08<01:37,  1.97it/s]"
     ]
    },
    {
     "name": "stdout",
     "output_type": "stream",
     "text": [
      "Processing link: https://thenevadaindependent.com/article/meet-marty-halo-composer-backed-by-lombardo-would-be-among-wealthiest-house-members\n"
     ]
    },
    {
     "name": "stderr",
     "output_type": "stream",
     "text": [
      " 55%|██████████████████████▌                  | 234/425 [02:08<01:33,  2.05it/s]"
     ]
    },
    {
     "name": "stdout",
     "output_type": "stream",
     "text": [
      "Processing link: https://thenevadaindependent.com/article/could-veterans-swing-nevadas-2024-senate-race\n"
     ]
    },
    {
     "name": "stderr",
     "output_type": "stream",
     "text": [
      " 55%|██████████████████████▋                  | 235/425 [02:09<01:58,  1.61it/s]"
     ]
    },
    {
     "name": "stdout",
     "output_type": "stream",
     "text": [
      "Processing link: https://thenevadaindependent.com/article/the-three-most-interesting-assembly-primaries-in-nevada\n"
     ]
    },
    {
     "name": "stderr",
     "output_type": "stream",
     "text": [
      " 56%|██████████████████████▊                  | 236/425 [02:10<02:12,  1.43it/s]"
     ]
    },
    {
     "name": "stdout",
     "output_type": "stream",
     "text": [
      "Processing link: https://thenevadaindependent.com/article/whats-at-stake-in-the-two-washoe-county-commission-races-this-year\n"
     ]
    },
    {
     "name": "stderr",
     "output_type": "stream",
     "text": [
      " 56%|██████████████████████▊                  | 237/425 [02:10<01:48,  1.73it/s]"
     ]
    },
    {
     "name": "stdout",
     "output_type": "stream",
     "text": [
      "Processing link: https://thenevadaindependent.com/article/politicians-are-reporting-more-harassment-just-ask-candidates-in-washoe-county-races\n"
     ]
    },
    {
     "name": "stderr",
     "output_type": "stream",
     "text": [
      " 56%|██████████████████████▉                  | 238/425 [02:11<01:38,  1.89it/s]"
     ]
    },
    {
     "name": "stdout",
     "output_type": "stream",
     "text": [
      "Processing link: https://thenevadaindependent.com/article/nevada-supreme-court-rules-voter-id-ballot-measure-can-move-forward\n"
     ]
    },
    {
     "name": "stderr",
     "output_type": "stream",
     "text": [
      " 56%|███████████████████████                  | 239/425 [02:11<01:29,  2.08it/s]"
     ]
    },
    {
     "name": "stdout",
     "output_type": "stream",
     "text": [
      "Processing link: https://thenevadaindependent.com/article/top-gop-super-pac-not-spending-in-vegas-area-house-races-breaking-from-past-cycles\n"
     ]
    },
    {
     "name": "stderr",
     "output_type": "stream",
     "text": [
      " 56%|███████████████████████▏                 | 240/425 [02:12<01:26,  2.14it/s]"
     ]
    },
    {
     "name": "stdout",
     "output_type": "stream",
     "text": [
      "Processing link: https://thenevadaindependent.com/article/whats-behind-mailers-accusing-state-senate-candidate-of-targeting-woman\n"
     ]
    },
    {
     "name": "stderr",
     "output_type": "stream",
     "text": [
      " 57%|███████████████████████▏                 | 241/425 [02:12<01:13,  2.50it/s]"
     ]
    },
    {
     "name": "stdout",
     "output_type": "stream",
     "text": [
      "Processing link: https://thenevadaindependent.com/article/gop-pollster-sam-brown-still-leads-nevada-senate-primary-in-internal-poll-despite-gunters-late-push\n"
     ]
    },
    {
     "name": "stderr",
     "output_type": "stream",
     "text": [
      " 57%|███████████████████████▎                 | 242/425 [02:13<01:37,  1.88it/s]"
     ]
    },
    {
     "name": "stdout",
     "output_type": "stream",
     "text": [
      "Processing link: https://thenevadaindependent.com/article/abortion-rights-activists-believe-they-have-enough-signatures-to-get-measure-on-ballot\n"
     ]
    },
    {
     "name": "stderr",
     "output_type": "stream",
     "text": [
      " 57%|███████████████████████▍                 | 243/425 [02:13<01:28,  2.05it/s]"
     ]
    },
    {
     "name": "stdout",
     "output_type": "stream",
     "text": [
      "Processing link: https://thenevadaindependent.com/article/anatomy-of-a-political-breakup-why-the-culinary-union-unendorsed-democratic-lawmakers\n"
     ]
    },
    {
     "name": "stderr",
     "output_type": "stream",
     "text": [
      " 57%|███████████████████████▌                 | 244/425 [02:14<01:51,  1.62it/s]"
     ]
    },
    {
     "name": "stdout",
     "output_type": "stream",
     "text": [
      "Processing link: https://thenevadaindependent.com/article/can-biden-nevada-democrats-convince-voters-theyre-the-party-of-housing\n"
     ]
    },
    {
     "name": "stderr",
     "output_type": "stream",
     "text": [
      " 58%|███████████████████████▋                 | 245/425 [02:14<01:36,  1.87it/s]"
     ]
    },
    {
     "name": "stdout",
     "output_type": "stream",
     "text": [
      "Processing link: https://thenevadaindependent.com/article/clark-washoe-election-officials-hope-new-technology-will-speed-up-ballot-processing-pace\n"
     ]
    },
    {
     "name": "stderr",
     "output_type": "stream",
     "text": [
      " 58%|███████████████████████▋                 | 246/425 [02:15<01:29,  2.01it/s]"
     ]
    },
    {
     "name": "stdout",
     "output_type": "stream",
     "text": [
      "Processing link: https://thenevadaindependent.com/article/berkley-campaign-manager-calls-opponent-a-bitch-in-video\n"
     ]
    },
    {
     "name": "stderr",
     "output_type": "stream",
     "text": [
      " 58%|███████████████████████▊                 | 247/425 [02:15<01:22,  2.15it/s]"
     ]
    },
    {
     "name": "stdout",
     "output_type": "stream",
     "text": [
      "Processing link: https://thenevadaindependent.com/article/las-vegas-mayoral-candidates-debate-policy-defend-records-at-nevada-independent-forum\n"
     ]
    },
    {
     "name": "stderr",
     "output_type": "stream",
     "text": [
      " 58%|███████████████████████▉                 | 248/425 [02:15<01:12,  2.44it/s]"
     ]
    },
    {
     "name": "stdout",
     "output_type": "stream",
     "text": [
      "Processing link: https://thenevadaindependent.com/article/culinary-union-un-endorses-17-lawmakers-running-for-re-election-over-room-cleaning-bill\n"
     ]
    },
    {
     "name": "stderr",
     "output_type": "stream",
     "text": [
      " 59%|████████████████████████                 | 249/425 [02:16<01:33,  1.88it/s]"
     ]
    },
    {
     "name": "stdout",
     "output_type": "stream",
     "text": [
      "Processing link: https://thenevadaindependent.com/article/how-jewish-voters-could-factor-into-nevadas-toss-up-senate-race\n"
     ]
    },
    {
     "name": "stderr",
     "output_type": "stream",
     "text": [
      " 59%|████████████████████████                 | 250/425 [02:17<01:19,  2.20it/s]"
     ]
    },
    {
     "name": "stdout",
     "output_type": "stream",
     "text": [
      "Processing link: https://thenevadaindependent.com/article/biden-campaign-asks-court-to-dismiss-gop-lawsuit-challenging-nevada-mail-ballot-deadline\n"
     ]
    },
    {
     "name": "stderr",
     "output_type": "stream",
     "text": [
      " 59%|████████████████████████▏                | 251/425 [02:17<01:32,  1.88it/s]"
     ]
    },
    {
     "name": "stdout",
     "output_type": "stream",
     "text": [
      "Processing link: https://thenevadaindependent.com/article/tracking-nevadas-2024-ballot-measures-from-as-to-abortion-rights\n"
     ]
    },
    {
     "name": "stderr",
     "output_type": "stream",
     "text": [
      " 59%|████████████████████████▎                | 252/425 [02:18<01:28,  1.97it/s]"
     ]
    },
    {
     "name": "stdout",
     "output_type": "stream",
     "text": [
      "Processing link: https://thenevadaindependent.com/article/nevada-supreme-court-weighs-whether-proposed-voter-id-ballot-measure-amounts-to-poll-tax\n"
     ]
    },
    {
     "name": "stderr",
     "output_type": "stream",
     "text": [
      " 60%|████████████████████████▍                | 253/425 [02:18<01:39,  1.73it/s]"
     ]
    },
    {
     "name": "stdout",
     "output_type": "stream",
     "text": [
      "Processing link: https://thenevadaindependent.com/article/after-restructuring-is-nevada-ranked-choice-ballot-measure-ready-for-election\n"
     ]
    },
    {
     "name": "stderr",
     "output_type": "stream",
     "text": [
      " 60%|████████████████████████▌                | 254/425 [02:19<01:22,  2.07it/s]"
     ]
    },
    {
     "name": "stdout",
     "output_type": "stream",
     "text": [
      "Processing link: https://thenevadaindependent.com/article/aclu-suing-elko-county-over-compliance-with-jail-voting-law\n"
     ]
    },
    {
     "name": "stderr",
     "output_type": "stream",
     "text": [
      " 60%|████████████████████████▌                | 255/425 [02:19<01:18,  2.17it/s]"
     ]
    },
    {
     "name": "stdout",
     "output_type": "stream",
     "text": [
      "Processing link: https://thenevadaindependent.com/article/biden-campaign-alleges-rnc-using-nevada-lawsuits-to-sow-early-doubt-in-election\n"
     ]
    },
    {
     "name": "stderr",
     "output_type": "stream",
     "text": [
      " 60%|████████████████████████▋                | 256/425 [02:20<01:38,  1.71it/s]"
     ]
    },
    {
     "name": "stdout",
     "output_type": "stream",
     "text": [
      "Processing link: https://thenevadaindependent.com/article/most-nevada-gop-candidates-mum-on-election-integrity-after-big-lie-was-prominent-in-2022\n"
     ]
    },
    {
     "name": "stderr",
     "output_type": "stream",
     "text": [
      " 60%|████████████████████████▊                | 257/425 [02:21<01:44,  1.61it/s]"
     ]
    },
    {
     "name": "stdout",
     "output_type": "stream",
     "text": [
      "Processing link: https://thenevadaindependent.com/article/the-four-most-interesting-democratic-state-senate-primaries-in-nevada\n"
     ]
    },
    {
     "name": "stderr",
     "output_type": "stream",
     "text": [
      " 61%|████████████████████████▉                | 258/425 [02:21<01:28,  1.89it/s]"
     ]
    },
    {
     "name": "stdout",
     "output_type": "stream",
     "text": [
      "Processing link: https://thenevadaindependent.com/article/trump-campaign-sues-nevada-for-accepting-mail-ballots-that-trickle-in-after-election-day\n"
     ]
    },
    {
     "name": "stderr",
     "output_type": "stream",
     "text": [
      " 61%|████████████████████████▉                | 259/425 [02:21<01:22,  2.01it/s]"
     ]
    },
    {
     "name": "stdout",
     "output_type": "stream",
     "text": [
      "Processing link: https://thenevadaindependent.com/article/lombardo-endorses-marty-odonnell-in-nevadas-3rd-district-republican-primary\n"
     ]
    },
    {
     "name": "stderr",
     "output_type": "stream",
     "text": [
      " 61%|█████████████████████████                | 260/425 [02:23<01:49,  1.50it/s]"
     ]
    },
    {
     "name": "stdout",
     "output_type": "stream",
     "text": [
      "Processing link: https://thenevadaindependent.com/article/after-losing-three-straight-times-are-republicans-as-invested-in-vegas-house-seats\n"
     ]
    },
    {
     "name": "stderr",
     "output_type": "stream",
     "text": [
      " 61%|█████████████████████████▏               | 261/425 [02:23<01:29,  1.84it/s]"
     ]
    },
    {
     "name": "stdout",
     "output_type": "stream",
     "text": [
      "Processing link: https://thenevadaindependent.com/article/complaint-alleges-far-right-reno-activist-broke-campaign-finance-rules\n"
     ]
    },
    {
     "name": "stderr",
     "output_type": "stream",
     "text": [
      " 62%|█████████████████████████▎               | 262/425 [02:23<01:13,  2.21it/s]"
     ]
    },
    {
     "name": "stdout",
     "output_type": "stream",
     "text": [
      "Processing link: https://thenevadaindependent.com/article/candidates-backed-by-lombardo-or-democratic-caucuses-locked-in-close-fundraising-battle\n"
     ]
    },
    {
     "name": "stderr",
     "output_type": "stream",
     "text": [
      " 62%|█████████████████████████▎               | 263/425 [02:23<01:12,  2.22it/s]"
     ]
    },
    {
     "name": "stdout",
     "output_type": "stream",
     "text": [
      "Processing link: https://thenevadaindependent.com/article/establishment-backed-candidates-have-financial-lead-in-key-legislative-primaries\n"
     ]
    },
    {
     "name": "stderr",
     "output_type": "stream",
     "text": [
      " 62%|█████████████████████████▍               | 264/425 [02:24<01:04,  2.50it/s]"
     ]
    },
    {
     "name": "stdout",
     "output_type": "stream",
     "text": [
      "Processing link: https://thenevadaindependent.com/article/millions-roll-in-to-nevada-ballot-initiatives-from-unions-uber-and-dark-money-groups\n"
     ]
    },
    {
     "name": "stderr",
     "output_type": "stream",
     "text": [
      " 62%|█████████████████████████▌               | 265/425 [02:24<00:57,  2.79it/s]"
     ]
    },
    {
     "name": "stdout",
     "output_type": "stream",
     "text": [
      "Processing link: https://thenevadaindependent.com/article/nv-supreme-court-says-broader-abortion-ballot-question-is-constitutional\n"
     ]
    },
    {
     "name": "stderr",
     "output_type": "stream",
     "text": [
      " 63%|█████████████████████████▋               | 266/425 [02:25<01:23,  1.91it/s]"
     ]
    },
    {
     "name": "stdout",
     "output_type": "stream",
     "text": [
      "Processing link: https://thenevadaindependent.com/article/rosen-house-democrats-keep-war-chest-lead-self-funding-gop-candidates-narrow-gap\n"
     ]
    },
    {
     "name": "stderr",
     "output_type": "stream",
     "text": [
      " 63%|█████████████████████████▊               | 267/425 [02:25<01:17,  2.03it/s]"
     ]
    },
    {
     "name": "stdout",
     "output_type": "stream",
     "text": [
      "Processing link: https://thenevadaindependent.com/article/a-year-after-reclaiming-state-party-from-socialists-are-nv-dems-building-back-better\n"
     ]
    },
    {
     "name": "stderr",
     "output_type": "stream",
     "text": [
      " 63%|█████████████████████████▊               | 268/425 [02:26<01:05,  2.38it/s]"
     ]
    },
    {
     "name": "stdout",
     "output_type": "stream",
     "text": [
      "Processing link: https://thenevadaindependent.com/article/lawyers-debate-if-taking-redistricting-out-of-legislatures-hands-will-cost-more-money\n"
     ]
    },
    {
     "name": "stderr",
     "output_type": "stream",
     "text": [
      " 63%|█████████████████████████▉               | 269/425 [02:26<00:57,  2.71it/s]"
     ]
    },
    {
     "name": "stdout",
     "output_type": "stream",
     "text": [
      "Processing link: https://thenevadaindependent.com/article/week-later-underdog-nevada-gop-senate-hopeful-gunters-massive-ad-buy-yet-to-materialize\n"
     ]
    },
    {
     "name": "stderr",
     "output_type": "stream",
     "text": [
      " 64%|██████████████████████████               | 270/425 [02:26<00:59,  2.59it/s]"
     ]
    },
    {
     "name": "stdout",
     "output_type": "stream",
     "text": [
      "Processing link: https://thenevadaindependent.com/article/gop-minority-outreach-centers-in-nevada-quietly-shuttered-after-2022-election-cycle\n"
     ]
    },
    {
     "name": "stderr",
     "output_type": "stream",
     "text": [
      " 64%|██████████████████████████▏              | 271/425 [02:27<01:16,  2.02it/s]"
     ]
    },
    {
     "name": "stdout",
     "output_type": "stream",
     "text": [
      "Processing link: https://thenevadaindependent.com/article/rosen-raises-record-5-million-in-first-quarter\n"
     ]
    },
    {
     "name": "stderr",
     "output_type": "stream",
     "text": [
      " 64%|██████████████████████████▏              | 272/425 [02:27<01:12,  2.10it/s]"
     ]
    },
    {
     "name": "stdout",
     "output_type": "stream",
     "text": [
      "Processing link: https://thenevadaindependent.com/article/decades-old-idea-of-axing-federal-department-of-education-revived-in-nevada-senate-race\n"
     ]
    },
    {
     "name": "stderr",
     "output_type": "stream",
     "text": [
      " 64%|██████████████████████████▎              | 273/425 [02:28<01:01,  2.48it/s]"
     ]
    },
    {
     "name": "stdout",
     "output_type": "stream",
     "text": [
      "Processing link: https://thenevadaindependent.com/article/rosen-makes-14-million-ad-reservation-in-nevada-senate-race\n"
     ]
    },
    {
     "name": "stderr",
     "output_type": "stream",
     "text": [
      " 64%|██████████████████████████▍              | 274/425 [02:28<01:00,  2.50it/s]"
     ]
    },
    {
     "name": "stdout",
     "output_type": "stream",
     "text": [
      "Processing link: https://thenevadaindependent.com/article/democratic-assembly-candidate-regrets-sharing-anti-abortion-facebook-post-in-2016\n"
     ]
    },
    {
     "name": "stderr",
     "output_type": "stream",
     "text": [
      " 65%|██████████████████████████▌              | 275/425 [02:29<01:18,  1.91it/s]"
     ]
    },
    {
     "name": "stdout",
     "output_type": "stream",
     "text": [
      "Processing link: https://thenevadaindependent.com/article/rosen-launches-first-re-election-ad-campaign-in-las-vegas-reno\n"
     ]
    },
    {
     "name": "stderr",
     "output_type": "stream",
     "text": [
      " 65%|██████████████████████████▋              | 276/425 [02:29<01:05,  2.28it/s]"
     ]
    },
    {
     "name": "stdout",
     "output_type": "stream",
     "text": [
      "Processing link: https://thenevadaindependent.com/article/nevada-lawmakers-named-in-election-denial-report-walk-back-past-comments\n"
     ]
    },
    {
     "name": "stderr",
     "output_type": "stream",
     "text": [
      " 65%|██████████████████████████▋              | 277/425 [02:29<00:57,  2.59it/s]"
     ]
    },
    {
     "name": "stdout",
     "output_type": "stream",
     "text": [
      "Processing link: https://thenevadaindependent.com/article/nevada-local-government-candidates-whos-running-in-school-board-city-county-races\n"
     ]
    },
    {
     "name": "stderr",
     "output_type": "stream",
     "text": [
      " 65%|██████████████████████████▊              | 278/425 [02:30<01:28,  1.65it/s]"
     ]
    },
    {
     "name": "stdout",
     "output_type": "stream",
     "text": [
      "Processing link: https://thenevadaindependent.com/article/sam-brown-ramps-up-national-fundraising-ahead-of-gop-senate-primary\n"
     ]
    },
    {
     "name": "stderr",
     "output_type": "stream",
     "text": [
      " 66%|██████████████████████████▉              | 279/425 [02:31<01:46,  1.37it/s]"
     ]
    },
    {
     "name": "stdout",
     "output_type": "stream",
     "text": [
      "Processing link: https://thenevadaindependent.com/article/lack-of-vp-choice-may-invalidate-rfk-jr-s-effort-to-get-on-nevada-ballot\n"
     ]
    },
    {
     "name": "stderr",
     "output_type": "stream",
     "text": [
      " 66%|███████████████████████████              | 280/425 [02:32<01:25,  1.69it/s]"
     ]
    },
    {
     "name": "stdout",
     "output_type": "stream",
     "text": [
      "Processing link: https://thenevadaindependent.com/article/gop-senate-candidate-brown-refers-women-to-crisis-pregnancy-centers-on-campaign-website\n"
     ]
    },
    {
     "name": "stderr",
     "output_type": "stream",
     "text": [
      " 66%|███████████████████████████              | 281/425 [02:32<01:17,  1.85it/s]"
     ]
    },
    {
     "name": "stdout",
     "output_type": "stream",
     "text": [
      "Processing link: https://thenevadaindependent.com/article/aclu-some-agencies-not-complying-with-law-to-allow-voting-in-nevada-jails\n"
     ]
    },
    {
     "name": "stderr",
     "output_type": "stream",
     "text": [
      " 66%|███████████████████████████▏             | 282/425 [02:33<01:30,  1.57it/s]"
     ]
    },
    {
     "name": "stdout",
     "output_type": "stream",
     "text": [
      "Processing link: https://thenevadaindependent.com/article/during-nevada-swing-biden-draws-contrast-with-trump-on-health-care-national-security\n"
     ]
    },
    {
     "name": "stderr",
     "output_type": "stream",
     "text": [
      " 67%|███████████████████████████▎             | 283/425 [02:33<01:19,  1.78it/s]"
     ]
    },
    {
     "name": "stdout",
     "output_type": "stream",
     "text": [
      "Processing link: https://thenevadaindependent.com/article/secretary-of-state-delays-rollout-of-top-down-voter-registration-system-to-july\n"
     ]
    },
    {
     "name": "stderr",
     "output_type": "stream",
     "text": [
      " 67%|███████████████████████████▍             | 284/425 [02:34<01:35,  1.48it/s]"
     ]
    },
    {
     "name": "stdout",
     "output_type": "stream",
     "text": [
      "Processing link: https://thenevadaindependent.com/article/why-is-an-elected-official-in-california-running-for-nevadas-senate-seat\n"
     ]
    },
    {
     "name": "stderr",
     "output_type": "stream",
     "text": [
      " 67%|███████████████████████████▍             | 285/425 [02:35<01:38,  1.43it/s]"
     ]
    },
    {
     "name": "stdout",
     "output_type": "stream",
     "text": [
      "Processing link: https://thenevadaindependent.com/article/whos-running-in-2024-what-to-know-from-nevadas-candidate-filing-period\n"
     ]
    },
    {
     "name": "stderr",
     "output_type": "stream",
     "text": [
      " 67%|███████████████████████████▌             | 286/425 [02:36<01:28,  1.58it/s]"
     ]
    },
    {
     "name": "stdout",
     "output_type": "stream",
     "text": [
      "Processing link: https://thenevadaindependent.com/article/ahead-of-bidens-nevada-visit-campaign-previews-2024-strategy\n"
     ]
    },
    {
     "name": "stderr",
     "output_type": "stream",
     "text": [
      " 68%|███████████████████████████▋             | 287/425 [02:36<01:17,  1.78it/s]"
     ]
    },
    {
     "name": "stdout",
     "output_type": "stream",
     "text": [
      "Processing link: https://thenevadaindependent.com/article/how-will-democrats-tough-2024-senate-map-affect-jacky-rosen\n"
     ]
    },
    {
     "name": "stderr",
     "output_type": "stream",
     "text": [
      " 68%|███████████████████████████▊             | 288/425 [02:36<01:11,  1.91it/s]"
     ]
    },
    {
     "name": "stdout",
     "output_type": "stream",
     "text": [
      "Processing link: https://thenevadaindependent.com/article/indy-explains-why-theres-two-abortion-ballot-initiatives-in-nevada\n"
     ]
    },
    {
     "name": "stderr",
     "output_type": "stream",
     "text": [
      " 68%|███████████████████████████▉             | 289/425 [02:37<01:06,  2.04it/s]"
     ]
    },
    {
     "name": "stdout",
     "output_type": "stream",
     "text": [
      "Processing link: https://thenevadaindependent.com/article/biden-to-visit-las-vegas-and-reno\n"
     ]
    },
    {
     "name": "stderr",
     "output_type": "stream",
     "text": [
      " 68%|███████████████████████████▉             | 290/425 [02:37<00:55,  2.42it/s]"
     ]
    },
    {
     "name": "stdout",
     "output_type": "stream",
     "text": [
      "Processing link: https://thenevadaindependent.com/article/culinary-targets-democratic-state-senator-for-not-supporting-daily-hotel-room-cleaning-law\n"
     ]
    },
    {
     "name": "stderr",
     "output_type": "stream",
     "text": [
      " 68%|████████████████████████████             | 291/425 [02:38<01:12,  1.84it/s]"
     ]
    },
    {
     "name": "stdout",
     "output_type": "stream",
     "text": [
      "Processing link: https://thenevadaindependent.com/article/indytalks-lombardo-vows-to-use-everything-available-to-retain-veto-power\n"
     ]
    },
    {
     "name": "stderr",
     "output_type": "stream",
     "text": [
      " 69%|████████████████████████████▏            | 292/425 [02:39<01:25,  1.55it/s]"
     ]
    },
    {
     "name": "stdout",
     "output_type": "stream",
     "text": [
      "Processing link: https://thenevadaindependent.com/article/as-national-support-dwindles-biden-campaign-ramps-up-efforts-to-court-black-nevadans\n"
     ]
    },
    {
     "name": "stderr",
     "output_type": "stream",
     "text": [
      " 69%|████████████████████████████▎            | 293/425 [02:40<01:30,  1.46it/s]"
     ]
    },
    {
     "name": "stdout",
     "output_type": "stream",
     "text": [
      "Processing link: https://thenevadaindependent.com/article/indytalks-lombardo-doesnt-regret-housing-vetoes-wont-fight-abortion-ballot-measure\n"
     ]
    },
    {
     "name": "stderr",
     "output_type": "stream",
     "text": [
      " 69%|████████████████████████████▎            | 294/425 [02:40<01:20,  1.64it/s]"
     ]
    },
    {
     "name": "stdout",
     "output_type": "stream",
     "text": [
      "Processing link: https://thenevadaindependent.com/article/video-game-composer-announces-gop-bid-for-congressional-seat-held-by-susie-lee\n"
     ]
    },
    {
     "name": "stderr",
     "output_type": "stream",
     "text": [
      " 69%|████████████████████████████▍            | 295/425 [02:41<01:31,  1.42it/s]"
     ]
    },
    {
     "name": "stdout",
     "output_type": "stream",
     "text": [
      "Processing link: https://thenevadaindependent.com/article/d-c-download-horsford-on-how-the-biden-campaign-needs-to-win-over-nevadas-black-voters\n"
     ]
    },
    {
     "name": "stderr",
     "output_type": "stream",
     "text": [
      " 70%|████████████████████████████▌            | 296/425 [02:42<01:31,  1.41it/s]"
     ]
    },
    {
     "name": "stdout",
     "output_type": "stream",
     "text": [
      "Processing link: https://thenevadaindependent.com/article/exclusive-first-lady-jill-biden-to-visit-las-vegas-on-saturday\n"
     ]
    },
    {
     "name": "stderr",
     "output_type": "stream",
     "text": [
      " 70%|████████████████████████████▋            | 297/425 [02:42<01:17,  1.65it/s]"
     ]
    },
    {
     "name": "stdout",
     "output_type": "stream",
     "text": [
      "Processing link: https://thenevadaindependent.com/article/how-will-sam-browns-new-abortion-stance-affect-nevadas-senate-race\n"
     ]
    },
    {
     "name": "stderr",
     "output_type": "stream",
     "text": [
      " 70%|████████████████████████████▋            | 298/425 [02:43<01:15,  1.68it/s]"
     ]
    },
    {
     "name": "stdout",
     "output_type": "stream",
     "text": [
      "Processing link: https://thenevadaindependent.com/article/judge-allows-nevada-voter-id-ballot-measure-to-move-forward\n"
     ]
    },
    {
     "name": "stderr",
     "output_type": "stream",
     "text": [
      " 70%|████████████████████████████▊            | 299/425 [02:43<01:09,  1.82it/s]"
     ]
    },
    {
     "name": "stdout",
     "output_type": "stream",
     "text": [
      "Processing link: https://thenevadaindependent.com/article/secretary-of-state-apologizes-for-voter-record-glitch-after-nevadas-presidential-primary\n"
     ]
    },
    {
     "name": "stderr",
     "output_type": "stream",
     "text": [
      " 71%|████████████████████████████▉            | 300/425 [02:44<01:07,  1.86it/s]"
     ]
    },
    {
     "name": "stdout",
     "output_type": "stream",
     "text": [
      "Processing link: https://thenevadaindependent.com/article/nevada-senate-fundraising-rosen-donors-more-active-hail-from-more-states-than-browns\n"
     ]
    },
    {
     "name": "stderr",
     "output_type": "stream",
     "text": [
      " 71%|█████████████████████████████            | 301/425 [02:44<01:17,  1.60it/s]"
     ]
    },
    {
     "name": "stdout",
     "output_type": "stream",
     "text": [
      "Processing link: https://thenevadaindependent.com/article/as-wife-discloses-abortion-story-nevada-gop-senate-hopeful-sam-brown-opposes-federal-ban\n"
     ]
    },
    {
     "name": "stderr",
     "output_type": "stream",
     "text": [
      " 71%|█████████████████████████████▏           | 302/425 [02:45<01:27,  1.40it/s]"
     ]
    },
    {
     "name": "stdout",
     "output_type": "stream",
     "text": [
      "Processing link: https://thenevadaindependent.com/article/leading-pro-abortion-rights-group-doubling-down-on-rosen-nevada-for-2024\n"
     ]
    },
    {
     "name": "stderr",
     "output_type": "stream",
     "text": [
      " 71%|█████████████████████████████▏           | 303/425 [02:46<01:12,  1.67it/s]"
     ]
    },
    {
     "name": "stdout",
     "output_type": "stream",
     "text": [
      "Processing link: https://thenevadaindependent.com/article/nevada-election-officials-working-to-resolve-errors-in-online-voter-history-records\n"
     ]
    },
    {
     "name": "stderr",
     "output_type": "stream",
     "text": [
      " 72%|█████████████████████████████▎           | 304/425 [02:47<01:42,  1.18it/s]"
     ]
    },
    {
     "name": "stdout",
     "output_type": "stream",
     "text": [
      "Processing link: https://thenevadaindependent.com/article/nevada-judge-strikes-down-independent-redistricting-commission-ballot-petitions\n"
     ]
    },
    {
     "name": "stderr",
     "output_type": "stream",
     "text": [
      " 72%|█████████████████████████████▍           | 305/425 [02:48<01:37,  1.23it/s]"
     ]
    },
    {
     "name": "stdout",
     "output_type": "stream",
     "text": [
      "Processing link: https://thenevadaindependent.com/article/how-nevada-presidential-primary-turnout-beat-caucus-records\n"
     ]
    },
    {
     "name": "stderr",
     "output_type": "stream",
     "text": [
      " 72%|█████████████████████████████▌           | 306/425 [02:48<01:21,  1.46it/s]"
     ]
    },
    {
     "name": "stdout",
     "output_type": "stream",
     "text": [
      "Processing link: https://thenevadaindependent.com/article/how-much-does-money-matter-in-close-nevada-legislative-races\n"
     ]
    },
    {
     "name": "stderr",
     "output_type": "stream",
     "text": [
      " 72%|█████████████████████████████▌           | 307/425 [02:49<01:25,  1.38it/s]"
     ]
    },
    {
     "name": "stdout",
     "output_type": "stream",
     "text": [
      "Processing link: https://thenevadaindependent.com/article/trump-sweeps-nevada-republican-caucus-in-race-with-no-major-challengers\n"
     ]
    },
    {
     "name": "stderr",
     "output_type": "stream",
     "text": [
      " 72%|█████████████████████████████▋           | 308/425 [02:50<01:23,  1.41it/s]"
     ]
    },
    {
     "name": "stdout",
     "output_type": "stream",
     "text": [
      "Processing link: https://thenevadaindependent.com/article/the-trump-train-is-a-comin-nevada-republicans-descend-on-gop-caucus-sites\n"
     ]
    },
    {
     "name": "stderr",
     "output_type": "stream",
     "text": [
      " 73%|█████████████████████████████▊           | 309/425 [02:50<01:24,  1.38it/s]"
     ]
    },
    {
     "name": "stdout",
     "output_type": "stream",
     "text": [
      "Processing link: https://thenevadaindependent.com/article/trump-poised-for-big-win-ahead-of-nevada-gop-caucus\n"
     ]
    },
    {
     "name": "stderr",
     "output_type": "stream",
     "text": [
      " 73%|█████████████████████████████▉           | 310/425 [02:51<01:26,  1.34it/s]"
     ]
    },
    {
     "name": "stdout",
     "output_type": "stream",
     "text": [
      "Processing link: https://thenevadaindependent.com/article/cortez-masto-and-rosen-vote-for-failed-border-bill-in-test-of-new-immigration-politics\n"
     ]
    },
    {
     "name": "stderr",
     "output_type": "stream",
     "text": [
      " 73%|██████████████████████████████           | 311/425 [02:52<01:12,  1.56it/s]"
     ]
    },
    {
     "name": "stdout",
     "output_type": "stream",
     "text": [
      "Processing link: https://thenevadaindependent.com/article/in-nevada-primary-without-trump-haley-loses-to-none-of-these-candidates\n"
     ]
    },
    {
     "name": "stderr",
     "output_type": "stream",
     "text": [
      " 73%|██████████████████████████████           | 312/425 [02:53<01:20,  1.40it/s]"
     ]
    },
    {
     "name": "stdout",
     "output_type": "stream",
     "text": [
      "Processing link: https://thenevadaindependent.com/article/biden-wins-nevadas-democratic-presidential-primary-in-landslide-vote\n"
     ]
    },
    {
     "name": "stderr",
     "output_type": "stream",
     "text": [
      " 74%|██████████████████████████████▏          | 313/425 [02:53<01:04,  1.74it/s]"
     ]
    },
    {
     "name": "stdout",
     "output_type": "stream",
     "text": [
      "Processing link: https://thenevadaindependent.com/article/election-day-live-updates-voters-brave-wintry-weather-to-cast-nevada-primary-ballots\n"
     ]
    },
    {
     "name": "stderr",
     "output_type": "stream",
     "text": [
      " 74%|██████████████████████████████▎          | 314/425 [02:54<01:10,  1.58it/s]"
     ]
    },
    {
     "name": "stdout",
     "output_type": "stream",
     "text": [
      "Processing link: https://thenevadaindependent.com/article/how-will-none-of-these-option-affect-expected-wins-for-biden-haley-in-primary\n"
     ]
    },
    {
     "name": "stderr",
     "output_type": "stream",
     "text": [
      " 74%|██████████████████████████████▍          | 315/425 [02:54<01:10,  1.55it/s]"
     ]
    },
    {
     "name": "stdout",
     "output_type": "stream",
     "text": [
      "Processing link: https://thenevadaindependent.com/article/amid-biden-trump-unpopularity-rfk-jr-woos-independents-at-vegas-rally\n"
     ]
    },
    {
     "name": "stderr",
     "output_type": "stream",
     "text": [
      " 74%|██████████████████████████████▍          | 316/425 [02:55<01:21,  1.34it/s]"
     ]
    },
    {
     "name": "stdout",
     "output_type": "stream",
     "text": [
      "Processing link: https://thenevadaindependent.com/article/ahead-of-nevada-primary-biden-uses-las-vegas-rally-to-draw-contrasts-with-trump\n"
     ]
    },
    {
     "name": "stderr",
     "output_type": "stream",
     "text": [
      " 75%|██████████████████████████████▌          | 317/425 [02:56<01:24,  1.28it/s]"
     ]
    },
    {
     "name": "stdout",
     "output_type": "stream",
     "text": [
      "Processing link: https://thenevadaindependent.com/article/were-used-to-starting-early-why-bidens-nevada-campaign-is-ramping-up-ahead-of-primary\n"
     ]
    },
    {
     "name": "stderr",
     "output_type": "stream",
     "text": [
      " 75%|██████████████████████████████▋          | 318/425 [02:57<01:26,  1.24it/s]"
     ]
    },
    {
     "name": "stdout",
     "output_type": "stream",
     "text": [
      "Processing link: https://thenevadaindependent.com/article/a-democrat-beating-biden-may-be-impossible-is-nevada-marianne-williamsons-last-chance\n"
     ]
    },
    {
     "name": "stderr",
     "output_type": "stream",
     "text": [
      " 75%|██████████████████████████████▊          | 319/425 [02:58<01:33,  1.13it/s]"
     ]
    },
    {
     "name": "stdout",
     "output_type": "stream",
     "text": [
      "Processing link: https://thenevadaindependent.com/article/as-election-year-begins-democrats-wield-financial-advantage-in-congressional-races\n"
     ]
    },
    {
     "name": "stderr",
     "output_type": "stream",
     "text": [
      " 75%|██████████████████████████████▊          | 320/425 [02:59<01:30,  1.16it/s]"
     ]
    },
    {
     "name": "stdout",
     "output_type": "stream",
     "text": [
      "Processing link: https://thenevadaindependent.com/article/nevada-primary-turnout-more-than-90000-votes-cast-mostly-by-mail\n"
     ]
    },
    {
     "name": "stderr",
     "output_type": "stream",
     "text": [
      " 76%|██████████████████████████████▉          | 321/425 [02:59<01:23,  1.25it/s]"
     ]
    },
    {
     "name": "stdout",
     "output_type": "stream",
     "text": [
      "Processing link: https://thenevadaindependent.com/article/as-primary-voting-begins-vp-harris-sets-sights-on-november-likely-trump-rematch\n"
     ]
    },
    {
     "name": "stderr",
     "output_type": "stream",
     "text": [
      " 76%|███████████████████████████████          | 322/425 [03:00<01:16,  1.34it/s]"
     ]
    },
    {
     "name": "stdout",
     "output_type": "stream",
     "text": [
      "Processing link: https://thenevadaindependent.com/article/in-east-las-vegas-trump-rails-against-biden-on-immigration-courts-hispanic-voters\n"
     ]
    },
    {
     "name": "stderr",
     "output_type": "stream",
     "text": [
      " 76%|███████████████████████████████▏         | 323/425 [03:00<01:05,  1.55it/s]"
     ]
    },
    {
     "name": "stdout",
     "output_type": "stream",
     "text": [
      "Processing link: https://thenevadaindependent.com/article/unions-casinos-and-utilities-power-southern-nevada-local-government-campaigns\n"
     ]
    },
    {
     "name": "stderr",
     "output_type": "stream",
     "text": [
      " 76%|███████████████████████████████▎         | 324/425 [03:01<00:58,  1.71it/s]"
     ]
    },
    {
     "name": "stdout",
     "output_type": "stream",
     "text": [
      "Processing link: https://thenevadaindependent.com/article/biden-to-campaign-in-las-vegas-ahead-of-february-primary\n"
     ]
    },
    {
     "name": "stderr",
     "output_type": "stream",
     "text": [
      " 76%|███████████████████████████████▎         | 325/425 [03:02<01:01,  1.62it/s]"
     ]
    },
    {
     "name": "stdout",
     "output_type": "stream",
     "text": [
      "Processing link: https://thenevadaindependent.com/article/ryan-binkley-is-the-only-candidate-still-running-against-trump-in-nevadas-gop-caucus-why\n"
     ]
    },
    {
     "name": "stderr",
     "output_type": "stream",
     "text": [
      " 77%|███████████████████████████████▍         | 326/425 [03:03<01:09,  1.42it/s]"
     ]
    },
    {
     "name": "stdout",
     "output_type": "stream",
     "text": [
      "Processing link: https://thenevadaindependent.com/article/judge-oks-revised-ballot-petition-to-protect-abortion-access-in-constitution\n"
     ]
    },
    {
     "name": "stderr",
     "output_type": "stream",
     "text": [
      " 77%|███████████████████████████████▌         | 327/425 [03:03<01:14,  1.31it/s]"
     ]
    },
    {
     "name": "stdout",
     "output_type": "stream",
     "text": [
      "Processing link: https://thenevadaindependent.com/article/how-a-narrowing-gop-presidential-field-will-affect-nevadas-caucus-primaries\n"
     ]
    },
    {
     "name": "stderr",
     "output_type": "stream",
     "text": [
      " 77%|███████████████████████████████▋         | 328/425 [03:04<01:09,  1.40it/s]"
     ]
    },
    {
     "name": "stdout",
     "output_type": "stream",
     "text": [
      "Processing link: https://thenevadaindependent.com/article/local-government-incumbents-seeking-re-election-in-reno-sparks-and-washoe-lead-in-fundraising\n"
     ]
    },
    {
     "name": "stderr",
     "output_type": "stream",
     "text": [
      " 77%|███████████████████████████████▋         | 329/425 [03:05<01:08,  1.40it/s]"
     ]
    },
    {
     "name": "stdout",
     "output_type": "stream",
     "text": [
      "Processing link: https://thenevadaindependent.com/article/trump-to-visit-las-vegas-saturday-as-competition-in-gop-caucus-dwindles\n"
     ]
    },
    {
     "name": "stderr",
     "output_type": "stream",
     "text": [
      " 78%|███████████████████████████████▊         | 330/425 [03:06<01:12,  1.32it/s]"
     ]
    },
    {
     "name": "stdout",
     "output_type": "stream",
     "text": [
      "Processing link: https://thenevadaindependent.com/article/could-biden-and-trump-drag-down-nevada-senate-contenders-heres-what-history-tells-us\n"
     ]
    },
    {
     "name": "stderr",
     "output_type": "stream",
     "text": [
      " 78%|███████████████████████████████▉         | 331/425 [03:07<01:15,  1.24it/s]"
     ]
    },
    {
     "name": "stdout",
     "output_type": "stream",
     "text": [
      "Processing link: https://thenevadaindependent.com/article/exclusive-harris-to-visit-east-las-vegas-to-kick-off-nevada-early-voting\n"
     ]
    },
    {
     "name": "stderr",
     "output_type": "stream",
     "text": [
      " 78%|████████████████████████████████         | 332/425 [03:07<01:17,  1.20it/s]"
     ]
    },
    {
     "name": "stdout",
     "output_type": "stream",
     "text": [
      "Processing link: https://thenevadaindependent.com/article/nevada-senate-gop-hopefuls-attack-brown-pan-rosen-land-bill\n"
     ]
    },
    {
     "name": "stderr",
     "output_type": "stream",
     "text": [
      " 78%|████████████████████████████████         | 333/425 [03:08<01:18,  1.18it/s]"
     ]
    },
    {
     "name": "stdout",
     "output_type": "stream",
     "text": [
      "Processing link: https://thenevadaindependent.com/article/lombardo-to-caucus-for-trump-vote-none-of-the-above-in-state-run-primary\n"
     ]
    },
    {
     "name": "stderr",
     "output_type": "stream",
     "text": [
      " 79%|████████████████████████████████▏        | 334/425 [03:09<01:16,  1.19it/s]"
     ]
    },
    {
     "name": "stdout",
     "output_type": "stream",
     "text": [
      "Processing link: https://thenevadaindependent.com/article/republican-former-treasurer-dan-schwartz-to-challenge-susie-lee-in-district-3\n"
     ]
    },
    {
     "name": "stderr",
     "output_type": "stream",
     "text": [
      " 79%|████████████████████████████████▎        | 335/425 [03:10<01:03,  1.41it/s]"
     ]
    },
    {
     "name": "stdout",
     "output_type": "stream",
     "text": [
      "Processing link: https://thenevadaindependent.com/article/nv-supreme-court-seats-uncontested-in-2024-judicial-filing-brings-expanded-info-on-candidates\n"
     ]
    },
    {
     "name": "stderr",
     "output_type": "stream",
     "text": [
      " 79%|████████████████████████████████▍        | 336/425 [03:10<00:50,  1.77it/s]"
     ]
    },
    {
     "name": "stdout",
     "output_type": "stream",
     "text": [
      "Processing link: https://thenevadaindependent.com/article/as-give-to-lawmakers-democrats-hold-cash-advantage-campaign-finance-reports-show\n"
     ]
    },
    {
     "name": "stderr",
     "output_type": "stream",
     "text": [
      " 79%|████████████████████████████████▌        | 337/425 [03:10<00:44,  1.96it/s]"
     ]
    },
    {
     "name": "stdout",
     "output_type": "stream",
     "text": [
      "Processing link: https://thenevadaindependent.com/article/senate-candidate-sam-brown-endorses-trump-for-president\n"
     ]
    },
    {
     "name": "stderr",
     "output_type": "stream",
     "text": [
      " 80%|████████████████████████████████▌        | 338/425 [03:11<00:47,  1.85it/s]"
     ]
    },
    {
     "name": "stdout",
     "output_type": "stream",
     "text": [
      "Processing link: https://thenevadaindependent.com/article/election-2024-tracking-nevada-local-government-and-education-candidate-announcements\n"
     ]
    },
    {
     "name": "stderr",
     "output_type": "stream",
     "text": [
      " 80%|████████████████████████████████▋        | 339/425 [03:12<00:54,  1.59it/s]"
     ]
    },
    {
     "name": "stdout",
     "output_type": "stream",
     "text": [
      "Processing link: https://thenevadaindependent.com/article/nevada-counties-looking-to-hire-more-poll-workers-as-election-nears\n"
     ]
    },
    {
     "name": "stderr",
     "output_type": "stream",
     "text": [
      " 80%|████████████████████████████████▊        | 340/425 [03:12<00:58,  1.45it/s]"
     ]
    },
    {
     "name": "stdout",
     "output_type": "stream",
     "text": [
      "Processing link: https://thenevadaindependent.com/article/suit-to-bar-trump-from-nevada-ballot-over-role-in-jan-6-dismissed-for-lack-of-standing\n"
     ]
    },
    {
     "name": "stderr",
     "output_type": "stream",
     "text": [
      " 80%|████████████████████████████████▉        | 341/425 [03:13<00:59,  1.41it/s]"
     ]
    },
    {
     "name": "stdout",
     "output_type": "stream",
     "text": [
      "Processing link: https://thenevadaindependent.com/article/exclusive-rosen-raises-3-2-million-in-final-2023-fundraising-quarter\n"
     ]
    },
    {
     "name": "stderr",
     "output_type": "stream",
     "text": [
      " 80%|████████████████████████████████▉        | 342/425 [03:14<01:02,  1.32it/s]"
     ]
    },
    {
     "name": "stdout",
     "output_type": "stream",
     "text": [
      "Processing link: https://thenevadaindependent.com/article/ballot-initiative-filed-to-cap-nevada-payday-loan-interest-rates\n"
     ]
    },
    {
     "name": "stderr",
     "output_type": "stream",
     "text": [
      " 81%|█████████████████████████████████        | 343/425 [03:14<00:53,  1.54it/s]"
     ]
    },
    {
     "name": "stdout",
     "output_type": "stream",
     "text": [
      "Processing link: https://thenevadaindependent.com/article/nevada-gop-drops-lawsuit-aimed-at-blocking-presidential-primary\n"
     ]
    },
    {
     "name": "stderr",
     "output_type": "stream",
     "text": [
      " 81%|█████████████████████████████████▏       | 344/425 [03:15<00:58,  1.38it/s]"
     ]
    },
    {
     "name": "stdout",
     "output_type": "stream",
     "text": [
      "Processing link: https://thenevadaindependent.com/article/sen-jacky-rosens-speech-in-las-vegas-crashed-by-pro-palestine-protesters\n"
     ]
    },
    {
     "name": "stderr",
     "output_type": "stream",
     "text": [
      " 81%|█████████████████████████████████▎       | 345/425 [03:16<01:07,  1.19it/s]"
     ]
    },
    {
     "name": "stdout",
     "output_type": "stream",
     "text": [
      "Processing link: https://thenevadaindependent.com/article/gop-lawmaker-heidi-kasama-drops-out-of-congressional-race-against-susie-lee\n"
     ]
    },
    {
     "name": "stderr",
     "output_type": "stream",
     "text": [
      " 81%|█████████████████████████████████▍       | 346/425 [03:17<01:00,  1.30it/s]"
     ]
    },
    {
     "name": "stdout",
     "output_type": "stream",
     "text": [
      "Processing link: https://thenevadaindependent.com/article/in-vegas-kamala-harris-visit-to-culinary-union-spotlights-labor-role-in-2024-election\n"
     ]
    },
    {
     "name": "stderr",
     "output_type": "stream",
     "text": [
      " 82%|█████████████████████████████████▍       | 347/425 [03:18<01:03,  1.22it/s]"
     ]
    },
    {
     "name": "stdout",
     "output_type": "stream",
     "text": [
      "Processing link: https://thenevadaindependent.com/article/in-reno-trump-looks-to-stake-claim-on-nevada-gop-ahead-of-february-caucus\n"
     ]
    },
    {
     "name": "stderr",
     "output_type": "stream",
     "text": [
      " 82%|█████████████████████████████████▌       | 348/425 [03:19<01:00,  1.28it/s]"
     ]
    },
    {
     "name": "stdout",
     "output_type": "stream",
     "text": [
      "Processing link: https://thenevadaindependent.com/article/reproductive-rights-group-seeks-second-initiative-to-protect-abortion-in-nv-constitution\n"
     ]
    },
    {
     "name": "stderr",
     "output_type": "stream",
     "text": [
      " 82%|█████████████████████████████████▋       | 349/425 [03:19<00:51,  1.49it/s]"
     ]
    },
    {
     "name": "stdout",
     "output_type": "stream",
     "text": [
      "Processing link: https://thenevadaindependent.com/article/clark-county-commissioner-ross-miller-will-not-seek-re-election-in-2024\n"
     ]
    },
    {
     "name": "stderr",
     "output_type": "stream",
     "text": [
      " 82%|█████████████████████████████████▊       | 350/425 [03:20<00:47,  1.59it/s]"
     ]
    },
    {
     "name": "stdout",
     "output_type": "stream",
     "text": [
      "Processing link: https://thenevadaindependent.com/article/independent-redistricting-commission-ballot-questions-challenged-by-democrats\n"
     ]
    },
    {
     "name": "stderr",
     "output_type": "stream",
     "text": [
      " 83%|█████████████████████████████████▊       | 351/425 [03:20<00:50,  1.48it/s]"
     ]
    },
    {
     "name": "stdout",
     "output_type": "stream",
     "text": [
      "Processing link: https://thenevadaindependent.com/article/democrat-linked-attorneys-sue-to-stop-voter-id-ballot-measure\n"
     ]
    },
    {
     "name": "stderr",
     "output_type": "stream",
     "text": [
      " 83%|█████████████████████████████████▉       | 352/425 [03:22<00:58,  1.24it/s]"
     ]
    },
    {
     "name": "stdout",
     "output_type": "stream",
     "text": [
      "Processing link: https://thenevadaindependent.com/article/in-vegas-biden-highlights-3-billion-for-high-speed-rail-line-to-sell-nevadans-on-economy\n"
     ]
    },
    {
     "name": "stderr",
     "output_type": "stream",
     "text": [
      " 83%|██████████████████████████████████       | 353/425 [03:23<01:04,  1.11it/s]"
     ]
    },
    {
     "name": "stdout",
     "output_type": "stream",
     "text": [
      "Processing link: https://thenevadaindependent.com/article/what-sam-brown-has-and-hasnt-said-about-abortion-as-democratic-attacks-mount\n"
     ]
    },
    {
     "name": "stderr",
     "output_type": "stream",
     "text": [
      " 83%|██████████████████████████████████▏      | 354/425 [03:23<00:50,  1.41it/s]"
     ]
    },
    {
     "name": "stdout",
     "output_type": "stream",
     "text": [
      "Processing link: https://thenevadaindependent.com/article/nevada-polls-on-working-class-hispanic-voters-highlight-2024-battlefield\n"
     ]
    },
    {
     "name": "stderr",
     "output_type": "stream",
     "text": [
      " 84%|██████████████████████████████████▏      | 355/425 [03:24<00:49,  1.41it/s]"
     ]
    },
    {
     "name": "stdout",
     "output_type": "stream",
     "text": [
      "Processing link: https://thenevadaindependent.com/article/advocates-again-push-ballot-measure-to-take-redistricting-out-of-legislatures-hands\n"
     ]
    },
    {
     "name": "stderr",
     "output_type": "stream",
     "text": [
      " 84%|██████████████████████████████████▎      | 356/425 [03:25<00:52,  1.30it/s]"
     ]
    },
    {
     "name": "stdout",
     "output_type": "stream",
     "text": [
      "Processing link: https://thenevadaindependent.com/article/what-nevada-can-learn-from-2023-election-results-from-abortion-to-youngkin\n"
     ]
    },
    {
     "name": "stderr",
     "output_type": "stream",
     "text": [
      " 84%|██████████████████████████████████▍      | 357/425 [03:25<00:42,  1.62it/s]"
     ]
    },
    {
     "name": "stdout",
     "output_type": "stream",
     "text": [
      "Processing link: https://thenevadaindependent.com/article/what-nevada-republicans-can-learn-from-washington-democrats-awkward-2016-caucus-primary-split\n"
     ]
    },
    {
     "name": "stderr",
     "output_type": "stream",
     "text": [
      " 84%|██████████████████████████████████▌      | 358/425 [03:25<00:42,  1.59it/s]"
     ]
    },
    {
     "name": "stdout",
     "output_type": "stream",
     "text": [
      "Processing link: https://thenevadaindependent.com/article/republican-pollster-finds-rosen-with-narrow-lead-over-brown-in-senate-race\n"
     ]
    },
    {
     "name": "stderr",
     "output_type": "stream",
     "text": [
      " 84%|██████████████████████████████████▋      | 359/425 [03:26<00:41,  1.59it/s]"
     ]
    },
    {
     "name": "stdout",
     "output_type": "stream",
     "text": [
      "Processing link: https://thenevadaindependent.com/article/lombardo-calls-nv-gop-caucus-plan-detrimental-and-unacceptable\n"
     ]
    },
    {
     "name": "stderr",
     "output_type": "stream",
     "text": [
      " 85%|██████████████████████████████████▋      | 360/425 [03:27<00:42,  1.53it/s]"
     ]
    },
    {
     "name": "stdout",
     "output_type": "stream",
     "text": [
      "Processing link: https://thenevadaindependent.com/article/trump-rails-against-political-legal-battles-attacks-primary-rivals-in-las-vegas-rally\n"
     ]
    },
    {
     "name": "stderr",
     "output_type": "stream",
     "text": [
      " 85%|██████████████████████████████████▊      | 361/425 [03:27<00:37,  1.71it/s]"
     ]
    },
    {
     "name": "stdout",
     "output_type": "stream",
     "text": [
      "Processing link: https://thenevadaindependent.com/article/gop-presidential-hopefuls-voice-support-for-israel-pence-drops-out-at-vegas-summit\n"
     ]
    },
    {
     "name": "stderr",
     "output_type": "stream",
     "text": [
      " 85%|██████████████████████████████████▉      | 362/425 [03:28<00:34,  1.84it/s]"
     ]
    },
    {
     "name": "stdout",
     "output_type": "stream",
     "text": [
      "Processing link: https://thenevadaindependent.com/article/dean-phillips-to-skip-nevada-primary-in-challenge-to-biden\n"
     ]
    },
    {
     "name": "stderr",
     "output_type": "stream",
     "text": [
      " 85%|███████████████████████████████████      | 363/425 [03:29<00:39,  1.55it/s]"
     ]
    },
    {
     "name": "stdout",
     "output_type": "stream",
     "text": [
      "Processing link: https://thenevadaindependent.com/article/introducing-our-2024-nevada-elections-guide\n"
     ]
    },
    {
     "name": "stderr",
     "output_type": "stream",
     "text": [
      " 86%|███████████████████████████████████      | 364/425 [03:29<00:44,  1.37it/s]"
     ]
    },
    {
     "name": "stdout",
     "output_type": "stream",
     "text": [
      "Processing link: https://thenevadaindependent.com/article/federal-judge-dismisses-lawsuit-challenging-election-worker-protection-bill\n"
     ]
    },
    {
     "name": "stderr",
     "output_type": "stream",
     "text": [
      " 86%|███████████████████████████████████▏     | 365/425 [03:31<00:49,  1.22it/s]"
     ]
    },
    {
     "name": "stdout",
     "output_type": "stream",
     "text": [
      "Processing link: https://thenevadaindependent.com/article/democrat-c-h-miller-resigning-from-assembly-will-run-for-las-vegas-city-council\n"
     ]
    },
    {
     "name": "stderr",
     "output_type": "stream",
     "text": [
      " 86%|███████████████████████████████████▎     | 366/425 [03:31<00:46,  1.28it/s]"
     ]
    },
    {
     "name": "stdout",
     "output_type": "stream",
     "text": [
      "Processing link: https://thenevadaindependent.com/article/progressive-pundit-cenk-uygur-wont-appear-on-nv-primary-ballot-after-altering-form\n"
     ]
    },
    {
     "name": "stderr",
     "output_type": "stream",
     "text": [
      " 86%|███████████████████████████████████▍     | 367/425 [03:32<00:38,  1.50it/s]"
     ]
    },
    {
     "name": "stdout",
     "output_type": "stream",
     "text": [
      "Processing link: https://thenevadaindependent.com/article/at-forum-las-vegas-mayor-hopefuls-discuss-homelessness-priorities-for-first-100-days\n"
     ]
    },
    {
     "name": "stderr",
     "output_type": "stream",
     "text": [
      " 87%|███████████████████████████████████▌     | 368/425 [03:32<00:39,  1.44it/s]"
     ]
    },
    {
     "name": "stdout",
     "output_type": "stream",
     "text": [
      "Processing link: https://thenevadaindependent.com/article/gop-hopefuls-split-between-primary-caucus-as-nevada-presidential-filing-comes-to-a-close\n"
     ]
    },
    {
     "name": "stderr",
     "output_type": "stream",
     "text": [
      " 87%|███████████████████████████████████▌     | 369/425 [03:33<00:41,  1.36it/s]"
     ]
    },
    {
     "name": "stdout",
     "output_type": "stream",
     "text": [
      "Processing link: https://thenevadaindependent.com/article/nevada-battleground-democrats-outraise-congressional-gop-opponents-in-third-quarter\n"
     ]
    },
    {
     "name": "stderr",
     "output_type": "stream",
     "text": [
      " 87%|███████████████████████████████████▋     | 370/425 [03:34<00:35,  1.56it/s]"
     ]
    },
    {
     "name": "stdout",
     "output_type": "stream",
     "text": [
      "Processing link: https://thenevadaindependent.com/article/desantis-joins-nevada-republican-caucus-haley-has-not-filed-yet\n"
     ]
    },
    {
     "name": "stderr",
     "output_type": "stream",
     "text": [
      " 87%|███████████████████████████████████▊     | 371/425 [03:34<00:37,  1.45it/s]"
     ]
    },
    {
     "name": "stdout",
     "output_type": "stream",
     "text": [
      "Processing link: https://thenevadaindependent.com/article/tim-scott-files-for-nevada-presidential-primary-is-2nd-major-candidate-to-skip-gop-caucus\n"
     ]
    },
    {
     "name": "stderr",
     "output_type": "stream",
     "text": [
      " 88%|███████████████████████████████████▉     | 372/425 [03:35<00:40,  1.29it/s]"
     ]
    },
    {
     "name": "stdout",
     "output_type": "stream",
     "text": [
      "Processing link: https://thenevadaindependent.com/article/in-north-las-vegas-vice-president-kamala-harris-looks-to-woo-young-voters\n"
     ]
    },
    {
     "name": "stderr",
     "output_type": "stream",
     "text": [
      " 88%|███████████████████████████████████▉     | 373/425 [03:36<00:38,  1.35it/s]"
     ]
    },
    {
     "name": "stdout",
     "output_type": "stream",
     "text": [
      "Processing link: https://thenevadaindependent.com/article/pence-skips-nevada-gop-caucus-becomes-first-major-candidate-to-file-for-state-run-primary\n"
     ]
    },
    {
     "name": "stderr",
     "output_type": "stream",
     "text": [
      " 88%|████████████████████████████████████     | 374/425 [03:37<00:39,  1.30it/s]"
     ]
    },
    {
     "name": "stdout",
     "output_type": "stream",
     "text": [
      "Processing link: https://thenevadaindependent.com/article/rosen-raises-2-7m-grows-war-chest-ahead-of-competitive-re-election-bid\n"
     ]
    },
    {
     "name": "stderr",
     "output_type": "stream",
     "text": [
      " 88%|████████████████████████████████████▏    | 375/425 [03:38<00:39,  1.26it/s]"
     ]
    },
    {
     "name": "stdout",
     "output_type": "stream",
     "text": [
      "Processing link: https://thenevadaindependent.com/article/tracker-whos-running-in-nevadas-2024-presidential-primaries-and-caucus\n"
     ]
    },
    {
     "name": "stderr",
     "output_type": "stream",
     "text": [
      " 88%|████████████████████████████████████▎    | 376/425 [03:38<00:31,  1.57it/s]"
     ]
    },
    {
     "name": "stdout",
     "output_type": "stream",
     "text": [
      "Processing link: https://thenevadaindependent.com/article/former-north-las-vegas-mayor-john-lee-to-run-for-congress-challenge-horsford\n"
     ]
    },
    {
     "name": "stderr",
     "output_type": "stream",
     "text": [
      " 89%|████████████████████████████████████▎    | 377/425 [03:39<00:33,  1.44it/s]"
     ]
    },
    {
     "name": "stdout",
     "output_type": "stream",
     "text": [
      "Processing link: https://thenevadaindependent.com/article/in-las-vegas-vivek-ramaswamy-campaigns-under-trumps-shadow\n"
     ]
    },
    {
     "name": "stderr",
     "output_type": "stream",
     "text": [
      " 89%|████████████████████████████████████▍    | 378/425 [03:39<00:31,  1.48it/s]"
     ]
    },
    {
     "name": "stdout",
     "output_type": "stream",
     "text": [
      "Processing link: https://thenevadaindependent.com/article/nevada-adopts-rules-for-presidential-primaries-as-state-gop-continues-plans-for-caucus\n"
     ]
    },
    {
     "name": "stderr",
     "output_type": "stream",
     "text": [
      " 89%|████████████████████████████████████▌    | 379/425 [03:40<00:27,  1.67it/s]"
     ]
    },
    {
     "name": "stdout",
     "output_type": "stream",
     "text": [
      "Processing link: https://thenevadaindependent.com/article/rosen-calls-on-embattled-menendez-to-resign-joining-other-senate-democrats\n"
     ]
    },
    {
     "name": "stderr",
     "output_type": "stream",
     "text": [
      " 89%|████████████████████████████████████▋    | 380/425 [03:41<00:29,  1.55it/s]"
     ]
    },
    {
     "name": "stdout",
     "output_type": "stream",
     "text": [
      "Processing link: https://thenevadaindependent.com/article/lombardo-not-getting-engaged-on-presidential-primary-trump-re-election-bid\n"
     ]
    },
    {
     "name": "stderr",
     "output_type": "stream",
     "text": [
      " 90%|████████████████████████████████████▊    | 381/425 [03:41<00:23,  1.86it/s]"
     ]
    },
    {
     "name": "stdout",
     "output_type": "stream",
     "text": [
      "Processing link: https://thenevadaindependent.com/article/election-2024-tracking-nevada-legislative-candidate-announcements\n"
     ]
    },
    {
     "name": "stderr",
     "output_type": "stream",
     "text": [
      " 90%|████████████████████████████████████▊    | 382/425 [03:42<00:28,  1.52it/s]"
     ]
    },
    {
     "name": "stdout",
     "output_type": "stream",
     "text": [
      "Processing link: https://thenevadaindependent.com/article/nevada-gop-approves-party-run-caucus-that-will-exclude-candidates-who-run-in-primary\n"
     ]
    },
    {
     "name": "stderr",
     "output_type": "stream",
     "text": [
      " 90%|████████████████████████████████████▉    | 383/425 [03:43<00:31,  1.32it/s]"
     ]
    },
    {
     "name": "stdout",
     "output_type": "stream",
     "text": [
      "Processing link: https://thenevadaindependent.com/article/lombardo-campaign-pivots-legal-defense-fund-to-ethics-case\n"
     ]
    },
    {
     "name": "stderr",
     "output_type": "stream",
     "text": [
      " 90%|█████████████████████████████████████    | 384/425 [03:43<00:26,  1.55it/s]"
     ]
    },
    {
     "name": "stdout",
     "output_type": "stream",
     "text": [
      "Processing link: https://thenevadaindependent.com/article/coalition-seeks-2024-ballot-measure-to-put-abortion-protections-in-nevada-constitution\n"
     ]
    },
    {
     "name": "stderr",
     "output_type": "stream",
     "text": [
      " 91%|█████████████████████████████████████▏   | 385/425 [03:43<00:21,  1.89it/s]"
     ]
    },
    {
     "name": "stdout",
     "output_type": "stream",
     "text": [
      "Processing link: https://thenevadaindependent.com/article/top-nevada-republicans-reverse-course-urge-party-to-vote-early-or-by-mail-in-2024\n"
     ]
    },
    {
     "name": "stderr",
     "output_type": "stream",
     "text": [
      " 91%|█████████████████████████████████████▏   | 386/425 [03:45<00:26,  1.49it/s]"
     ]
    },
    {
     "name": "stdout",
     "output_type": "stream",
     "text": [
      "Processing link: https://thenevadaindependent.com/article/gop-senate-candidate-sam-brown-once-supported-20-week-abortion-ban-is-now-less-specific\n"
     ]
    },
    {
     "name": "stderr",
     "output_type": "stream",
     "text": [
      " 91%|█████████████████████████████████████▎   | 387/425 [03:45<00:26,  1.46it/s]"
     ]
    },
    {
     "name": "stdout",
     "output_type": "stream",
     "text": [
      "Processing link: https://thenevadaindependent.com/article/weve-got-to-do-those-things-again-inside-the-biden-campaigns-plans-for-nevada\n"
     ]
    },
    {
     "name": "stderr",
     "output_type": "stream",
     "text": [
      " 91%|█████████████████████████████████████▍   | 388/425 [03:45<00:20,  1.82it/s]"
     ]
    },
    {
     "name": "stdout",
     "output_type": "stream",
     "text": [
      "Processing link: https://thenevadaindependent.com/article/election-regulations-draw-gop-pushback-again-limited-hand-counting-regulation-returns\n"
     ]
    },
    {
     "name": "stderr",
     "output_type": "stream",
     "text": [
      " 92%|█████████████████████████████████████▌   | 389/425 [03:46<00:23,  1.56it/s]"
     ]
    },
    {
     "name": "stdout",
     "output_type": "stream",
     "text": [
      "Processing link: https://thenevadaindependent.com/article/trump-opponent-seeks-longshot-14th-amendment-case-to-bar-him-from-nevada-ballot\n"
     ]
    },
    {
     "name": "stderr",
     "output_type": "stream",
     "text": [
      " 92%|█████████████████████████████████████▌   | 390/425 [03:47<00:24,  1.42it/s]"
     ]
    },
    {
     "name": "stdout",
     "output_type": "stream",
     "text": [
      "Processing link: https://thenevadaindependent.com/article/desantis-super-pac-calls-nevada-gop-primary-rigged-for-trump-other-candidates-shy-away-from-state\n"
     ]
    },
    {
     "name": "stderr",
     "output_type": "stream",
     "text": [
      " 92%|█████████████████████████████████████▋   | 391/425 [03:48<00:26,  1.29it/s]"
     ]
    },
    {
     "name": "stdout",
     "output_type": "stream",
     "text": [
      "Processing link: https://thenevadaindependent.com/article/assemblywoman-and-reno-council-member-join-race-for-key-reno-area-state-senate-seat\n"
     ]
    },
    {
     "name": "stderr",
     "output_type": "stream",
     "text": [
      " 92%|█████████████████████████████████████▊   | 392/425 [03:49<00:26,  1.24it/s]"
     ]
    },
    {
     "name": "stdout",
     "output_type": "stream",
     "text": [
      "Processing link: https://thenevadaindependent.com/article/teacher-led-pac-files-petition-to-block-public-funding-for-as-stadium-in-vegas\n"
     ]
    },
    {
     "name": "stderr",
     "output_type": "stream",
     "text": [
      " 92%|█████████████████████████████████████▉   | 393/425 [03:50<00:24,  1.32it/s]"
     ]
    },
    {
     "name": "stdout",
     "output_type": "stream",
     "text": [
      "Processing link: https://thenevadaindependent.com/article/2024-house-races-las-vegas-districts-again-in-spotlight-as-gop-seeks-to-unseat-democratic-incumbents\n"
     ]
    },
    {
     "name": "stderr",
     "output_type": "stream",
     "text": [
      " 93%|██████████████████████████████████████   | 394/425 [03:50<00:22,  1.38it/s]"
     ]
    },
    {
     "name": "stdout",
     "output_type": "stream",
     "text": [
      "Processing link: https://thenevadaindependent.com/article/2024-senate-race-growing-field-of-republican-challengers-look-to-unseat-jacky-rosen\n"
     ]
    },
    {
     "name": "stderr",
     "output_type": "stream",
     "text": [
      " 93%|██████████████████████████████████████   | 395/425 [03:51<00:21,  1.42it/s]"
     ]
    },
    {
     "name": "stdout",
     "output_type": "stream",
     "text": [
      "Processing link: https://thenevadaindependent.com/article/pro-sam-brown-group-polling-finds-him-leading-gop-senate-field-many-undecided\n"
     ]
    },
    {
     "name": "stderr",
     "output_type": "stream",
     "text": [
      " 93%|██████████████████████████████████████▏  | 396/425 [03:52<00:21,  1.35it/s]"
     ]
    },
    {
     "name": "stdout",
     "output_type": "stream",
     "text": [
      "Processing link: https://thenevadaindependent.com/article/gop-lawmaker-heidi-kasama-to-run-for-congress-challenge-susie-lee\n"
     ]
    },
    {
     "name": "stderr",
     "output_type": "stream",
     "text": [
      " 93%|██████████████████████████████████████▎  | 397/425 [03:52<00:16,  1.69it/s]"
     ]
    },
    {
     "name": "stdout",
     "output_type": "stream",
     "text": [
      "Processing link: https://thenevadaindependent.com/article/after-judge-denies-gop-request-to-block-presidential-primary-party-appeals-to-nevada-supreme-court\n"
     ]
    },
    {
     "name": "stderr",
     "output_type": "stream",
     "text": [
      " 94%|██████████████████████████████████████▍  | 398/425 [03:53<00:18,  1.42it/s]"
     ]
    },
    {
     "name": "stdout",
     "output_type": "stream",
     "text": [
      "Processing link: https://thenevadaindependent.com/article/gop-senate-leader-heidi-seevers-gansert-wont-run-for-re-election-in-2024\n"
     ]
    },
    {
     "name": "stderr",
     "output_type": "stream",
     "text": [
      " 94%|██████████████████████████████████████▍  | 399/425 [03:54<00:19,  1.34it/s]"
     ]
    },
    {
     "name": "stdout",
     "output_type": "stream",
     "text": [
      "Processing link: https://thenevadaindependent.com/article/indy-explains-nevadas-2024-presidential-primaries\n"
     ]
    },
    {
     "name": "stderr",
     "output_type": "stream",
     "text": [
      " 94%|██████████████████████████████████████▌  | 400/425 [03:54<00:14,  1.69it/s]"
     ]
    },
    {
     "name": "stdout",
     "output_type": "stream",
     "text": [
      "Processing link: https://thenevadaindependent.com/article/rosen-congressional-democrats-maintain-fundraising-advantages-as-2024-cycle-kicks-off\n"
     ]
    },
    {
     "name": "stderr",
     "output_type": "stream",
     "text": [
      " 94%|██████████████████████████████████████▋  | 401/425 [03:54<00:11,  2.03it/s]"
     ]
    },
    {
     "name": "stdout",
     "output_type": "stream",
     "text": [
      "Processing link: https://thenevadaindependent.com/article/sam-brown-on-his-repeat-run-for-u-s-senate-campaign-issues\n"
     ]
    },
    {
     "name": "stderr",
     "output_type": "stream",
     "text": [
      " 95%|██████████████████████████████████████▊  | 402/425 [03:55<00:09,  2.38it/s]"
     ]
    },
    {
     "name": "stdout",
     "output_type": "stream",
     "text": [
      "Processing link: https://thenevadaindependent.com/article/judge-denies-nv-gop-request-to-block-presidential-primary-election\n"
     ]
    },
    {
     "name": "stderr",
     "output_type": "stream",
     "text": [
      " 95%|██████████████████████████████████████▉  | 403/425 [03:55<00:12,  1.82it/s]"
     ]
    },
    {
     "name": "stdout",
     "output_type": "stream",
     "text": [
      "Processing link: https://thenevadaindependent.com/article/army-veteran-sam-brown-enters-u-s-senate-race\n"
     ]
    },
    {
     "name": "stderr",
     "output_type": "stream",
     "text": [
      " 95%|██████████████████████████████████████▉  | 404/425 [03:56<00:14,  1.45it/s]"
     ]
    },
    {
     "name": "stdout",
     "output_type": "stream",
     "text": [
      "Processing link: https://thenevadaindependent.com/article/rosen-has-record-7-5-million-on-hand-after-second-quarter-of-2023\n"
     ]
    },
    {
     "name": "stderr",
     "output_type": "stream",
     "text": [
      " 95%|███████████████████████████████████████  | 405/425 [03:57<00:14,  1.36it/s]"
     ]
    },
    {
     "name": "stdout",
     "output_type": "stream",
     "text": [
      "Processing link: https://thenevadaindependent.com/article/trump-blasts-desantis-repeats-false-election-claims-in-first-las-vegas-visit-of-2024-campaign\n"
     ]
    },
    {
     "name": "stderr",
     "output_type": "stream",
     "text": [
      " 96%|███████████████████████████████████████▏ | 406/425 [03:58<00:15,  1.24it/s]"
     ]
    },
    {
     "name": "stdout",
     "output_type": "stream",
     "text": [
      "Processing link: https://thenevadaindependent.com/article/trump-plans-campaign-stop-in-vegas-on-saturday\n"
     ]
    },
    {
     "name": "stderr",
     "output_type": "stream",
     "text": [
      " 96%|███████████████████████████████████████▎ | 407/425 [03:59<00:14,  1.22it/s]"
     ]
    },
    {
     "name": "stdout",
     "output_type": "stream",
     "text": [
      "Processing link: https://thenevadaindependent.com/article/7-months-before-primaries-boulder-citys-july-4th-event-sees-less-politicking-than-usual\n"
     ]
    },
    {
     "name": "stderr",
     "output_type": "stream",
     "text": [
      " 96%|███████████████████████████████████████▎ | 408/425 [04:00<00:14,  1.14it/s]"
     ]
    },
    {
     "name": "stdout",
     "output_type": "stream",
     "text": [
      "Processing link: https://thenevadaindependent.com/article/nevada-teachers-union-vows-to-fight-public-funding-for-as-vegas-stadium\n"
     ]
    },
    {
     "name": "stderr",
     "output_type": "stream",
     "text": [
      " 96%|███████████████████████████████████████▍ | 409/425 [04:01<00:14,  1.12it/s]"
     ]
    },
    {
     "name": "stdout",
     "output_type": "stream",
     "text": [
      "Processing link: https://thenevadaindependent.com/article/nevada-democrats-keep-abortion-top-of-mind-one-year-after-roe-overturned\n"
     ]
    },
    {
     "name": "stderr",
     "output_type": "stream",
     "text": [
      " 96%|███████████████████████████████████████▌ | 410/425 [04:01<00:11,  1.36it/s]"
     ]
    },
    {
     "name": "stdout",
     "output_type": "stream",
     "text": [
      "Processing link: https://thenevadaindependent.com/article/nevada-officials-call-for-dismissal-of-gop-lawsuit-to-stop-presidential-primary-election\n"
     ]
    },
    {
     "name": "stderr",
     "output_type": "stream",
     "text": [
      " 97%|███████████████████████████████████████▋ | 411/425 [04:02<00:10,  1.36it/s]"
     ]
    },
    {
     "name": "stdout",
     "output_type": "stream",
     "text": [
      "Processing link: https://thenevadaindependent.com/article/desantis-aside-few-presidential-hopefuls-heading-to-early-state-nevada\n"
     ]
    },
    {
     "name": "stderr",
     "output_type": "stream",
     "text": [
      " 97%|███████████████████████████████████████▋ | 412/425 [04:03<00:09,  1.32it/s]"
     ]
    },
    {
     "name": "stdout",
     "output_type": "stream",
     "text": [
      "Processing link: https://thenevadaindependent.com/article/desantis-targets-the-left-not-trump-at-northern-nevada-basque-fry\n"
     ]
    },
    {
     "name": "stderr",
     "output_type": "stream",
     "text": [
      " 97%|███████████████████████████████████████▊ | 413/425 [04:03<00:07,  1.65it/s]"
     ]
    },
    {
     "name": "stdout",
     "output_type": "stream",
     "text": [
      "Processing link: https://thenevadaindependent.com/article/d-c-download-where-republican-presidential-candidates-stand-on-yucca\n"
     ]
    },
    {
     "name": "stderr",
     "output_type": "stream",
     "text": [
      " 97%|███████████████████████████████████████▉ | 414/425 [04:04<00:07,  1.39it/s]"
     ]
    },
    {
     "name": "stdout",
     "output_type": "stream",
     "text": [
      "Processing link: https://thenevadaindependent.com/article/former-ambassador-to-iceland-jeffrey-gunter-mulling-senate-run-in-nevada\n"
     ]
    },
    {
     "name": "stderr",
     "output_type": "stream",
     "text": [
      " 98%|████████████████████████████████████████ | 415/425 [04:05<00:06,  1.59it/s]"
     ]
    },
    {
     "name": "stdout",
     "output_type": "stream",
     "text": [
      "Processing link: https://thenevadaindependent.com/article/nevada-gop-sues-state-wants-to-hold-a-2024-presidential-caucus\n"
     ]
    },
    {
     "name": "stderr",
     "output_type": "stream",
     "text": [
      " 98%|████████████████████████████████████████▏| 416/425 [04:05<00:06,  1.43it/s]"
     ]
    },
    {
     "name": "stdout",
     "output_type": "stream",
     "text": [
      "Processing link: https://thenevadaindependent.com/article/national-republicans-recruiting-sam-brown-to-challenge-rosen\n"
     ]
    },
    {
     "name": "stderr",
     "output_type": "stream",
     "text": [
      " 98%|████████████████████████████████████████▏| 417/425 [04:06<00:04,  1.61it/s]"
     ]
    },
    {
     "name": "stdout",
     "output_type": "stream",
     "text": [
      "Processing link: https://thenevadaindependent.com/article/former-nevada-assemblyman-election-denier-jim-marchant-plans-senate-run\n"
     ]
    },
    {
     "name": "stderr",
     "output_type": "stream",
     "text": [
      " 98%|████████████████████████████████████████▎| 418/425 [04:06<00:03,  1.97it/s]"
     ]
    },
    {
     "name": "stdout",
     "output_type": "stream",
     "text": [
      "Processing link: https://thenevadaindependent.com/article/biden-winning-hypothetical-matchups-against-trump-desantis-in-nevada\n"
     ]
    },
    {
     "name": "stderr",
     "output_type": "stream",
     "text": [
      " 99%|████████████████████████████████████████▍| 419/425 [04:07<00:03,  1.88it/s]"
     ]
    },
    {
     "name": "stdout",
     "output_type": "stream",
     "text": [
      "Processing link: https://thenevadaindependent.com/article/rosen-raises-2-4-million-has-record-6-million-on-hand-after-first-quarter-of-2023\n"
     ]
    },
    {
     "name": "stderr",
     "output_type": "stream",
     "text": [
      " 99%|████████████████████████████████████████▌| 420/425 [04:07<00:02,  1.80it/s]"
     ]
    },
    {
     "name": "stdout",
     "output_type": "stream",
     "text": [
      "Processing link: https://thenevadaindependent.com/article/rosen-announces-2024-senate-re-election-campaign\n"
     ]
    },
    {
     "name": "stderr",
     "output_type": "stream",
     "text": [
      " 99%|████████████████████████████████████████▌| 421/425 [04:08<00:02,  1.63it/s]"
     ]
    },
    {
     "name": "stdout",
     "output_type": "stream",
     "text": [
      "Processing link: https://thenevadaindependent.com/article/indy-qa-cuccinelli-dhs-leader-under-trump-says-he-sees-more-2024-potential-in-desantis\n"
     ]
    },
    {
     "name": "stderr",
     "output_type": "stream",
     "text": [
      " 99%|████████████████████████████████████████▋| 422/425 [04:09<00:02,  1.44it/s]"
     ]
    },
    {
     "name": "stdout",
     "output_type": "stream",
     "text": [
      "Processing link: https://thenevadaindependent.com/article/how-medicare-advantage-could-become-a-marquee-issue-in-nevadas-2024-senate-race\n"
     ]
    },
    {
     "name": "stderr",
     "output_type": "stream",
     "text": [
      "100%|████████████████████████████████████████▊| 423/425 [04:10<00:01,  1.44it/s]"
     ]
    },
    {
     "name": "stdout",
     "output_type": "stream",
     "text": [
      "Processing link: https://thenevadaindependent.com/article/d-c-download-what-biden-and-desantis-said-in-las-vegas\n"
     ]
    },
    {
     "name": "stderr",
     "output_type": "stream",
     "text": [
      "100%|████████████████████████████████████████▉| 424/425 [04:11<00:00,  1.26it/s]"
     ]
    },
    {
     "name": "stdout",
     "output_type": "stream",
     "text": [
      "Processing link: https://thenevadaindependent.com/article/in-visit-to-early-state-nevada-desantis-touts-self-as-leader-willing-to-go-on-offense\n"
     ]
    },
    {
     "name": "stderr",
     "output_type": "stream",
     "text": [
      "100%|█████████████████████████████████████████| 425/425 [04:12<00:00,  1.68it/s]\n"
     ]
    },
    {
     "ename": "ModuleNotFoundError",
     "evalue": "No module named 'ace_tools'",
     "output_type": "error",
     "traceback": [
      "\u001b[0;31m---------------------------------------------------------------------------\u001b[0m",
      "\u001b[0;31mModuleNotFoundError\u001b[0m                       Traceback (most recent call last)",
      "Cell \u001b[0;32mIn[3], line 60\u001b[0m\n\u001b[1;32m     57\u001b[0m df\u001b[38;5;241m.\u001b[39mto_csv(\u001b[38;5;124m\"\u001b[39m\u001b[38;5;124mlink_verification_with_text.csv\u001b[39m\u001b[38;5;124m\"\u001b[39m, index\u001b[38;5;241m=\u001b[39m\u001b[38;5;28;01mFalse\u001b[39;00m)\n\u001b[1;32m     59\u001b[0m \u001b[38;5;66;03m# Display the DataFrame to the user\u001b[39;00m\n\u001b[0;32m---> 60\u001b[0m \u001b[38;5;28;01mimport\u001b[39;00m \u001b[38;5;21;01mace_tools\u001b[39;00m \u001b[38;5;28;01mas\u001b[39;00m \u001b[38;5;21;01mtools\u001b[39;00m; tools\u001b[38;5;241m.\u001b[39mdisplay_dataframe_to_user(name\u001b[38;5;241m=\u001b[39m\u001b[38;5;124m\"\u001b[39m\u001b[38;5;124mLink Verification with Text Results\u001b[39m\u001b[38;5;124m\"\u001b[39m, dataframe\u001b[38;5;241m=\u001b[39mdf)\n\u001b[1;32m     62\u001b[0m \u001b[38;5;28mprint\u001b[39m(\u001b[38;5;124m\"\u001b[39m\u001b[38;5;124mProcessing complete. Results saved to \u001b[39m\u001b[38;5;124m'\u001b[39m\u001b[38;5;124mlink_verification_with_text.csv\u001b[39m\u001b[38;5;124m'\u001b[39m\u001b[38;5;124m.\u001b[39m\u001b[38;5;124m\"\u001b[39m)\n",
      "\u001b[0;31mModuleNotFoundError\u001b[0m: No module named 'ace_tools'"
     ]
    }
   ],
   "source": [
    "import requests\n",
    "from bs4 import BeautifulSoup\n",
    "import pandas as pd\n",
    "from tqdm import tqdm\n",
    "\n",
    "# Load article links from file\n",
    "with open(\"article_links.txt\", \"r\") as file:\n",
    "    article_links = [line.strip() for line in file]\n",
    "\n",
    "# List to store results\n",
    "results = []\n",
    "\n",
    "# Loop through each article link\n",
    "for link in tqdm(article_links):\n",
    "    print(f\"Processing link: {link}\")\n",
    "    try:\n",
    "        # Make a request to the article page\n",
    "        response = requests.get(link)\n",
    "        if response.status_code == 200:\n",
    "            soup = BeautifulSoup(response.text, \"html.parser\")\n",
    "\n",
    "            # Check for the specific element in css-fld5vr\n",
    "            container = soup.find(\"div\", class_=\"css-fld5vr\")\n",
    "            if container:\n",
    "                specific_element = container.find(\"a\", href=\"/articles/election-2024\", class_=\"css-jkqr1t\")\n",
    "                element_exists = specific_element is not None\n",
    "            else:\n",
    "                element_exists = False\n",
    "\n",
    "            # Extract text from p tags in style-cms-content undefined css-kbiup2\n",
    "            cms_container = soup.find(\"div\", class_=\"style-cms-content undefined css-kbiup2\")\n",
    "            if cms_container:\n",
    "                p_texts = [p.get_text(strip=True) for p in cms_container.find_all(\"p\")]\n",
    "                plain_text = \" \".join(p_texts)  # Combine all paragraphs into a single string\n",
    "            else:\n",
    "                plain_text = \"\"\n",
    "        else:\n",
    "            element_exists = False\n",
    "            plain_text = \"\"\n",
    "            print(f\"Failed to fetch the link. Status code: {response.status_code}\")\n",
    "    except Exception as e:\n",
    "        element_exists = False\n",
    "        plain_text = \"\"\n",
    "        print(f\"Error occurred: {e}\")\n",
    "\n",
    "    # Append result to the list\n",
    "    results.append({\n",
    "        \"Link\": link,\n",
    "        \"Element Exists\": element_exists,\n",
    "        \"Plain Text\": plain_text\n",
    "    })\n",
    "\n",
    "# Create a pandas DataFrame\n",
    "df = pd.DataFrame(results)\n",
    "\n",
    "# Save the DataFrame to a CSV file\n",
    "df.to_csv(\"link_verification_with_text.csv\", index=False)\n",
    "\n",
    "# Display the DataFrame to the user\n",
    "import ace_tools as tools; tools.display_dataframe_to_user(name=\"Link Verification with Text Results\", dataframe=df)\n",
    "\n",
    "print(\"Processing complete. Results saved to 'link_verification_with_text.csv'.\")"
   ]
  },
  {
   "cell_type": "code",
   "execution_count": 4,
   "id": "c2fd248f-caab-401a-8197-f73ca9c5a0b0",
   "metadata": {},
   "outputs": [
    {
     "data": {
      "text/html": [
       "<div>\n",
       "<style scoped>\n",
       "    .dataframe tbody tr th:only-of-type {\n",
       "        vertical-align: middle;\n",
       "    }\n",
       "\n",
       "    .dataframe tbody tr th {\n",
       "        vertical-align: top;\n",
       "    }\n",
       "\n",
       "    .dataframe thead th {\n",
       "        text-align: right;\n",
       "    }\n",
       "</style>\n",
       "<table border=\"1\" class=\"dataframe\">\n",
       "  <thead>\n",
       "    <tr style=\"text-align: right;\">\n",
       "      <th></th>\n",
       "      <th>Link</th>\n",
       "      <th>Element Exists</th>\n",
       "      <th>Plain Text</th>\n",
       "    </tr>\n",
       "  </thead>\n",
       "  <tbody>\n",
       "    <tr>\n",
       "      <th>0</th>\n",
       "      <td>https://thenevadaindependent.com/article/as-un...</td>\n",
       "      <td>False</td>\n",
       "      <td>Benefit programs that have buoyed hundreds of ...</td>\n",
       "    </tr>\n",
       "    <tr>\n",
       "      <th>1</th>\n",
       "      <td>https://thenevadaindependent.com/article/despi...</td>\n",
       "      <td>True</td>\n",
       "      <td>By Graham Lee Brewer, Associated Press OKLAHOM...</td>\n",
       "    </tr>\n",
       "    <tr>\n",
       "      <th>2</th>\n",
       "      <td>https://thenevadaindependent.com/article/analy...</td>\n",
       "      <td>True</td>\n",
       "      <td>Editor's Note: We recommend using Google Chrom...</td>\n",
       "    </tr>\n",
       "    <tr>\n",
       "      <th>3</th>\n",
       "      <td>https://thenevadaindependent.com/article/trump...</td>\n",
       "      <td>True</td>\n",
       "      <td>Elias Benjelloun’s parents were issued their d...</td>\n",
       "    </tr>\n",
       "    <tr>\n",
       "      <th>4</th>\n",
       "      <td>https://thenevadaindependent.com/article/whats...</td>\n",
       "      <td>True</td>\n",
       "      <td>Ace Acosta, who, on top of his job as a food m...</td>\n",
       "    </tr>\n",
       "    <tr>\n",
       "      <th>...</th>\n",
       "      <td>...</td>\n",
       "      <td>...</td>\n",
       "      <td>...</td>\n",
       "    </tr>\n",
       "    <tr>\n",
       "      <th>420</th>\n",
       "      <td>https://thenevadaindependent.com/article/rosen...</td>\n",
       "      <td>True</td>\n",
       "      <td>Sen. Jacky Rosen (D-NV) officially announced h...</td>\n",
       "    </tr>\n",
       "    <tr>\n",
       "      <th>421</th>\n",
       "      <td>https://thenevadaindependent.com/article/indy-...</td>\n",
       "      <td>True</td>\n",
       "      <td>Although Florida Gov. Ron DeSantis has yet to ...</td>\n",
       "    </tr>\n",
       "    <tr>\n",
       "      <th>422</th>\n",
       "      <td>https://thenevadaindependent.com/article/how-m...</td>\n",
       "      <td>True</td>\n",
       "      <td>When President Joe Biden delivered his State o...</td>\n",
       "    </tr>\n",
       "    <tr>\n",
       "      <th>423</th>\n",
       "      <td>https://thenevadaindependent.com/article/d-c-d...</td>\n",
       "      <td>True</td>\n",
       "      <td>In the last week, President Joe Biden and Flor...</td>\n",
       "    </tr>\n",
       "    <tr>\n",
       "      <th>424</th>\n",
       "      <td>https://thenevadaindependent.com/article/in-vi...</td>\n",
       "      <td>True</td>\n",
       "      <td>Hours before Republican Florida Gov. Ron DeSan...</td>\n",
       "    </tr>\n",
       "  </tbody>\n",
       "</table>\n",
       "<p>425 rows × 3 columns</p>\n",
       "</div>"
      ],
      "text/plain": [
       "                                                  Link  Element Exists  \\\n",
       "0    https://thenevadaindependent.com/article/as-un...           False   \n",
       "1    https://thenevadaindependent.com/article/despi...            True   \n",
       "2    https://thenevadaindependent.com/article/analy...            True   \n",
       "3    https://thenevadaindependent.com/article/trump...            True   \n",
       "4    https://thenevadaindependent.com/article/whats...            True   \n",
       "..                                                 ...             ...   \n",
       "420  https://thenevadaindependent.com/article/rosen...            True   \n",
       "421  https://thenevadaindependent.com/article/indy-...            True   \n",
       "422  https://thenevadaindependent.com/article/how-m...            True   \n",
       "423  https://thenevadaindependent.com/article/d-c-d...            True   \n",
       "424  https://thenevadaindependent.com/article/in-vi...            True   \n",
       "\n",
       "                                            Plain Text  \n",
       "0    Benefit programs that have buoyed hundreds of ...  \n",
       "1    By Graham Lee Brewer, Associated Press OKLAHOM...  \n",
       "2    Editor's Note: We recommend using Google Chrom...  \n",
       "3    Elias Benjelloun’s parents were issued their d...  \n",
       "4    Ace Acosta, who, on top of his job as a food m...  \n",
       "..                                                 ...  \n",
       "420  Sen. Jacky Rosen (D-NV) officially announced h...  \n",
       "421  Although Florida Gov. Ron DeSantis has yet to ...  \n",
       "422  When President Joe Biden delivered his State o...  \n",
       "423  In the last week, President Joe Biden and Flor...  \n",
       "424  Hours before Republican Florida Gov. Ron DeSan...  \n",
       "\n",
       "[425 rows x 3 columns]"
      ]
     },
     "execution_count": 4,
     "metadata": {},
     "output_type": "execute_result"
    }
   ],
   "source": [
    "df"
   ]
  },
  {
   "cell_type": "code",
   "execution_count": 5,
   "id": "b848339e-1f6d-4a03-9ade-ff1f228944b5",
   "metadata": {},
   "outputs": [],
   "source": [
    "# just one article that is misscrapped\n",
    "# remove it\n",
    "\n",
    "df = df.iloc[1:,]"
   ]
  },
  {
   "cell_type": "code",
   "execution_count": 8,
   "id": "dbbc4405-cd01-40d4-b1d5-ea68b7616b70",
   "metadata": {},
   "outputs": [
    {
     "data": {
      "text/plain": [
       "True"
      ]
     },
     "execution_count": 8,
     "metadata": {},
     "output_type": "execute_result"
    }
   ],
   "source": [
    "sum(df[\"Element Exists\"]) == len(df)"
   ]
  },
  {
   "cell_type": "code",
   "execution_count": 9,
   "id": "065e3e47-83f5-4fd0-ab51-6b7fe4aee28a",
   "metadata": {},
   "outputs": [],
   "source": [
    "# Save the DataFrame to a CSV file\n",
    "df.to_csv(\"link_verification_with_text_cleaned.csv\", index=False)"
   ]
  }
 ],
 "metadata": {
  "kernelspec": {
   "display_name": "1347env",
   "language": "python",
   "name": "1347env"
  },
  "language_info": {
   "codemirror_mode": {
    "name": "ipython",
    "version": 3
   },
   "file_extension": ".py",
   "mimetype": "text/x-python",
   "name": "python",
   "nbconvert_exporter": "python",
   "pygments_lexer": "ipython3",
   "version": "3.12.2"
  }
 },
 "nbformat": 4,
 "nbformat_minor": 5
}
