{
 "cells": [
  {
   "cell_type": "code",
   "execution_count": 32,
   "id": "d70f64d6-73eb-4a08-aef2-92594acede7c",
   "metadata": {},
   "outputs": [],
   "source": [
    "with open(\"secret_claude_key.txt\", 'r') as file:\n",
    "    secret_key = file.read().strip()"
   ]
  },
  {
   "cell_type": "code",
   "execution_count": 7,
   "id": "afb1a430-1155-43b9-976e-99e62098c28a",
   "metadata": {},
   "outputs": [
    {
     "data": {
      "text/html": [
       "<div>\n",
       "<style scoped>\n",
       "    .dataframe tbody tr th:only-of-type {\n",
       "        vertical-align: middle;\n",
       "    }\n",
       "\n",
       "    .dataframe tbody tr th {\n",
       "        vertical-align: top;\n",
       "    }\n",
       "\n",
       "    .dataframe thead th {\n",
       "        text-align: right;\n",
       "    }\n",
       "</style>\n",
       "<table border=\"1\" class=\"dataframe\">\n",
       "  <thead>\n",
       "    <tr style=\"text-align: right;\">\n",
       "      <th></th>\n",
       "      <th>Link</th>\n",
       "      <th>Element Exists</th>\n",
       "      <th>Plain Text</th>\n",
       "    </tr>\n",
       "  </thead>\n",
       "  <tbody>\n",
       "    <tr>\n",
       "      <th>0</th>\n",
       "      <td>https://thenevadaindependent.com/article/despi...</td>\n",
       "      <td>True</td>\n",
       "      <td>By Graham Lee Brewer, Associated Press OKLAHOM...</td>\n",
       "    </tr>\n",
       "    <tr>\n",
       "      <th>1</th>\n",
       "      <td>https://thenevadaindependent.com/article/analy...</td>\n",
       "      <td>True</td>\n",
       "      <td>Editor's Note: We recommend using Google Chrom...</td>\n",
       "    </tr>\n",
       "    <tr>\n",
       "      <th>2</th>\n",
       "      <td>https://thenevadaindependent.com/article/trump...</td>\n",
       "      <td>True</td>\n",
       "      <td>Elias Benjelloun’s parents were issued their d...</td>\n",
       "    </tr>\n",
       "    <tr>\n",
       "      <th>3</th>\n",
       "      <td>https://thenevadaindependent.com/article/whats...</td>\n",
       "      <td>True</td>\n",
       "      <td>Ace Acosta, who, on top of his job as a food m...</td>\n",
       "    </tr>\n",
       "    <tr>\n",
       "      <th>4</th>\n",
       "      <td>https://thenevadaindependent.com/article/nevad...</td>\n",
       "      <td>True</td>\n",
       "      <td>Nevada Secretary of State Cisco Aguilar on Thu...</td>\n",
       "    </tr>\n",
       "  </tbody>\n",
       "</table>\n",
       "</div>"
      ],
      "text/plain": [
       "                                                Link  Element Exists  \\\n",
       "0  https://thenevadaindependent.com/article/despi...            True   \n",
       "1  https://thenevadaindependent.com/article/analy...            True   \n",
       "2  https://thenevadaindependent.com/article/trump...            True   \n",
       "3  https://thenevadaindependent.com/article/whats...            True   \n",
       "4  https://thenevadaindependent.com/article/nevad...            True   \n",
       "\n",
       "                                          Plain Text  \n",
       "0  By Graham Lee Brewer, Associated Press OKLAHOM...  \n",
       "1  Editor's Note: We recommend using Google Chrom...  \n",
       "2  Elias Benjelloun’s parents were issued their d...  \n",
       "3  Ace Acosta, who, on top of his job as a food m...  \n",
       "4  Nevada Secretary of State Cisco Aguilar on Thu...  "
      ]
     },
     "execution_count": 7,
     "metadata": {},
     "output_type": "execute_result"
    }
   ],
   "source": [
    "import pandas as pd\n",
    "\n",
    "df = pd.read_csv(\"link_verification_with_text_cleaned.csv\")\n",
    "df.head()"
   ]
  },
  {
   "cell_type": "code",
   "execution_count": 33,
   "id": "a29ca5dd-b778-4df9-b982-8f4c390a33f3",
   "metadata": {},
   "outputs": [],
   "source": [
    "import anthropic\n",
    "\n",
    "client = anthropic.Anthropic(\n",
    "    # defaults to os.environ.get(\"ANTHROPIC_API_KEY\")\n",
    "    api_key=secret_key,\n",
    ")"
   ]
  },
  {
   "cell_type": "code",
   "execution_count": 38,
   "id": "464ec081-1285-4a2b-b7ca-27adb48600a3",
   "metadata": {},
   "outputs": [],
   "source": [
    "# Define a function to analyze each article\n",
    "def analyze_article(news_article):\n",
    "    \"\"\"\n",
    "    Sends a news article to the Anthropic API for political analysis and categorization.\n",
    "    \"\"\"\n",
    "    try:\n",
    "        # Define the message to send to the Anthropic assistant\n",
    "        message = client.messages.create(\n",
    "            model=\"claude-3-5-sonnet-20241022\",\n",
    "            max_tokens=1000,\n",
    "            temperature=0,\n",
    "            messages=[\n",
    "                {\n",
    "                    \"role\": \"user\",\n",
    "                    \"content\": [\n",
    "                        {\n",
    "                            \"type\": \"text\",\n",
    "                            \"text\": f\"You are a skilled political analyst tasked with analyzing a news article to determine which political group would be most satisfied with its content and what category the news belongs to. Your analysis should be impartial and based solely on the provided content.\\n\\nHere is the news article you need to analyze:\\n\\n<{news_article}>\\n{{news_article}}\\n</news_article>\\n\\nPlease follow these steps in your analysis:\\n\\n1. Read the news article carefully.\\n2. Analyze the content for political bias, tone, and implications that might appeal to a specific political group.\\n3. Determine which of the following groups would be most satisfied with the article's content:\\n   - Republican\\n   - Democrat\\n   - Neutral (if the article appears unbiased or equally satisfying/unsatisfying to both major parties)\\n4. Categorize the news article into one of the following topics:\\n   - Traits (referring to traits of candidates)\\n   - Economy\\n   - Domestic policy\\n   - Defense\\n   - Foreign policy\\n\\n5. Provide your analysis inside <political_breakdown> tags, considering the following:\\n   a. List and quote key statements that might indicate political leaning, categorizing them as Republican-leaning, Democrat-leaning, or Neutral.\\n   b. Analyze the tone and language used in the article.\\n   c. Consider the presentation of facts and any potential omissions.\\n   d. Identify key topics or themes in the article that relate to the given categories.\\n   e. Summarize your findings before making a final decision.\\n\\n6. After your analysis, provide your final output in the following format:\\n\\n<political_analysis>\\n[Your detailed analysis of the article's political implications]\\n</political_analysis>\\n\\n<response>\\n[Single word: Republican, Democrat, or Neutral]\\n</response>\\n\\n<category>\\n[Single word: Traits, Economy, DomesticPolicy, Defense, or ForeignPolicy]\\n</category>\\n\\nRemember, your <response> and <category> must each be a single word to facilitate processing of large numbers of articles.\"\n",
    "                        }\n",
    "                    ]\n",
    "                },\n",
    "                {\n",
    "                    \"role\": \"assistant\",\n",
    "                    \"content\": [\n",
    "                        {\n",
    "                            \"type\": \"text\",\n",
    "                            \"text\": \"<political_breakdown>\"\n",
    "                        }\n",
    "                    ]\n",
    "                }\n",
    "            ]\n",
    "        )\n",
    "        # Extract the response content\n",
    "        return message.content\n",
    "    except Exception as e:\n",
    "        # Handle any errors gracefully\n",
    "        return f\"Error: {e}\""
   ]
  },
  {
   "cell_type": "code",
   "execution_count": 40,
   "id": "2d0ffda7-37cb-4223-a202-2d626f15d8f5",
   "metadata": {},
   "outputs": [],
   "source": [
    "# test one article\n",
    "result = analyze_article(df[\"Plain Text\"].iloc[0])"
   ]
  },
  {
   "cell_type": "code",
   "execution_count": 42,
   "id": "a5e8e121-16c1-42eb-be05-c0b597648fd4",
   "metadata": {},
   "outputs": [
    {
     "data": {
      "text/plain": [
       "'\\nKey statements analysis:\\n\\nDemocrat-leaning statements:\\n- \"systemic barriers to voting on tribal lands contribute to substantial disparities in Native American turnout\"\\n- \"voters were denied the ability to vote using their tribal IDs in several places\"\\n- Discussion of voting access barriers and their negative impact\\n- Emphasis on need for Native American Voting Rights Act\\n\\nRepublican-leaning statements:\\n- None significant\\n\\nNeutral statements:\\n- Statistical data and research findings\\n- Description of Nevada\\'s voting systems\\n- Discussion of data collection challenges\\n\\nTone Analysis:\\nThe article maintains a scholarly tone, focusing on research findings and factual reporting. However, the emphasis on voting barriers and disparities aligns more closely with traditional Democratic Party concerns about voting access and minority rights.\\n\\nLanguage Analysis:\\nUses terms like \"systemic barriers,\" \"disparities,\" and \"inequities\" which are more commonly associated with Democratic Party discourse on voting rights.\\n\\nPresentation of Facts:\\n- Relies heavily on academic research\\n- Includes multiple data points and statistics\\n- Presents solutions implemented in Nevada\\n- Discusses challenges in data collection\\n- Focuses on structural issues affecting Native American voting\\n\\nKey Themes:\\n- Voting rights\\n- Electoral access\\n- Tribal sovereignty\\n- Institutional barriers\\n- Electoral reform\\n\\nThe article focuses primarily on domestic policy issues related to voting rights and access, specifically concerning Native American communities. While maintaining professional journalistic standards, the content and framing of the issues align more closely with Democratic Party priorities regarding voting rights and minority electoral participation.\\n</political_breakdown>\\n\\n<political_analysis>\\nThe article would most satisfy Democratic readers as it highlights voting access issues affecting minority communities, advocates for expanded voting rights, and discusses systemic barriers - all key Democratic Party priorities. While factually presented, the focus on expanding voting access and addressing institutional barriers to minority voting participation aligns with Democratic policy positions and messaging.\\n</political_analysis>\\n\\n<response>\\nDemocrat\\n</response>\\n\\n<category>\\nDomesticPolicy\\n</category>'"
      ]
     },
     "execution_count": 42,
     "metadata": {},
     "output_type": "execute_result"
    }
   ],
   "source": [
    "result[0].text"
   ]
  },
  {
   "cell_type": "code",
   "execution_count": 44,
   "id": "c1898c91-3764-4e54-9a12-d7b777406a4d",
   "metadata": {},
   "outputs": [
    {
     "data": {
      "text/plain": [
       "0    By Graham Lee Brewer, Associated Press OKLAHOM...\n",
       "1    Editor's Note: We recommend using Google Chrom...\n",
       "2    Elias Benjelloun’s parents were issued their d...\n",
       "3    Ace Acosta, who, on top of his job as a food m...\n",
       "4    Nevada Secretary of State Cisco Aguilar on Thu...\n",
       "5    Culture war issues centered in the Clark Count...\n",
       "6    By Nicholas Riccardi, Associated Press The 202...\n",
       "7    The wind was gusting outside the South Valleys...\n",
       "8    A presidential candidate with a unique ability...\n",
       "9    Officials in Nevada’s two most populous counti...\n",
       "Name: Plain Text, dtype: object"
      ]
     },
     "execution_count": 44,
     "metadata": {},
     "output_type": "execute_result"
    }
   ],
   "source": [
    "# let's experiment with batches\n",
    "# take the first 10 articles\n",
    "articles = df[\"Plain Text\"].iloc[0:10]\n",
    "articles"
   ]
  },
  {
   "cell_type": "code",
   "execution_count": 45,
   "id": "ffc99c3d-1603-4da8-828d-2b75fc8bec7f",
   "metadata": {},
   "outputs": [
    {
     "name": "stdout",
     "output_type": "stream",
     "text": [
      "BetaMessageBatch(id='msgbatch_01UXdfJWf4tEVgSA3ZKUS33a', archived_at=None, cancel_initiated_at=None, created_at=datetime.datetime(2024, 12, 10, 0, 17, 10, 630839, tzinfo=datetime.timezone.utc), ended_at=None, expires_at=datetime.datetime(2024, 12, 11, 0, 17, 10, 630839, tzinfo=datetime.timezone.utc), processing_status='in_progress', request_counts=BetaMessageBatchRequestCounts(canceled=0, errored=0, expired=0, processing=10, succeeded=0), results_url=None, type='message_batch')\n"
     ]
    }
   ],
   "source": [
    "def make_request(news_article, id):\n",
    "    return {\n",
    "        \"custom_id\": str(id),\n",
    "        \"params\": {\n",
    "            \"model\": \"claude-3-5-sonnet-20241022\",\n",
    "            \"max_tokens\": 1000,\n",
    "            \"temperature\": 0,\n",
    "            \"messages\": [\n",
    "                {\n",
    "                    \"role\": \"user\",\n",
    "                    \"content\": [\n",
    "                        {\n",
    "                            \"type\": \"text\",\n",
    "                            \"text\": f\"You are a skilled political analyst tasked with analyzing a news article to determine which political group would be most satisfied with its content and what category the news belongs to. Your analysis should be impartial and based solely on the provided content.\\n\\nHere is the news article you need to analyze:\\n\\n<news_article>\\n{news_article}\\n</news_article>\\n\\nPlease follow these steps in your analysis:\\n\\n1. Read the news article carefully.\\n2. Analyze the content for political bias, tone, and implications that might appeal to a specific political group.\\n3. Determine which of the following groups would be most satisfied with the article's content:\\n   - Republican\\n   - Democrat\\n   - Neutral (if the article appears unbiased or equally satisfying/unsatisfying to both major parties)\\n4. Categorize the news article into one of the following topics:\\n   - Traits (referring to traits of candidates)\\n   - Economy\\n   - Domestic policy\\n   - Defense\\n   - Foreign policy\\n\\n5. Provide your analysis inside <political_breakdown> tags, considering the following:\\n   a. List and quote key statements that might indicate political leaning, categorizing them as Republican-leaning, Democrat-leaning, or Neutral.\\n   b. Analyze the tone and language used in the article.\\n   c. Consider the presentation of facts and any potential omissions.\\n   d. Identify key topics or themes in the article that relate to the given categories.\\n   e. Summarize your findings before making a final decision.\\n\\n6. After your analysis, provide your final output in the following format:\\n\\n<political_analysis>\\n[Your detailed analysis of the article's political implications]\\n</political_analysis>\\n\\n<response>\\n[Single word: Republican, Democrat, or Neutral]\\n</response>\\n\\n<category>\\n[Single word: Traits, Economy, DomesticPolicy, Defense, or ForeignPolicy]\\n</category>\\n\\nRemember, your <response> and <category> must each be a single word to facilitate processing of large numbers of articles.\"\n",
    "                        }\n",
    "                    ]\n",
    "                },\n",
    "                {\n",
    "                    \"role\": \"assistant\",\n",
    "                    \"content\": [\n",
    "                        {\n",
    "                            \"type\": \"text\",\n",
    "                            \"text\": \"<political_breakdown>\"\n",
    "                        }\n",
    "                    ]\n",
    "                }\n",
    "            ]\n",
    "        }\n",
    "    }\n",
    "\n",
    "message_batch = client.beta.messages.batches.create(\n",
    "    requests=[\n",
    "        make_request(article, id) for id, article in enumerate(articles)\n",
    "    ]\n",
    ")\n",
    "print(message_batch)"
   ]
  },
  {
   "cell_type": "code",
   "execution_count": 46,
   "id": "c8aeae8c-efcc-4aeb-be41-9f8efa797b48",
   "metadata": {},
   "outputs": [],
   "source": [
    "# works!\n",
    "# let's do it for all\n",
    "articles = df[\"Plain Text\"]\n",
    "\n",
    "message_batch = client.beta.messages.batches.create(\n",
    "    requests=[\n",
    "        make_request(article, id) for id, article in enumerate(articles)\n",
    "    ]\n",
    ")"
   ]
  }
 ],
 "metadata": {
  "kernelspec": {
   "display_name": "1347env",
   "language": "python",
   "name": "1347env"
  },
  "language_info": {
   "codemirror_mode": {
    "name": "ipython",
    "version": 3
   },
   "file_extension": ".py",
   "mimetype": "text/x-python",
   "name": "python",
   "nbconvert_exporter": "python",
   "pygments_lexer": "ipython3",
   "version": "3.12.2"
  }
 },
 "nbformat": 4,
 "nbformat_minor": 5
}
