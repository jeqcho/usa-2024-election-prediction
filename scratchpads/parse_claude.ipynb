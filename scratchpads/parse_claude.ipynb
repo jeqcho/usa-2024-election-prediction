{
 "cells": [
  {
   "cell_type": "code",
   "execution_count": 55,
   "id": "88398228-2593-4d4f-9b99-b54add901597",
   "metadata": {},
   "outputs": [],
   "source": [
    "import pandas as pd\n",
    "\n",
    "df = pd.read_csv(\"link_verification_with_text_cleaned.csv\")"
   ]
  },
  {
   "cell_type": "code",
   "execution_count": 56,
   "id": "b5799845-38f8-48cc-b10a-3313f479e986",
   "metadata": {},
   "outputs": [
    {
     "data": {
      "text/plain": [
       "424"
      ]
     },
     "execution_count": 56,
     "metadata": {},
     "output_type": "execute_result"
    }
   ],
   "source": [
    "len(df)"
   ]
  },
  {
   "cell_type": "code",
   "execution_count": 57,
   "id": "45fda7ba-1408-47d9-abd3-240ec314c40a",
   "metadata": {},
   "outputs": [],
   "source": [
    "import json\n",
    "\n",
    "id_to_text = [''] * len(df)\n",
    "\n",
    "with open(\"claude_results.jsonl\", 'r') as file:\n",
    "    for line in file:\n",
    "        result = json.loads(line)\n",
    "        id_to_text[int(result['custom_id'])] = result['result']"
   ]
  },
  {
   "cell_type": "code",
   "execution_count": 58,
   "id": "aefdd48d-7435-4913-99f0-b1ec1917e818",
   "metadata": {},
   "outputs": [
    {
     "data": {
      "text/plain": [
       "{'type': 'succeeded',\n",
       " 'message': {'id': 'msg_01DwiHSKNSzCbcEUaDDSJK6U',\n",
       "  'type': 'message',\n",
       "  'role': 'assistant',\n",
       "  'model': 'claude-3-5-sonnet-20241022',\n",
       "  'content': [{'type': 'text',\n",
       "    'text': '\\nKey statements analysis:\\n\\nDemocrat-leaning statements:\\n- \"systemic barriers to voting on tribal lands contribute to substantial disparities in Native American turnout\"\\n- \"voters were denied the ability to vote using their tribal IDs in several places\"\\n- Discussion of voting access barriers and their negative impact\\n- Emphasis on need for Native American Voting Rights Act\\n\\nRepublican-leaning statements:\\n- None significant\\n\\nNeutral statements:\\n- Statistical data and research findings\\n- Description of Nevada\\'s voting systems\\n- Discussion of data collection challenges\\n\\nTone Analysis:\\nThe article maintains a scholarly tone, focusing on research findings and factual reporting. However, the emphasis on voting barriers and disparities aligns more closely with traditional Democratic Party concerns about voting access and minority rights.\\n\\nLanguage Analysis:\\nUses terms like \"systemic barriers,\" \"disparities,\" and \"inequities\" which are more commonly associated with Democratic Party discourse on voting rights.\\n\\nPresentation of Facts:\\n- Relies heavily on academic research\\n- Includes multiple data points and statistics\\n- Presents solutions primarily focused on increasing access to voting\\n- Discusses challenges faced by Native American voters\\n\\nKey Themes:\\n- Voting rights\\n- Electoral access\\n- Tribal sovereignty\\n- Systemic inequalities\\n- Electoral participation\\n\\nSummary:\\nWhile the article maintains professional journalistic standards, its focus on voting access barriers and support for expanded voting rights legislation aligns more closely with Democratic Party priorities. The article\\'s emphasis on addressing systemic inequalities and expanding voting access through legislative action is consistent with Democratic Party positions on voting rights.\\n</political_breakdown>\\n\\n<response>\\nDemocrat\\n</response>\\n\\n<category>\\nDomesticPolicy\\n</category>'}],\n",
       "  'stop_reason': 'end_turn',\n",
       "  'stop_sequence': None,\n",
       "  'usage': {'input_tokens': 2063, 'output_tokens': 368}}}"
      ]
     },
     "execution_count": 58,
     "metadata": {},
     "output_type": "execute_result"
    }
   ],
   "source": [
    "id_to_text[0]"
   ]
  },
  {
   "cell_type": "code",
   "execution_count": 59,
   "id": "d9b49ad1-50ef-425d-bdcd-7ae5911bd5f3",
   "metadata": {},
   "outputs": [
    {
     "data": {
      "text/plain": [
       "1"
      ]
     },
     "execution_count": 59,
     "metadata": {},
     "output_type": "execute_result"
    }
   ],
   "source": [
    "len(id_to_text[0]['message']['content'])"
   ]
  },
  {
   "cell_type": "code",
   "execution_count": 60,
   "id": "04d3c7a2-2f94-4be6-a626-c1f8ad58e2a1",
   "metadata": {},
   "outputs": [],
   "source": [
    "df[\"text\"] = [x['message']['content'][0]['text'] for x in id_to_text]"
   ]
  },
  {
   "cell_type": "code",
   "execution_count": 61,
   "id": "ec403b69-0356-43e1-9323-cc8f3827971d",
   "metadata": {},
   "outputs": [],
   "source": [
    "import re\n",
    "\n",
    "# Regex pattern\n",
    "pattern = r\"<response>\\s*(Democrat|Republican|Neutral)\\s*</response>\"\n",
    "\n",
    "df[\"response\"] = [re.search(pattern, x).group(1) for x in text]"
   ]
  },
  {
   "cell_type": "code",
   "execution_count": 62,
   "id": "7e9dc015-91fc-4ccf-89d3-97d4e6002999",
   "metadata": {},
   "outputs": [],
   "source": [
    "pattern = r\"<category>\\s*(Traits|Economy|DomesticPolicy|Defense|ForeignPolicy)\\s*</category>\"\n",
    "\n",
    "df[\"category\"] = [re.search(pattern, x).group(1) for x in text]"
   ]
  },
  {
   "cell_type": "code",
   "execution_count": 65,
   "id": "0203b47a-ea1f-4c27-a0fa-7709192e21ed",
   "metadata": {},
   "outputs": [
    {
     "data": {
      "text/plain": [
       "array(['Democrat', 'Neutral', 'Republican'], dtype=object)"
      ]
     },
     "execution_count": 65,
     "metadata": {},
     "output_type": "execute_result"
    }
   ],
   "source": [
    "# check that responses are ok\n",
    "df[\"response\"].unique()"
   ]
  },
  {
   "cell_type": "code",
   "execution_count": 66,
   "id": "91666a94-a018-4e82-8a11-8d32e7c46d5f",
   "metadata": {},
   "outputs": [
    {
     "data": {
      "text/plain": [
       "array(['DomesticPolicy', 'Economy', 'Traits', 'Defense', 'ForeignPolicy'],\n",
       "      dtype=object)"
      ]
     },
     "execution_count": 66,
     "metadata": {},
     "output_type": "execute_result"
    }
   ],
   "source": [
    "df[\"category\"].unique()"
   ]
  },
  {
   "cell_type": "code",
   "execution_count": 72,
   "id": "1840f2de-29a5-47ad-9e44-69863d8515c0",
   "metadata": {},
   "outputs": [],
   "source": [
    "# verification success\n",
    "# now we export this\n",
    "df.to_csv(\"../content/post/data/claude_results_cleaned.csv\")"
   ]
  }
 ],
 "metadata": {
  "kernelspec": {
   "display_name": "1347env",
   "language": "python",
   "name": "1347env"
  },
  "language_info": {
   "codemirror_mode": {
    "name": "ipython",
    "version": 3
   },
   "file_extension": ".py",
   "mimetype": "text/x-python",
   "name": "python",
   "nbconvert_exporter": "python",
   "pygments_lexer": "ipython3",
   "version": "3.12.2"
  }
 },
 "nbformat": 4,
 "nbformat_minor": 5
}
